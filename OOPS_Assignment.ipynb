{
 "cells": [
  {
   "cell_type": "markdown",
   "id": "0ef5cc9d-951a-4ffc-bb6f-d6cfb777d2ff",
   "metadata": {},
   "source": [
    "                                                                         ******OOPS ASSIGNMENT- 2******"
   ]
  },
  {
   "cell_type": "markdown",
   "id": "c899069c-ceb8-40a5-a5a1-63faa55198e6",
   "metadata": {},
   "source": [
    "                                                                               Name - Abdul Kalam\n",
    "                                                                                  7June 2003\n",
    "                                                                                  8127379352"
   ]
  },
  {
   "cell_type": "markdown",
   "id": "8700367d-8af6-47e2-b3fc-4f850d5cd88b",
   "metadata": {},
   "source": [
    "* Constructor:-"
   ]
  },
  {
   "cell_type": "markdown",
   "id": "1dc8de51-bb59-43db-8207-3a21d83fc89b",
   "metadata": {},
   "source": [
    "Ques1. What is a constructor in Python? Explain its purpose and usage."
   ]
  },
  {
   "cell_type": "markdown",
   "id": "607b3a06-3130-4ce2-a5ca-a09078e23121",
   "metadata": {
    "tags": []
   },
   "source": [
    "Ans1. In Python, a constructor is a special method used for initializing new objects. The constructor method is defined using the __init__ method within a class\n",
    "\n",
    "$ Purpose of Constructor:-\n",
    "* Initialization: The primary purpose of a constructor is to initialize the newly created object's attributes with specific values.\n",
    "* Setup: Perform any setup procedures required when an object is created, such as opening files, establishing database connections, or allocating resources.\n",
    "* Encapsulation: By using constructors, you can ensure that objects are properly initialized with valid data, encapsulating the internal state and enforcing invariants.\n",
    "\n",
    "$ Usage of a Constructor:- \n",
    "* The __init__ method is defined within a class and takes self as its first parameter, which refers to the instance being created\n",
    "\n",
    "Example :-"
   ]
  },
  {
   "cell_type": "code",
   "execution_count": 1,
   "id": "f05735c2-2166-4a42-bce5-423000b61ffa",
   "metadata": {},
   "outputs": [
    {
     "name": "stdout",
     "output_type": "stream",
     "text": [
      "Alice\n",
      "30\n"
     ]
    }
   ],
   "source": [
    "class Person:\n",
    "    def __init__(self, name, age):\n",
    "        self.name = name\n",
    "        self.age = age\n",
    "\n",
    "person1 = Person(\"Alice\", 30)\n",
    "print(person1.name)  \n",
    "print(person1.age)   "
   ]
  },
  {
   "cell_type": "markdown",
   "id": "c1308c27-ad9c-47eb-a63c-9c23c9a1314f",
   "metadata": {},
   "source": [
    "COMPLETED///////////////"
   ]
  },
  {
   "cell_type": "markdown",
   "id": "285d5e23-69ee-4d94-8251-7cc154067531",
   "metadata": {},
   "source": [
    "Ques2. Differentiate between a parameterless constructor and a parameterized constructor in Python."
   ]
  },
  {
   "cell_type": "markdown",
   "id": "531ec116-a2bb-4751-8943-71c6693cd823",
   "metadata": {},
   "source": [
    "Ans2. $ Parameterless Constructor"
   ]
  },
  {
   "cell_type": "code",
   "execution_count": 2,
   "id": "283e07cc-c69e-4417-9ecf-dd8ce9db85ac",
   "metadata": {},
   "outputs": [
    {
     "name": "stdout",
     "output_type": "stream",
     "text": [
      "Unknown\n",
      "0\n"
     ]
    }
   ],
   "source": [
    "class Person:\n",
    "    def __init__(self):\n",
    "        self.name = \"Unknown\"\n",
    "        self.age = 0\n",
    "\n",
    "person1 = Person()\n",
    "\n",
    "print(person1.name)  \n",
    "print(person1.age)   "
   ]
  },
  {
   "cell_type": "markdown",
   "id": "c22e8999-1ccd-40fe-9fe6-f037df1ac070",
   "metadata": {},
   "source": [
    "$ Parameterized Constructor:"
   ]
  },
  {
   "cell_type": "code",
   "execution_count": 3,
   "id": "fd81fb0c-16e1-49ec-ba72-ab3e0b5fde1e",
   "metadata": {},
   "outputs": [
    {
     "name": "stdout",
     "output_type": "stream",
     "text": [
      "Abdul 21\n",
      "Gyanvi 16\n"
     ]
    }
   ],
   "source": [
    "class Person:\n",
    "    def __init__(self, name, age):\n",
    "        self.name = name\n",
    "        self.age = age\n",
    "\n",
    "person1 = Person(\"Abdul\", 21)\n",
    "person2 = Person(\"Gyanvi\", 16)\n",
    "\n",
    "print(person1.name, person1.age)  \n",
    "print(person2.name, person2.age)  "
   ]
  },
  {
   "cell_type": "markdown",
   "id": "33bcb1b4-b16e-47db-9aa0-000b458abb50",
   "metadata": {},
   "source": [
    "COMPLETED/////////////////"
   ]
  },
  {
   "cell_type": "markdown",
   "id": "6915da0a-9e05-46a4-bb5e-387ec87b62fb",
   "metadata": {},
   "source": [
    "Ques3. How do you define a constructor in a Python class? Provide an example."
   ]
  },
  {
   "cell_type": "markdown",
   "id": "9f2bc5c4-34c1-41fe-9801-21adc4cafd0a",
   "metadata": {},
   "source": [
    "Ans3. Constructors are defined using a special method called __init__() within a class. This method is automatically called when an object of the class is created.\n",
    "\n",
    "Example:-"
   ]
  },
  {
   "cell_type": "code",
   "execution_count": 4,
   "id": "a3ae2e8f-ca10-4cb9-be4e-5693d3116f3e",
   "metadata": {},
   "outputs": [
    {
     "name": "stdout",
     "output_type": "stream",
     "text": [
      "Abdul Kalam\n",
      "21\n"
     ]
    }
   ],
   "source": [
    "class Person:\n",
    "    def __init__(self, name, age):\n",
    "        \n",
    "        self.name = name\n",
    "        self.age = age\n",
    "\n",
    "person1 = Person(\"Abdul Kalam\", 21)\n",
    "\n",
    "print(person1.name)  \n",
    "print(person1.age)   \n"
   ]
  },
  {
   "cell_type": "markdown",
   "id": "da0e00af-3cd0-459c-b226-13fd6388bd83",
   "metadata": {},
   "source": [
    "COMPLETED//////////////////////"
   ]
  },
  {
   "cell_type": "markdown",
   "id": "3431e35b-696b-4d90-a710-4013d785246d",
   "metadata": {},
   "source": [
    "Ques4. Explain the `__init__` method in Python and its role in constructors."
   ]
  },
  {
   "cell_type": "code",
   "execution_count": 5,
   "id": "92c2f7c0-00c1-47fc-a254-d82c935764f2",
   "metadata": {},
   "outputs": [
    {
     "name": "stdout",
     "output_type": "stream",
     "text": [
      "Gyanvi Kaushal\n",
      "16\n"
     ]
    }
   ],
   "source": [
    "class Person:\n",
    "    def __init__(self, name, age):\n",
    "        self.name = name\n",
    "        self.age = age\n",
    "person1 = Person(\"Gyanvi Kaushal\", 16)\n",
    "print(person1.name)  \n",
    "print(person1.age)   "
   ]
  },
  {
   "cell_type": "markdown",
   "id": "8347797f-220d-46c8-92bd-699f4bbfaf05",
   "metadata": {},
   "source": [
    "COMPLETED///////////////////"
   ]
  },
  {
   "cell_type": "markdown",
   "id": "ffc63635-175f-4785-9bcc-7b6587f56dff",
   "metadata": {},
   "source": [
    "Ques5. In a class named `Person`, create a constructor that initializes the `name` and `age` attributes. Provide an\n",
    "example of creating an object of this class."
   ]
  },
  {
   "cell_type": "code",
   "execution_count": 6,
   "id": "fcd8738e-6501-4bb7-894c-4e3363907820",
   "metadata": {},
   "outputs": [
    {
     "name": "stdout",
     "output_type": "stream",
     "text": [
      "Gyanvi\n",
      "16\n"
     ]
    }
   ],
   "source": [
    "# Ans5.  The __init__() method is a special method used for initializing newly created objects.  Example:-\n",
    "class Person:\n",
    "    def __init__(self, name, age):\n",
    "        self.name = name\n",
    "        self.age = age\n",
    "\n",
    "person1 = Person(\"Gyanvi\", 16)\n",
    "print(person1.name) \n",
    "print(person1.age)   "
   ]
  },
  {
   "cell_type": "markdown",
   "id": "83055f13-d75c-44eb-aee3-221e99868b4d",
   "metadata": {},
   "source": [
    "COMPLETED///////////////"
   ]
  },
  {
   "cell_type": "markdown",
   "id": "1074461d-da8e-45c9-ba4a-3ce63a099f20",
   "metadata": {},
   "source": [
    "Ques6. How can you call a constructor explicitly in Python? Give an example."
   ]
  },
  {
   "cell_type": "markdown",
   "id": "1f879735-02d5-4d4c-b8ce-1fd4b69abf3c",
   "metadata": {},
   "source": [
    "Ans6. Calling a constructor explicitly refers to creating an instance of a class by calling the class itself. Typically, constructors are called implicitly when you create an object, but you can also call the constructor explicitly if needed.\n",
    "\n",
    "Example:-"
   ]
  },
  {
   "cell_type": "code",
   "execution_count": 7,
   "id": "78882ecc-2ac7-4834-89be-9ebc9d8904da",
   "metadata": {},
   "outputs": [
    {
     "name": "stdout",
     "output_type": "stream",
     "text": [
      "10\n"
     ]
    }
   ],
   "source": [
    "class ExampleClass:\n",
    "    def __init__(self, value):\n",
    "        self.value = value\n",
    "\n",
    "obj = ExampleClass.__new__(ExampleClass)\n",
    "ExampleClass.__init__(obj, 10)\n",
    "\n",
    "print(obj.value)  "
   ]
  },
  {
   "cell_type": "markdown",
   "id": "ae96f17d-a75a-4952-bf99-d54fc588be39",
   "metadata": {},
   "source": [
    "Ques7. What is the significance of the `self` parameter in Python constructors? Explain with an example."
   ]
  },
  {
   "cell_type": "markdown",
   "id": "ca4bf061-4ccf-464a-9a8d-a30803f4e611",
   "metadata": {},
   "source": [
    "Ans7. The self parameter in Python constructors is a reference to the instance of the class that is being created. It allows the methods, including the constructor (__init__ method), to access attributes and methods of the instance.\n",
    "\n",
    "Example:-"
   ]
  },
  {
   "cell_type": "code",
   "execution_count": 8,
   "id": "8fb5106b-df0a-4015-be9c-3ad8825fc10c",
   "metadata": {},
   "outputs": [
    {
     "name": "stdout",
     "output_type": "stream",
     "text": [
      "Gyanvi\n",
      "16\n",
      "Hello, my name is Gyanvi and I am 16 years old.\n"
     ]
    }
   ],
   "source": [
    "class Person:\n",
    "    def __init__(self, name, age):\n",
    "        self.name = name  \n",
    "        self.age = age    \n",
    "\n",
    "    def greet(self):\n",
    "        print(f\"Hello, my name is {self.name} and I am {self.age} years old.\")\n",
    "\n",
    "\n",
    "person1 = Person(\"Gyanvi\", 16)\n",
    "\n",
    "\n",
    "print(person1.name) \n",
    "print(person1.age)   \n",
    "\n",
    "person1.greet() "
   ]
  },
  {
   "cell_type": "markdown",
   "id": "ac099d61-edc7-4171-9d1e-c7d721656cdc",
   "metadata": {},
   "source": [
    "Completed//////////////////////"
   ]
  },
  {
   "cell_type": "markdown",
   "id": "118fe44d-8f2d-4c15-9c9d-8286413b62e6",
   "metadata": {},
   "source": [
    "Ques8. Discuss the concept of default constructors in Python. When are they used?"
   ]
  },
  {
   "cell_type": "code",
   "execution_count": 9,
   "id": "4383f8b1-e535-465e-a3e4-368e9c8f5d6a",
   "metadata": {},
   "outputs": [
    {
     "name": "stdout",
     "output_type": "stream",
     "text": [
      "10\n"
     ]
    }
   ],
   "source": [
    "class MyClass:\n",
    "    def __init__(self, value):\n",
    "        self.value = value\n",
    "\n",
    "obj = MyClass(10)\n",
    "\n",
    "print(obj.value)  "
   ]
  },
  {
   "cell_type": "markdown",
   "id": "fa9c7b1c-72e8-44ce-abbe-1e1ffee6e51b",
   "metadata": {},
   "source": [
    "Ques9. 9. Create a Python class called `Rectangle` with a constructor that initializes the `width` and `height`\n",
    "attributes. Provide a method to calculate the area of the rectangle.\n"
   ]
  },
  {
   "cell_type": "code",
   "execution_count": 10,
   "id": "7c371978-596b-491c-b96d-a9987a0ce7ca",
   "metadata": {},
   "outputs": [
    {
     "name": "stdout",
     "output_type": "stream",
     "text": [
      "Width: 5, Height: 10\n",
      "Area: 50\n"
     ]
    }
   ],
   "source": [
    "class Rectangle:\n",
    "    def __init__(self, width, height):\n",
    "        self.width = width\n",
    "        self.height = height\n",
    "\n",
    "    def calculate_area(self):\n",
    "        return self.width * self.height\n",
    "\n",
    "rect = Rectangle(5, 10)\n",
    "print(f\"Width: {rect.width}, Height: {rect.height}\")\n",
    "print(f\"Area: {rect.calculate_area()}\")  "
   ]
  },
  {
   "cell_type": "markdown",
   "id": "0b1a6bfc-a324-4573-b079-78d2b80b8006",
   "metadata": {},
   "source": [
    "Ques10. How can you have multiple constructors in a Python class? Explain with an example."
   ]
  },
  {
   "cell_type": "code",
   "execution_count": 11,
   "id": "5609d6ce-28f8-45bf-8c1b-c19c927676ff",
   "metadata": {},
   "outputs": [
    {
     "name": "stdout",
     "output_type": "stream",
     "text": [
      "Width: 5, Height: 10, Area: 50\n",
      "Width: 7, Height: 7, Area: 49\n",
      "Width: 3, Height: 8, Area: 24\n"
     ]
    }
   ],
   "source": [
    "class Rectangle:\n",
    "    def __init__(self, width, height):\n",
    "        self.width = width\n",
    "        self.height = height\n",
    "\n",
    "    @classmethod\n",
    "    def from_square(cls, side_length):\n",
    "        return cls(side_length, side_length)\n",
    "\n",
    "    @classmethod\n",
    "    def from_string(cls, dimensions):\n",
    "        width, height = map(int, dimensions.split('x'))\n",
    "        return cls(width, height)\n",
    "\n",
    "    def calculate_area(self):\n",
    "        return self.width * self.height\n",
    "\n",
    "rect1 = Rectangle(5, 10)\n",
    "print(f\"Width: {rect1.width}, Height: {rect1.height}, Area: {rect1.calculate_area()}\")  \n",
    "\n",
    "square = Rectangle.from_square(7)\n",
    "print(f\"Width: {square.width}, Height: {square.height}, Area: {square.calculate_area()}\")  \n",
    "\n",
    "rect2 = Rectangle.from_string(\"3x8\")\n",
    "print(f\"Width: {rect2.width}, Height: {rect2.height}, Area: {rect2.calculate_area()}\")  "
   ]
  },
  {
   "cell_type": "markdown",
   "id": "b0b5636d-11de-4ba7-a6ae-37d26c8cdfeb",
   "metadata": {},
   "source": [
    "Ques11. What is method overloading, and how is it related to constructors in Python?"
   ]
  },
  {
   "cell_type": "code",
   "execution_count": 12,
   "id": "9bee4d6d-ae90-476b-90cb-49d8ac8f34d2",
   "metadata": {},
   "outputs": [
    {
     "name": "stdout",
     "output_type": "stream",
     "text": [
      "Width: 5, Height: 10, Area: 50\n",
      "Width: 3, Height: 8, Area: 24\n",
      "Width: 7, Height: 7, Area: 49\n"
     ]
    }
   ],
   "source": [
    "class Rectangle:\n",
    "    def __init__(self, width=0, height=0):\n",
    "        if isinstance(width, str):\n",
    "            width, height = map(int, width.split('x'))\n",
    "        self.width = width\n",
    "        self.height = height\n",
    "\n",
    "    @classmethod\n",
    "    def from_square(cls, side_length):\n",
    "        return cls(side_length, side_length)\n",
    "\n",
    "    def calculate_area(self):\n",
    "        return self.width * self.height\n",
    "\n",
    "\n",
    "rect1 = Rectangle(5, 10)\n",
    "print(f\"Width: {rect1.width}, Height: {rect1.height}, Area: {rect1.calculate_area()}\")  \n",
    "\n",
    "\n",
    "rect2 = Rectangle(\"3x8\")\n",
    "print(f\"Width: {rect2.width}, Height: {rect2.height}, Area: {rect2.calculate_area()}\")  \n",
    "\n",
    "\n",
    "square = Rectangle.from_square(7)\n",
    "print(f\"Width: {square.width}, Height: {square.height}, Area: {square.calculate_area()}\")  "
   ]
  },
  {
   "cell_type": "markdown",
   "id": "628d757a-ca6f-453a-8692-94a87fb11e62",
   "metadata": {},
   "source": [
    "Ques12. Explain the use of the `super()` function in Python constructors. Provide an example."
   ]
  },
  {
   "cell_type": "code",
   "execution_count": 13,
   "id": "03cb240e-a380-4298-8252-789208128a21",
   "metadata": {},
   "outputs": [
    {
     "name": "stdout",
     "output_type": "stream",
     "text": [
      "Animal named Buddy is created.\n",
      "Dog of breed Golden Retriever is created.\n",
      "This is Buddy, a Golden Retriever.\n"
     ]
    }
   ],
   "source": [
    "class Animal:\n",
    "    def __init__(self, name):\n",
    "        self.name = name\n",
    "        print(f\"Animal named {self.name} is created.\")\n",
    "\n",
    "class Dog(Animal):\n",
    "    def __init__(self, name, breed):\n",
    "        super().__init__(name)\n",
    "        self.breed = breed\n",
    "        print(f\"Dog of breed {self.breed} is created.\")\n",
    "\n",
    "    def display(self):\n",
    "        print(f\"This is {self.name}, a {self.breed}.\")\n",
    "\n",
    "dog = Dog(\"Buddy\", \"Golden Retriever\")\n",
    "dog.display()"
   ]
  },
  {
   "cell_type": "markdown",
   "id": "5182d9e6-ebbc-49fd-a063-4f03702edbc3",
   "metadata": {},
   "source": [
    "Ques13. Create a class called `Book` with a constructor that initializes the `title`, `author`, and `published_year`\n",
    "attributes. Provide a method to display book details."
   ]
  },
  {
   "cell_type": "code",
   "execution_count": 14,
   "id": "b1e07823-3ea0-4589-a728-54a6141b3cee",
   "metadata": {},
   "outputs": [
    {
     "name": "stdout",
     "output_type": "stream",
     "text": [
      "Title: Corona 2020\n",
      "Author: Abdul Kalam\n",
      "Published Year: 2024\n",
      "Title: 2024 Election\n",
      "Author: Abdul Kalam\n",
      "Published Year: 2024\n"
     ]
    }
   ],
   "source": [
    "class Book:\n",
    "    def __init__(self, title, author, published_year):\n",
    "        self.title = title\n",
    "        self.author = author\n",
    "        self.published_year = published_year\n",
    "\n",
    "    def display_details(self):\n",
    "        print(f\"Title: {self.title}\")\n",
    "        print(f\"Author: {self.author}\")\n",
    "        print(f\"Published Year: {self.published_year}\")\n",
    "\n",
    "\n",
    "book1 = Book(\"Corona 2020\", \"Abdul Kalam\", 2024)\n",
    "book1.display_details()\n",
    "\n",
    "book2 = Book(\"2024 Election\", \"Abdul Kalam\", 2024)\n",
    "book2.display_details()"
   ]
  },
  {
   "cell_type": "markdown",
   "id": "fd2eb737-fc03-4143-ad5f-1e7d1c1d4bb7",
   "metadata": {},
   "source": [
    "Ques14. Discuss the differences between constructors and regular methods in Python classes."
   ]
  },
  {
   "cell_type": "code",
   "execution_count": 15,
   "id": "3077e184-803c-4584-b639-1025e45ff595",
   "metadata": {},
   "outputs": [
    {
     "name": "stdout",
     "output_type": "stream",
     "text": [
      "Title: Freedom Fighters\n",
      "Author: Gyanvi\n",
      "Published Year: 2022\n",
      "Is classic: True\n"
     ]
    }
   ],
   "source": [
    "class Book:\n",
    "    def __init__(self, title, author, published_year):\n",
    "        \n",
    "        self.title = title\n",
    "        self.author = author\n",
    "        self.published_year = published_year\n",
    "\n",
    "    def display_details(self):\n",
    "        print(f\"Title: {self.title}\")\n",
    "        print(f\"Author: {self.author}\")\n",
    "        print(f\"Published Year: {self.published_year}\")\n",
    "\n",
    "    def is_classic(self):\n",
    "\n",
    "        return self.published_year < 2023\n",
    "\n",
    "book1 = Book(\"Freedom Fighters\", \"Gyanvi\", 2022)\n",
    "\n",
    "book1.display_details()\n",
    "print(f\"Is classic: {book1.is_classic()}\")"
   ]
  },
  {
   "cell_type": "markdown",
   "id": "44f76435-66d0-468c-a5fa-fe8119268466",
   "metadata": {},
   "source": [
    "Ques15. Explain the role of the `self` parameter in instance variable initialization within a constructor."
   ]
  },
  {
   "cell_type": "code",
   "execution_count": 16,
   "id": "08ef1437-e714-465f-8be1-1b8d3ab92b0c",
   "metadata": {},
   "outputs": [
    {
     "name": "stdout",
     "output_type": "stream",
     "text": [
      "Title: 1984\n",
      "Author: George Orwell\n",
      "Published Year: 1949\n"
     ]
    }
   ],
   "source": [
    "class Book:\n",
    "    def __init__(self, title, author, published_year):\n",
    "        \n",
    "        self.title = title\n",
    "        self.author = author\n",
    "        self.published_year = published_year\n",
    "\n",
    "    def display_details(self):\n",
    "        \n",
    "        print(f\"Title: {self.title}\")\n",
    "        print(f\"Author: {self.author}\")\n",
    "        print(f\"Published Year: {self.published_year}\")\n",
    "\n",
    "\n",
    "book1 = Book(\"1984\", \"George Orwell\", 1949)\n",
    "\n",
    "book1.display_details()"
   ]
  },
  {
   "cell_type": "markdown",
   "id": "73267f57-6de8-4cdf-ae32-9b01b8b6b774",
   "metadata": {},
   "source": [
    "Ques16. How do you prevent a class from having multiple instances by using constructors in Python? Provide an\n",
    "example."
   ]
  },
  {
   "cell_type": "code",
   "execution_count": 17,
   "id": "30369bbb-7c7c-4594-8d30-f9c2fe35ac59",
   "metadata": {},
   "outputs": [
    {
     "name": "stdout",
     "output_type": "stream",
     "text": [
      "True\n"
     ]
    }
   ],
   "source": [
    "class Singleton:\n",
    "    _instance = None\n",
    "\n",
    "    def __new__(cls):\n",
    "        if cls._instance is None:\n",
    "            cls._instance = super().__new__(cls)\n",
    "        return cls._instance\n",
    "\n",
    "    def __init__(self):\n",
    "        \n",
    "        pass\n",
    "\n",
    "instance1 = Singleton()\n",
    "instance2 = Singleton()\n",
    "\n",
    "print(instance1 is instance2)  "
   ]
  },
  {
   "cell_type": "markdown",
   "id": "d3926b24-96f4-4b2d-a72b-f0b4ba3a1e7c",
   "metadata": {},
   "source": [
    "Ques17. Create a Python class called `Student` with a constructor that takes a list of subjects as a parameter and\n",
    "initializes the `subjects` attribute."
   ]
  },
  {
   "cell_type": "code",
   "execution_count": 18,
   "id": "baeba3fe-a290-4b7e-8a9b-e6911fc60c5f",
   "metadata": {},
   "outputs": [
    {
     "name": "stdout",
     "output_type": "stream",
     "text": [
      "['Math', 'Science', 'History']\n"
     ]
    }
   ],
   "source": [
    "class Student:\n",
    "    def __init__(self, subjects):\n",
    "        self.subjects = subjects\n",
    "\n",
    "subjects_list = ['Math', 'Science', 'History']\n",
    "student1 = Student(subjects_list)\n",
    "\n",
    "print(student1.subjects)  "
   ]
  },
  {
   "cell_type": "markdown",
   "id": "df66fdd8-7007-4aaa-9c18-53cbff184a6d",
   "metadata": {},
   "source": [
    "Ques18. What is the purpose of the `__del__` method in Python classes, and how does it relate to constructors?"
   ]
  },
  {
   "cell_type": "code",
   "execution_count": 19,
   "id": "af19a78a-c86e-4ed2-8f41-3bf03e663ef9",
   "metadata": {},
   "outputs": [
    {
     "name": "stdout",
     "output_type": "stream",
     "text": [
      "Constructor called\n",
      "Destructor called\n"
     ]
    }
   ],
   "source": [
    "class MyClass:\n",
    "    def __init__(self):\n",
    "        print(\"Constructor called\")\n",
    "\n",
    "    def __del__(self):\n",
    "        print(\"Destructor called\")\n",
    "\n",
    "obj = MyClass()\n",
    "del obj"
   ]
  },
  {
   "cell_type": "markdown",
   "id": "33677211-a9f5-4008-9109-31680dfe3015",
   "metadata": {},
   "source": [
    "Ques19. Explain the use of constructor chaining in Python. Provide a practical example."
   ]
  },
  {
   "cell_type": "code",
   "execution_count": 20,
   "id": "c75a869f-089e-48a5-9091-99b5cc5e191c",
   "metadata": {},
   "outputs": [
    {
     "name": "stdout",
     "output_type": "stream",
     "text": [
      "Vehicle constructor called\n",
      "Car constructor called\n",
      "Brand: Toyota\n",
      "Number of wheels: 4\n"
     ]
    }
   ],
   "source": [
    "class Vehicle:\n",
    "    def __init__(self, wheels):\n",
    "        self.wheels = wheels\n",
    "        print(\"Vehicle constructor called\")\n",
    "\n",
    "class Car(Vehicle):\n",
    "    def __init__(self, wheels, brand):\n",
    "        super().__init__(wheels)  \n",
    "        self.brand = brand\n",
    "        print(\"Car constructor called\")\n",
    "\n",
    "my_car = Car(4, \"Toyota\")\n",
    "\n",
    "print(\"Brand:\", my_car.brand)\n",
    "print(\"Number of wheels:\", my_car.wheels)"
   ]
  },
  {
   "cell_type": "markdown",
   "id": "f6bdd68e-6e2b-4cd8-9b39-7a45aeea4a16",
   "metadata": {},
   "source": [
    "Ques20. Create a Python class called `Car` with a default constructor that initializes the `make` and `model`\n",
    "attributes. Provide a method to display car information."
   ]
  },
  {
   "cell_type": "code",
   "execution_count": 21,
   "id": "46c5b48a-d294-49df-936a-96b28d6b3a80",
   "metadata": {},
   "outputs": [
    {
     "name": "stdout",
     "output_type": "stream",
     "text": [
      "Car Information:\n",
      "Make: Toyota\n",
      "Model: Fortuner\n"
     ]
    }
   ],
   "source": [
    "class Car:\n",
    "    def __init__(self, make, model):\n",
    "        self.make = make\n",
    "        self.model = model\n",
    "\n",
    "    def display_info(self):\n",
    "        print(\"Car Information:\")\n",
    "        print(\"Make:\", self.make)\n",
    "        print(\"Model:\", self.model)\n",
    "\n",
    "my_car = Car(\"Toyota\", \"Fortuner\")\n",
    "my_car.display_info()"
   ]
  },
  {
   "cell_type": "markdown",
   "id": "280c1b23-03b2-407a-bba3-e8e446619bae",
   "metadata": {},
   "source": [
    "COMPLETED/////////////////////////"
   ]
  },
  {
   "cell_type": "markdown",
   "id": "a14f8e91-efda-4519-bba9-ec0591d122a8",
   "metadata": {},
   "source": [
    "* Inheritance:-"
   ]
  },
  {
   "cell_type": "markdown",
   "id": "bc645709-f5cb-498c-b890-8f73fca10593",
   "metadata": {},
   "source": [
    "Ques1. What is inheritance in Python? Explain its significance in object-oriented programming."
   ]
  },
  {
   "cell_type": "code",
   "execution_count": 22,
   "id": "b3fa6008-df78-458b-9d78-2ec75764c2cf",
   "metadata": {},
   "outputs": [
    {
     "name": "stdout",
     "output_type": "stream",
     "text": [
      "Canine\n",
      "Woof!\n",
      "Feline\n",
      "Meow!\n"
     ]
    }
   ],
   "source": [
    "class Animal:\n",
    "    def __init__(self, species):\n",
    "        self.species = species\n",
    "    \n",
    "    def make_sound(self):\n",
    "        pass\n",
    "\n",
    "class Dog(Animal):\n",
    "    def make_sound(self):\n",
    "        return \"Woof!\"\n",
    "\n",
    "class Cat(Animal):\n",
    "    def make_sound(self):\n",
    "        return \"Meow!\"\n",
    "dog = Dog(\"Canine\")\n",
    "cat = Cat(\"Feline\")\n",
    "\n",
    "print(dog.species)   \n",
    "print(dog.make_sound())  \n",
    "print(cat.species)  \n",
    "print(cat.make_sound())  "
   ]
  },
  {
   "cell_type": "markdown",
   "id": "7d5b2fe1-c152-4d55-9b2d-9a5f8b4d34ae",
   "metadata": {},
   "source": [
    "Ques2. Differentiate between single inheritance and multiple inheritance in Python. Provide examples for each."
   ]
  },
  {
   "cell_type": "markdown",
   "id": "01e96d35-d780-40d3-9028-594a533303bd",
   "metadata": {},
   "source": [
    "* Single Inheritance:-\n",
    "\n",
    "In single inheritance, a subclass inherits from only one parent class. This is the simpler form of inheritance and is commonly used in many object-oriented programming scenarios.\n",
    "\n",
    "Example:-"
   ]
  },
  {
   "cell_type": "code",
   "execution_count": 23,
   "id": "0889c403-1ade-4ef0-bd5c-cd3724f218b4",
   "metadata": {},
   "outputs": [
    {
     "name": "stdout",
     "output_type": "stream",
     "text": [
      "Animal speaks\n",
      "Woof!\n"
     ]
    }
   ],
   "source": [
    "class Animal:\n",
    "    def speak(self):\n",
    "        return \"Animal speaks\"\n",
    "\n",
    "class Dog(Animal):\n",
    "    def bark(self):\n",
    "        return \"Woof!\"\n",
    "\n",
    "\n",
    "my_dog = Dog()\n",
    "\n",
    "print(my_dog.speak())  \n",
    "print(my_dog.bark())   "
   ]
  },
  {
   "cell_type": "markdown",
   "id": "bdc1d58a-8b92-432a-b085-9b3e14c7532c",
   "metadata": {},
   "source": [
    "* Multiple Inheritance:-\n",
    "\n",
    "Multiple inheritance, on the other hand, allows a class to inherit attributes and methods from multiple parent classes. Th"
   ]
  },
  {
   "cell_type": "code",
   "execution_count": 24,
   "id": "fb52b96d-dfe4-488a-ba3d-bcc87428a040",
   "metadata": {},
   "outputs": [],
   "source": [
    "class Animal:\n",
    "    def speak(self):\n",
    "        print(\"Animal speaks\")\n",
    "\n",
    "class Bird:\n",
    "    def chirp(self):\n",
    "        print(\"Bird chirps\")\n",
    "\n",
    "class Parrot(Animal, Bird):\n",
    "    def fly(self):\n",
    "        print(\"Parrot flies\")"
   ]
  },
  {
   "cell_type": "markdown",
   "id": "3de3ab7a-1fdd-4614-a516-a4e7d179692f",
   "metadata": {},
   "source": [
    "Ques3. Create a Python class called `Vehicle` with attributes `color` and `speed`. Then, create a child class called\n",
    "`Car` that inherits from `Vehicle` and adds a `brand` attribute. Provide an example of creating a `Car` object."
   ]
  },
  {
   "cell_type": "code",
   "execution_count": 25,
   "id": "2524f10f-c849-4285-92c9-cd60589f6fcf",
   "metadata": {},
   "outputs": [
    {
     "name": "stdout",
     "output_type": "stream",
     "text": [
      "Car(Brand: Toyota, Color: Red, Speed: 150)\n"
     ]
    }
   ],
   "source": [
    "class Vehicle:\n",
    "    def __init__(self, color, speed):\n",
    "        self.color = color\n",
    "        self.speed = speed\n",
    "\n",
    "    def __str__(self):\n",
    "        return f'Vehicle(Color: {self.color}, Speed: {self.speed})'\n",
    "\n",
    "class Car(Vehicle):\n",
    "    def __init__(self, color, speed, brand):\n",
    "        super().__init__(color, speed)\n",
    "        self.brand = brand\n",
    "\n",
    "    def __str__(self):\n",
    "        return f'Car(Brand: {self.brand}, Color: {self.color}, Speed: {self.speed})'\n",
    "\n",
    "my_car = Car(\"Red\", 150, \"Toyota\")\n",
    "print(my_car)"
   ]
  },
  {
   "cell_type": "markdown",
   "id": "e07719f8-ca7e-4492-8036-2025524f0424",
   "metadata": {},
   "source": [
    "Ques5. How can you access the methods and attributes of a parent class from a child class in Python? Give an\n",
    "example."
   ]
  },
  {
   "cell_type": "code",
   "execution_count": 26,
   "id": "ac04b0dc-0277-4979-803f-4c40eaf1d177",
   "metadata": {},
   "outputs": [
    {
     "name": "stdout",
     "output_type": "stream",
     "text": [
      "Vehicle(Color: Red, Speed: 150), Brand: Toyota\n"
     ]
    }
   ],
   "source": [
    "#Using Super()\n",
    "class Vehicle:\n",
    "    def __init__(self, color, speed):\n",
    "        self.color = color\n",
    "        self.speed = speed\n",
    "\n",
    "    def display_info(self):\n",
    "        return f'Vehicle(Color: {self.color}, Speed: {self.speed})'\n",
    "\n",
    "class Car(Vehicle):\n",
    "    def __init__(self, color, speed, brand):\n",
    "        super().__init__(color, speed)\n",
    "        self.brand = brand\n",
    "\n",
    "    def display_info(self):\n",
    "        parent_info = super().display_info()\n",
    "        return f'{parent_info}, Brand: {self.brand}'\n",
    "\n",
    "my_car = Car(\"Red\", 150, \"Toyota\")\n",
    "print(my_car.display_info())"
   ]
  },
  {
   "cell_type": "code",
   "execution_count": 27,
   "id": "11b46ad4-0510-4372-9b36-b32741b2e0bf",
   "metadata": {},
   "outputs": [
    {
     "name": "stdout",
     "output_type": "stream",
     "text": [
      "Vehicle(Color: Red, Speed: 150), Brand: Toyota\n"
     ]
    }
   ],
   "source": [
    "#using Parent Class Name\n",
    "class Vehicle:\n",
    "    def __init__(self, color, speed):\n",
    "        self.color = color\n",
    "        self.speed = speed\n",
    "\n",
    "    def display_info(self):\n",
    "        return f'Vehicle(Color: {self.color}, Speed: {self.speed})'\n",
    "\n",
    "class Car(Vehicle):\n",
    "    def __init__(self, color, speed, brand):\n",
    "        Vehicle.__init__(self, color, speed)\n",
    "        self.brand = brand\n",
    "\n",
    "    def display_info(self):\n",
    "        parent_info = Vehicle.display_info(self)\n",
    "        return f'{parent_info}, Brand: {self.brand}'\n",
    "\n",
    "my_car = Car(\"Red\", 150, \"Toyota\")\n",
    "print(my_car.display_info())"
   ]
  },
  {
   "cell_type": "markdown",
   "id": "bbd48c5a-55f4-4dce-94b0-ed63ab86e95b",
   "metadata": {},
   "source": [
    "Ques4. Explain the concept of method overriding in inheritance. Provide a practical example."
   ]
  },
  {
   "cell_type": "code",
   "execution_count": 28,
   "id": "b8bb6a86-9921-4101-bd06-5a338626d234",
   "metadata": {},
   "outputs": [
    {
     "name": "stdout",
     "output_type": "stream",
     "text": [
      "Animal Name: Generic Animal, Sound: Some generic animal sound\n",
      "Dog Name: Buddy, Breed: Golden Retriever, Sound: Bark\n"
     ]
    }
   ],
   "source": [
    "class Animal:\n",
    "    def __init__(self, name):\n",
    "        self.name = name\n",
    "\n",
    "    def sound(self):\n",
    "        return \"Some generic animal sound\"\n",
    "\n",
    "    def display_info(self):\n",
    "        return f'Animal Name: {self.name}, Sound: {self.sound()}'\n",
    "\n",
    "class Dog(Animal):\n",
    "    def __init__(self, name, breed):\n",
    "        super().__init__(name)\n",
    "        self.breed = breed\n",
    "\n",
    "    def sound(self):\n",
    "        return \"Bark\"\n",
    "\n",
    "    def display_info(self):\n",
    "        return f'Dog Name: {self.name}, Breed: {self.breed}, Sound: {self.sound()}'\n",
    "\n",
    "generic_animal = Animal(\"Generic Animal\")\n",
    "print(generic_animal.display_info())\n",
    "\n",
    "my_dog = Dog(\"Buddy\", \"Golden Retriever\")\n",
    "print(my_dog.display_info())\n"
   ]
  },
  {
   "cell_type": "markdown",
   "id": "a266f1b9-4c2c-412e-9a11-61fbeb714c36",
   "metadata": {},
   "source": [
    "Ques6. Discuss the use of the `super()` function in Python inheritance. When and why is it used? Provide an\n",
    "example."
   ]
  },
  {
   "cell_type": "code",
   "execution_count": 29,
   "id": "5eb0b33d-7c4d-4f47-ab93-4333e5c3f974",
   "metadata": {},
   "outputs": [
    {
     "name": "stdout",
     "output_type": "stream",
     "text": [
      "Employee Name: Alice, Salary: 50000\n",
      "Employee Name: Bob, Salary: 80000, Department: HR\n"
     ]
    }
   ],
   "source": [
    "class Employee:\n",
    "    def __init__(self, name, salary):\n",
    "        self.name = name\n",
    "        self.salary = salary\n",
    "\n",
    "    def get_details(self):\n",
    "        return f'Employee Name: {self.name}, Salary: {self.salary}'\n",
    "\n",
    "class Manager(Employee):\n",
    "    def __init__(self, name, salary, department):\n",
    "        super().__init__(name, salary)\n",
    "        self.department = department\n",
    "\n",
    "    def get_details(self):\n",
    "        base_details = super().get_details()\n",
    "        return f'{base_details}, Department: {self.department}'\n",
    "\n",
    "employee = Employee(\"Alice\", 50000)\n",
    "print(employee.get_details())\n",
    "\n",
    "manager = Manager(\"Bob\", 80000, \"HR\")\n",
    "print(manager.get_details())"
   ]
  },
  {
   "cell_type": "markdown",
   "id": "7ac7fd91-0387-4e2e-ba05-fcc147d127db",
   "metadata": {},
   "source": [
    "Ques7. Create a Python class called `Animal` with a method `speak()`. Then, create child classes `Dog` and `Cat`"
   ]
  },
  {
   "cell_type": "code",
   "execution_count": 30,
   "id": "6bc272d1-2ba4-49a7-950d-57699892c237",
   "metadata": {},
   "outputs": [
    {
     "name": "stdout",
     "output_type": "stream",
     "text": [
      "Some generic animal sound\n"
     ]
    }
   ],
   "source": [
    "# Base Class: Animal\n",
    "class Animal:\n",
    "    def speak(self):\n",
    "        return \"Some generic animal sound\"\n",
    "\n",
    "generic_animal = Animal()\n",
    "print(generic_animal.speak()) \n"
   ]
  },
  {
   "cell_type": "code",
   "execution_count": 31,
   "id": "2e2aa1a5-4cf3-4c9f-9cb3-c336b34eb839",
   "metadata": {},
   "outputs": [
    {
     "name": "stdout",
     "output_type": "stream",
     "text": [
      "Woof\n"
     ]
    }
   ],
   "source": [
    "# Class: Dog\n",
    "class Dog(Animal):\n",
    "    def speak(self):\n",
    "        return \"Woof\"\n",
    "my_dog = Dog()\n",
    "print(my_dog.speak())  "
   ]
  },
  {
   "cell_type": "code",
   "execution_count": 32,
   "id": "902ec142-5bec-4104-a3cd-09f3c2057081",
   "metadata": {},
   "outputs": [
    {
     "name": "stdout",
     "output_type": "stream",
     "text": [
      "Meow\n"
     ]
    }
   ],
   "source": [
    "# Child Class: Cat\n",
    "class Cat(Animal):\n",
    "    def speak(self):\n",
    "        return \"Meow\"\n",
    "my_cat = Cat()\n",
    "print(my_cat.speak())"
   ]
  },
  {
   "cell_type": "code",
   "execution_count": 33,
   "id": "47a94383-8841-4066-a48d-3c9ed3431227",
   "metadata": {},
   "outputs": [
    {
     "name": "stdout",
     "output_type": "stream",
     "text": [
      "Some generic animal sound\n",
      "Woof\n",
      "Meow\n"
     ]
    }
   ],
   "source": [
    "#Full code\n",
    "class Animal:\n",
    "    def speak(self):\n",
    "        return \"Some generic animal sound\"\n",
    "\n",
    "class Dog(Animal):\n",
    "    def speak(self):\n",
    "        return \"Woof\"\n",
    "\n",
    "class Cat(Animal):\n",
    "    def speak(self):\n",
    "        return \"Meow\"\n",
    "\n",
    "generic_animal = Animal()\n",
    "print(generic_animal.speak())  \n",
    "\n",
    "my_dog = Dog()\n",
    "print(my_dog.speak())  \n",
    "\n",
    "my_cat = Cat()\n",
    "print(my_cat.speak())  \n"
   ]
  },
  {
   "cell_type": "markdown",
   "id": "050327f9-e8f5-4320-9aaf-3b474a98f43e",
   "metadata": {},
   "source": [
    "Ques8. Explain the role of the `isinstance()` function in Python and how it relates to inheritance."
   ]
  },
  {
   "cell_type": "code",
   "execution_count": 34,
   "id": "0aab14d4-d265-4095-af6f-1b3f45ee4b92",
   "metadata": {},
   "outputs": [
    {
     "name": "stdout",
     "output_type": "stream",
     "text": [
      "True\n",
      "True\n",
      "True\n",
      "True\n",
      "True\n",
      "False\n"
     ]
    }
   ],
   "source": [
    "class Animal:\n",
    "    def speak(self):\n",
    "        return \"Some generic animal sound\"\n",
    "\n",
    "class Dog(Animal):\n",
    "    def speak(self):\n",
    "        return \"Woof\"\n",
    "\n",
    "class Cat(Animal):\n",
    "    def speak(self):\n",
    "        return \"Meow\"\n",
    "generic_animal = Animal()\n",
    "my_dog = Dog()\n",
    "my_cat = Cat()\n",
    "print(isinstance(generic_animal, Animal)) \n",
    "print(isinstance(my_dog, Animal))        \n",
    "print(isinstance(my_cat, Animal))      \n",
    "print(isinstance(my_dog, Dog))   \n",
    "print(isinstance(my_cat, Cat))\n",
    "print(isinstance(my_cat, Dog))             "
   ]
  },
  {
   "cell_type": "markdown",
   "id": "04d80fbe-5410-4e67-8b84-6fa9c4af7ba7",
   "metadata": {},
   "source": [
    "Ques9. What is the purpose of the `issubclass()` function in Python? Provide an example."
   ]
  },
  {
   "cell_type": "code",
   "execution_count": 35,
   "id": "23dff7e5-0440-4bf5-b5dd-f44a7d4ec48b",
   "metadata": {},
   "outputs": [
    {
     "name": "stdout",
     "output_type": "stream",
     "text": [
      "True\n",
      "True\n",
      "False\n",
      "True\n",
      "True\n",
      "True\n",
      "True\n"
     ]
    }
   ],
   "source": [
    "class Animal:\n",
    "    pass\n",
    "\n",
    "class Dog(Animal):\n",
    "    pass\n",
    "\n",
    "class Cat(Animal):\n",
    "    pass\n",
    "\n",
    "class Bird:\n",
    "    pass\n",
    "\n",
    "print(issubclass(Dog, Animal))  \n",
    "print(issubclass(Cat, Animal))  \n",
    "print(issubclass(Bird, Animal)) \n",
    "print(issubclass(Dog, Dog))     \n",
    "print(issubclass(Animal, Animal)) \n",
    "print(issubclass(Dog, (Animal, Bird)))  \n",
    "print(issubclass(Bird, (Animal, Bird))) "
   ]
  },
  {
   "cell_type": "markdown",
   "id": "b4a91d21-a335-42b6-b2a4-3e6b4baae48e",
   "metadata": {},
   "source": [
    "Ques10. Discuss the concept of constructor inheritance in Python. How are constructors inherited in child classes?"
   ]
  },
  {
   "cell_type": "code",
   "execution_count": 36,
   "id": "6bf0ab2a-cb1b-4977-b0c2-aecf557de851",
   "metadata": {},
   "outputs": [
    {
     "name": "stdout",
     "output_type": "stream",
     "text": [
      "Buddy\n"
     ]
    }
   ],
   "source": [
    "# Implicit Inheritance\n",
    "class Animal:\n",
    "    def __init__(self, name):\n",
    "        self.name = name\n",
    "\n",
    "class Dog(Animal):\n",
    "    pass\n",
    "dog = Dog(\"Buddy\")\n",
    "print(dog.name)  "
   ]
  },
  {
   "cell_type": "code",
   "execution_count": 37,
   "id": "3d18b75b-73aa-443a-8b5f-22f45f95857f",
   "metadata": {},
   "outputs": [
    {
     "name": "stdout",
     "output_type": "stream",
     "text": [
      "Buddy\n",
      "Golden Retriever\n"
     ]
    }
   ],
   "source": [
    "# Overriding the Constructor\n",
    "class Animal:\n",
    "    def __init__(self, name):\n",
    "        self.name = name\n",
    "\n",
    "class Dog(Animal):\n",
    "    def __init__(self, name, breed):\n",
    "        self.name = name\n",
    "        self.breed = breed\n",
    "\n",
    "dog = Dog(\"Buddy\", \"Golden Retriever\")\n",
    "print(dog.name)  \n",
    "print(dog.breed) "
   ]
  },
  {
   "cell_type": "code",
   "execution_count": 38,
   "id": "f3cb096f-306d-464b-b137-259a632224c7",
   "metadata": {},
   "outputs": [
    {
     "name": "stdout",
     "output_type": "stream",
     "text": [
      "Buddy\n",
      "Golden Retriever\n"
     ]
    }
   ],
   "source": [
    "# Calling the Parent Constructor\n",
    "class Animal:\n",
    "    def __init__(self, name):\n",
    "        self.name = name\n",
    "\n",
    "class Dog(Animal):\n",
    "    def __init__(self, name, breed):\n",
    "        super().__init__(name)  \n",
    "        self.breed = breed\n",
    "dog = Dog(\"Buddy\", \"Golden Retriever\")\n",
    "print(dog.name)  \n",
    "print(dog.breed) "
   ]
  },
  {
   "cell_type": "markdown",
   "id": "243feca2-8227-438c-a60b-9b3606c1534f",
   "metadata": {},
   "source": [
    "Ques11. Create a Python class called `Shape` with a method `area()` that calculates the area of a shape. Then, create child classes `Circle` and `Rectangle` that inherit from `Shape` and implement the `area()` method\n",
    "accordingly. Provide an example."
   ]
  },
  {
   "cell_type": "code",
   "execution_count": 39,
   "id": "55bab514-b397-4643-a05e-0dff79025cc2",
   "metadata": {},
   "outputs": [],
   "source": [
    "# Base Class: Shape\n",
    "import math\n",
    "\n",
    "class Shape:\n",
    "    def area(self):\n",
    "        raise NotImplementedError(\"Subclasses must implement this method\")"
   ]
  },
  {
   "cell_type": "code",
   "execution_count": 40,
   "id": "6de100f8-7772-4113-8575-81599d6c8691",
   "metadata": {},
   "outputs": [],
   "source": [
    "# Child Class: Circle\n",
    "class Circle(Shape):\n",
    "    def __init__(self, radius):\n",
    "        self.radius = radius\n",
    "\n",
    "    def area(self):\n",
    "        return math.pi * self.radius ** 2"
   ]
  },
  {
   "cell_type": "code",
   "execution_count": 41,
   "id": "1237acfa-2a85-405c-a268-69542a35fd23",
   "metadata": {},
   "outputs": [],
   "source": [
    "# Child Class: Rectangle\n",
    "class Rectangle(Shape):\n",
    "    def __init__(self, width, height):\n",
    "        self.width = width\n",
    "        self.height = height\n",
    "\n",
    "    def area(self):\n",
    "        return self.width * self.height"
   ]
  },
  {
   "cell_type": "code",
   "execution_count": 42,
   "id": "bbfe4885-6d4e-46b9-8854-2212f537df5d",
   "metadata": {},
   "outputs": [
    {
     "name": "stdout",
     "output_type": "stream",
     "text": [
      "The area of the circle is: 78.53981633974483\n",
      "The area of the rectangle is: 24\n"
     ]
    }
   ],
   "source": [
    "# Create instances of Circle and Rectangle\n",
    "circle = Circle(5)\n",
    "rectangle = Rectangle(4, 6)\n",
    "\n",
    "# Calculate and print the areas\n",
    "print(f\"The area of the circle is: {circle.area()}\")      \n",
    "print(f\"The area of the rectangle is: {rectangle.area()}\") \n"
   ]
  },
  {
   "cell_type": "markdown",
   "id": "e4d03336-fb0b-4f75-9ce4-eb171463b458",
   "metadata": {},
   "source": [
    "Ques12. Explain the use of abstract base classes (ABCs) in Python and how they relate to inheritance. Provide an\n",
    "example using the `abc` module."
   ]
  },
  {
   "cell_type": "code",
   "execution_count": 43,
   "id": "5c3eedd8-e590-4569-9251-18dc76149ba1",
   "metadata": {},
   "outputs": [
    {
     "name": "stdout",
     "output_type": "stream",
     "text": [
      "The area of the circle is: 78.53981633974483\n",
      "The area of the rectangle is: 24\n"
     ]
    }
   ],
   "source": [
    "from abc import ABC, abstractmethod\n",
    "import math\n",
    "\n",
    "class Shape(ABC):\n",
    "    @abstractmethod\n",
    "    def area(self):\n",
    "        pass\n",
    "\n",
    "class Circle(Shape):\n",
    "    def __init__(self, radius):\n",
    "        self.radius = radius\n",
    "\n",
    "    def area(self):\n",
    "        return math.pi * self.radius ** 2\n",
    "\n",
    "class Rectangle(Shape):\n",
    "    def __init__(self, width, height):\n",
    "        self.width = width\n",
    "        self.height = height\n",
    "\n",
    "    def area(self):\n",
    "        return self.width * self.height\n",
    "\n",
    "circle = Circle(5)\n",
    "print(f\"The area of the circle is: {circle.area()}\")  \n",
    "rectangle = Rectangle(4, 6)\n",
    "print(f\"The area of the rectangle is: {rectangle.area()}\")  "
   ]
  },
  {
   "cell_type": "markdown",
   "id": "014f084d-2649-4c4d-9a6d-3a36c5652fd9",
   "metadata": {},
   "source": [
    "Ques13. How can you prevent a child class from modifying certain attributes or methods inherited from a parent\n",
    "class in Python?"
   ]
  },
  {
   "cell_type": "code",
   "execution_count": 44,
   "id": "be3ca49b-a776-4323-ad4d-fc621cb7b3c5",
   "metadata": {},
   "outputs": [
    {
     "name": "stdout",
     "output_type": "stream",
     "text": [
      "Cannot be modified\n"
     ]
    }
   ],
   "source": [
    "# 1. Using Name Mangling\n",
    "class Parent:\n",
    "    def __init__(self):\n",
    "        self.__attribute = \"Cannot be modified\"\n",
    "\n",
    "class Child(Parent):\n",
    "    def __init__(self):\n",
    "        super().__init__()\n",
    "        \n",
    "        self.__attribute = \"New value\"\n",
    "\n",
    "parent = Parent()\n",
    "child = Child()\n",
    "print(child._Parent__attribute) "
   ]
  },
  {
   "cell_type": "code",
   "execution_count": 45,
   "id": "a344053b-868a-4061-95e2-e2d0e5814501",
   "metadata": {},
   "outputs": [],
   "source": [
    "# 2. Overriding Methods\n",
    "class Parent:\n",
    "    def final_method(self):\n",
    "        print(\"This method cannot be overridden\")\n",
    "\n",
    "class Child(Parent):\n",
    "    def final_method(self): \n",
    "        pass"
   ]
  },
  {
   "cell_type": "code",
   "execution_count": 46,
   "id": "30fbad99-fdd2-4790-9af2-4727183eefec",
   "metadata": {},
   "outputs": [],
   "source": [
    "# 3. Using Properties\n",
    "class Parent:\n",
    "    def __init__(self):\n",
    "        self._attribute = \"Cannot be modified\"\n",
    "\n",
    "    @property\n",
    "    def attribute(self):\n",
    "        return self._attribute\n",
    "\n",
    "class Child(Parent):\n",
    "    def __init__(self):\n",
    "        super().__init__()\n",
    "        self._attribute = \"New value\" \n",
    "\n",
    "parent = Parent()"
   ]
  },
  {
   "cell_type": "code",
   "execution_count": 47,
   "id": "d99f7694-9931-49d8-8e34-5cbb00b1dba1",
   "metadata": {},
   "outputs": [
    {
     "name": "stdout",
     "output_type": "stream",
     "text": [
      "Cannot be modified\n"
     ]
    }
   ],
   "source": [
    "# 4. Using Composition over Inheritance\n",
    "class Parent:\n",
    "    def __init__(self):\n",
    "        self.attribute = \"Cannot be modified\"\n",
    "\n",
    "class Child:\n",
    "    def __init__(self):\n",
    "        self.parent = Parent()\n",
    "\n",
    "    def get_attribute(self):\n",
    "        return self.parent.attribute\n",
    "\n",
    "child = Child()\n",
    "print(child.get_attribute())"
   ]
  },
  {
   "cell_type": "markdown",
   "id": "d32f458a-bb17-450c-80ed-7c708fb571c4",
   "metadata": {},
   "source": [
    "Ques14. Create a Python class called `Employee` with attributes `name` and `salary`. Then, create a child class\n",
    "`Manager` that inherits from `Employee` and adds an attribute `department`. Provide an example."
   ]
  },
  {
   "cell_type": "code",
   "execution_count": 48,
   "id": "637518cb-9b38-4cf2-ac4e-80384b171a07",
   "metadata": {},
   "outputs": [
    {
     "name": "stdout",
     "output_type": "stream",
     "text": [
      "Employee Name: Gyanvi, Salary: 50000\n",
      "Manager Name: Bob, Salary: 80000, Department: HR\n"
     ]
    }
   ],
   "source": [
    "class Employee:\n",
    "    def __init__(self, name, salary):\n",
    "        self.name = name\n",
    "        self.salary = salary\n",
    "\n",
    "class Manager(Employee):\n",
    "    def __init__(self, name, salary, department):\n",
    "        super().__init__(name, salary)\n",
    "        self.department = department\n",
    "\n",
    "# Example usage\n",
    "employee = Employee(\"Gyanvi\", 50000)\n",
    "print(f\"Employee Name: {employee.name}, Salary: {employee.salary}\")\n",
    "\n",
    "manager = Manager(\"Bob\", 80000, \"HR\")\n",
    "print(f\"Manager Name: {manager.name}, Salary: {manager.salary}, Department: {manager.department}\")"
   ]
  },
  {
   "cell_type": "markdown",
   "id": "7c156249-13a2-47eb-81f3-46a6d205b34c",
   "metadata": {},
   "source": [
    "Ques15. Discuss the concept of method overloading in Python inheritance. How does it differ from method\n",
    "overriding?"
   ]
  },
  {
   "cell_type": "code",
   "execution_count": 49,
   "id": "9f2c02d8-e6e8-4148-b3ee-82ee822ba985",
   "metadata": {},
   "outputs": [
    {
     "name": "stdout",
     "output_type": "stream",
     "text": [
      "3\n",
      "6\n"
     ]
    }
   ],
   "source": [
    "# Method Overloading\n",
    "class Example:\n",
    "    def add(self, a, b, c=0):\n",
    "        return a + b + c\n",
    "e = Example()\n",
    "print(e.add(1, 2))   \n",
    "print(e.add(1, 2, 3)) "
   ]
  },
  {
   "cell_type": "code",
   "execution_count": 50,
   "id": "c1ecde3b-f66d-4389-a055-e0dd310b8681",
   "metadata": {},
   "outputs": [
    {
     "name": "stdout",
     "output_type": "stream",
     "text": [
      "This is the parent class method.\n",
      "This is the child class method.\n"
     ]
    }
   ],
   "source": [
    "# Method Overriding\n",
    "class Parent:\n",
    "    def show(self):\n",
    "        print(\"This is the parent class method.\")\n",
    "\n",
    "class Child(Parent):\n",
    "    def show(self):\n",
    "        print(\"This is the child class method.\")\n",
    "\n",
    "p = Parent()\n",
    "p.show()  \n",
    "\n",
    "c = Child()\n",
    "c.show()"
   ]
  },
  {
   "cell_type": "markdown",
   "id": "fea0f4c0-55b3-4ce6-a669-04947a8c8e10",
   "metadata": {},
   "source": [
    "Ques16. Explain the purpose of the `__init__()` method in Python inheritance and how it is utilized in child classes."
   ]
  },
  {
   "cell_type": "code",
   "execution_count": 51,
   "id": "12f6c17c-9a8b-4ae4-8fdf-d13b63ec2d63",
   "metadata": {},
   "outputs": [
    {
     "name": "stdout",
     "output_type": "stream",
     "text": [
      "Parent initialized with name: Gyanvi\n",
      "Child initialized with name: Gyanvi and age: 16\n"
     ]
    }
   ],
   "source": [
    "class Parent:\n",
    "    def __init__(self, name):\n",
    "        self.name = name\n",
    "        print(f\"Parent initialized with name: {self.name}\")\n",
    "\n",
    "class Child(Parent):\n",
    "    def __init__(self, name, age):\n",
    "        # Call the parent class's __init__ method\n",
    "        super().__init__(name)\n",
    "        self.age = age\n",
    "        print(f\"Child initialized with name: {self.name} and age: {self.age}\")\n",
    "\n",
    "c = Child(\"Gyanvi\", 16)\n"
   ]
  },
  {
   "cell_type": "markdown",
   "id": "d4e325e7-1f2c-46f8-bab4-50ec0ebab5ce",
   "metadata": {},
   "source": [
    "Ques17. Create a Python class called `Bird` with a method `fly()`. Then, create child classes `Eagle` and `Sparrow` that inherit from `Bird` and implement the `fly()` method differently. Provide an example of using these\n",
    "classes."
   ]
  },
  {
   "cell_type": "code",
   "execution_count": 52,
   "id": "6a1f039a-ee88-4b2e-b92d-7b81372f0c91",
   "metadata": {},
   "outputs": [
    {
     "name": "stdout",
     "output_type": "stream",
     "text": [
      "The eagle soars high in the sky with powerful wings.\n",
      "The sparrow flutters quickly from branch to branch.\n"
     ]
    }
   ],
   "source": [
    "class Bird:\n",
    "    def fly(self):\n",
    "        raise NotImplementedError(\"Subclasses should implement this method!\")\n",
    "\n",
    "class Eagle(Bird):\n",
    "    def fly(self):\n",
    "        return \"The eagle soars high in the sky with powerful wings.\"\n",
    "\n",
    "class Sparrow(Bird):\n",
    "    def fly(self):\n",
    "        return \"The sparrow flutters quickly from branch to branch.\"\n",
    "if __name__ == \"__main__\":\n",
    "    eagle = Eagle()\n",
    "    sparrow = Sparrow()\n",
    "    \n",
    "    print(eagle.fly())      \n",
    "    print(sparrow.fly())    "
   ]
  },
  {
   "cell_type": "markdown",
   "id": "ea68c808-3fb8-460c-99db-bde22f2f3bc3",
   "metadata": {},
   "source": [
    "Ques18. What is the \"diamond problem\" in multiple inheritance, and how does Python address it?"
   ]
  },
  {
   "cell_type": "code",
   "execution_count": 53,
   "id": "e637f836-dc0d-4d38-b9c6-1c1088817138",
   "metadata": {},
   "outputs": [
    {
     "name": "stdout",
     "output_type": "stream",
     "text": [
      "Method in B\n",
      "[<class '__main__.D'>, <class '__main__.B'>, <class '__main__.C'>, <class '__main__.A'>, <class 'object'>]\n"
     ]
    }
   ],
   "source": [
    "class A:\n",
    "    def method(self):\n",
    "        print(\"Method in A\")\n",
    "\n",
    "class B(A):\n",
    "    def method(self):\n",
    "        print(\"Method in B\")\n",
    "\n",
    "class C(A):\n",
    "    def method(self):\n",
    "        print(\"Method in C\")\n",
    "\n",
    "class D(B, C):\n",
    "    pass\n",
    "\n",
    "d = D()\n",
    "d.method()\n",
    "print(D.mro())"
   ]
  },
  {
   "cell_type": "markdown",
   "id": "7636ccb3-b81a-46f6-9f66-7f8deee88089",
   "metadata": {},
   "source": [
    "Ques19. Discuss the concept of \"is-a\" and \"has-a\" relationships in inheritance, and provide examples of each."
   ]
  },
  {
   "cell_type": "code",
   "execution_count": 54,
   "id": "be7e291d-92c6-4321-886e-a409d17108e9",
   "metadata": {},
   "outputs": [
    {
     "name": "stdout",
     "output_type": "stream",
     "text": [
      "This animal eats.\n",
      "The dog barks.\n"
     ]
    }
   ],
   "source": [
    "# \"Is-a\" Relationship\n",
    "class Animal:\n",
    "    def eat(self):\n",
    "        return \"This animal eats.\"\n",
    "\n",
    "class Dog(Animal):\n",
    "    def bark(self):\n",
    "        return \"The dog barks.\"\n",
    "dog = Dog()\n",
    "print(dog.eat()) \n",
    "print(dog.bark()) "
   ]
  },
  {
   "cell_type": "code",
   "execution_count": 55,
   "id": "30eaa5f4-7b1e-4ad8-93f3-78858820786a",
   "metadata": {},
   "outputs": [
    {
     "name": "stdout",
     "output_type": "stream",
     "text": [
      "The engine starts.\n",
      "The car drives.\n"
     ]
    }
   ],
   "source": [
    "# \"Has-a\" Relationship\n",
    "class Engine:\n",
    "    def start(self):\n",
    "        return \"The engine starts.\"\n",
    "\n",
    "class Car:\n",
    "    def __init__(self):\n",
    "        self.engine = Engine()\n",
    "\n",
    "    def drive(self):\n",
    "        return \"The car drives.\"\n",
    "car = Car()\n",
    "print(car.engine.start())  \n",
    "print(car.drive())         "
   ]
  },
  {
   "cell_type": "markdown",
   "id": "8a2a8f25-c8af-48a1-ba68-50bbe717aacb",
   "metadata": {},
   "source": [
    "Ques20. Create a Python class hierarchy for a university system. Start with a base class `Person` and create child\n",
    "classes `Student` and `Professor`, each with their own attributes and methods. Provide an example of using\n",
    "these classes in a university context."
   ]
  },
  {
   "cell_type": "code",
   "execution_count": 56,
   "id": "892d9090-e50c-47a9-a345-ba4fb5c75743",
   "metadata": {},
   "outputs": [
    {
     "name": "stdout",
     "output_type": "stream",
     "text": [
      "Student ID: S12345, Name: Gyanvi, Age: 16, Major: Computer Science\n",
      "Gyanvi is studying.\n",
      "Employee ID: P67890, Name: Dr. Abdul, Age: 21, Department: Mathematics\n",
      "Professor Dr. Abdul is teaching.\n"
     ]
    }
   ],
   "source": [
    "class Person:\n",
    "    def __init__(self, name, age):\n",
    "        self.name = name\n",
    "        self.age = age\n",
    "    \n",
    "    def get_details(self):\n",
    "        return f\"Name: {self.name}, Age: {self.age}\"\n",
    "\n",
    "class Student(Person):\n",
    "    def __init__(self, name, age, student_id, major):\n",
    "        super().__init__(name, age)\n",
    "        self.student_id = student_id\n",
    "        self.major = major\n",
    "    \n",
    "    def get_details(self):\n",
    "        return f\"Student ID: {self.student_id}, Name: {self.name}, Age: {self.age}, Major: {self.major}\"\n",
    "    \n",
    "    def study(self):\n",
    "        return f\"{self.name} is studying.\"\n",
    "\n",
    "class Professor(Person):\n",
    "    def __init__(self, name, age, employee_id, department):\n",
    "        super().__init__(name, age)\n",
    "        self.employee_id = employee_id\n",
    "        self.department = department\n",
    "    \n",
    "    def get_details(self):\n",
    "        return f\"Employee ID: {self.employee_id}, Name: {self.name}, Age: {self.age}, Department: {self.department}\"\n",
    "    \n",
    "    def teach(self):\n",
    "        return f\"Professor {self.name} is teaching.\"\n",
    "\n",
    "if __name__ == \"__main__\":\n",
    "    \n",
    "    student = Student(\"Gyanvi\", 16, \"S12345\", \"Computer Science\")\n",
    "    professor = Professor(\"Dr. Abdul\", 21, \"P67890\", \"Mathematics\")\n",
    "    \n",
    "    print(student.get_details())\n",
    "    print(student.study())\n",
    "    \n",
    "    print(professor.get_details())\n",
    "    print(professor.teach())\n"
   ]
  },
  {
   "cell_type": "markdown",
   "id": "ab2c20cf-83c2-4a2a-b148-84228d161f90",
   "metadata": {},
   "source": [
    "COMPLETED///////////////////"
   ]
  },
  {
   "cell_type": "markdown",
   "id": "484cca61-4169-4405-858a-c96720956934",
   "metadata": {},
   "source": [
    "* Encapsulation:"
   ]
  },
  {
   "cell_type": "markdown",
   "id": "31490b52-2688-4ce6-83ff-87b59b1ad06e",
   "metadata": {},
   "source": [
    "Ques1. Explain the concept of encapsulation in Python. What is its role in object-oriented programming?"
   ]
  },
  {
   "cell_type": "code",
   "execution_count": 57,
   "id": "29edc672-60e7-40ab-a33c-f36f3ffa65d1",
   "metadata": {},
   "outputs": [
    {
     "name": "stdout",
     "output_type": "stream",
     "text": [
      "123456\n",
      "1000\n",
      "1500\n",
      "1300\n"
     ]
    }
   ],
   "source": [
    "class BankAccount:\n",
    "    def __init__(self, account_number, balance):\n",
    "        self.__account_number = account_number  # Private attribute\n",
    "        self.__balance = balance  # Private attribute\n",
    "    \n",
    "   \n",
    "    def get_account_number(self):\n",
    "        return self.__account_number\n",
    "    \n",
    "   \n",
    "    def get_balance(self):\n",
    "        return self.__balance\n",
    "    \n",
    "   \n",
    "    def deposit(self, amount):\n",
    "        if amount > 0:\n",
    "            self.__balance += amount\n",
    "        else:\n",
    "            raise ValueError(\"Deposit amount must be positive\")\n",
    "    \n",
    "   \n",
    "    def withdraw(self, amount):\n",
    "        if amount > 0 and amount <= self.__balance:\n",
    "            self.__balance -= amount\n",
    "        else:\n",
    "            raise ValueError(\"Invalid withdraw amount\")\n",
    "\n",
    "\n",
    "account = BankAccount(\"123456\", 1000)\n",
    "print(account.get_account_number())  \n",
    "print(account.get_balance())  \n",
    "account.deposit(500)\n",
    "print(account.get_balance())  \n",
    "account.withdraw(200)\n",
    "print(account.get_balance()) "
   ]
  },
  {
   "cell_type": "markdown",
   "id": "be6a0cfd-bc01-41f3-a20b-18f7df174b6e",
   "metadata": {},
   "source": [
    "Ques2. Describe the key principles of encapsulation, including access control and data hiding."
   ]
  },
  {
   "cell_type": "code",
   "execution_count": 58,
   "id": "dc3ca9dc-2054-44fb-aaa8-a155e680e06f",
   "metadata": {},
   "outputs": [
    {
     "name": "stdout",
     "output_type": "stream",
     "text": [
      "Gyanvi\n",
      "Abdul\n",
      "16\n",
      "21\n"
     ]
    }
   ],
   "source": [
    "class Person:\n",
    "    def __init__(self, name, age):\n",
    "        self.__name = name  # Private attribute\n",
    "        self._age = age     # Protected attribute\n",
    "    \n",
    "    # Public method to get the name\n",
    "    def get_name(self):\n",
    "        return self.__name\n",
    "    \n",
    "    # Public method to set the name\n",
    "    def set_name(self, name):\n",
    "        self.__name = name\n",
    "    \n",
    "    # Public method to get the age\n",
    "    def get_age(self):\n",
    "        return self._age\n",
    "    \n",
    "    # Public method to set the age\n",
    "    def set_age(self, age):\n",
    "        if age > 0:\n",
    "            self._age = age\n",
    "        else:\n",
    "            raise ValueError(\"Age must be positive\")\n",
    "\n",
    "person = Person(\"Gyanvi\", 16)\n",
    "print(person.get_name())  \n",
    "person.set_name(\"Abdul\")\n",
    "print(person.get_name())  \n",
    "print(person.get_age())   \n",
    "person.set_age(21)\n",
    "print(person.get_age())   "
   ]
  },
  {
   "cell_type": "markdown",
   "id": "be7061f7-e1a2-4707-8f85-e9bc1c13d56a",
   "metadata": {},
   "source": [
    "Ques3. How can you achieve encapsulation in Python classes? Provide an example."
   ]
  },
  {
   "cell_type": "code",
   "execution_count": 59,
   "id": "1539eee8-8840-47db-9c35-8c0ba593f708",
   "metadata": {},
   "outputs": [
    {
     "name": "stdout",
     "output_type": "stream",
     "text": [
      "Toyota\n",
      "Fortuner\n",
      "2022\n",
      "Honda\n",
      "Accord\n",
      "2020\n"
     ]
    }
   ],
   "source": [
    "class Car:\n",
    "    def __init__(self, make, model, year):\n",
    "        self._make = make        \n",
    "        self.__model = model    \n",
    "        self.__year = year      \n",
    "    \n",
    "    \n",
    "    def get_make(self):\n",
    "        return self._make\n",
    "    \n",
    "\n",
    "    def set_make(self, make):\n",
    "        self._make = make\n",
    "    \n",
    "    \n",
    "    def get_model(self):\n",
    "        return self.__model\n",
    "    \n",
    "    \n",
    "    def set_model(self, model):\n",
    "        self.__model = model\n",
    "    \n",
    "    \n",
    "    def get_year(self):\n",
    "        return self.__year\n",
    "    \n",
    "    def set_year(self, year):\n",
    "        self.__year = year\n",
    "\n",
    "car = Car(\"Toyota\", \"Fortuner\", 2022)\n",
    "\n",
    "\n",
    "print(car.get_make())   \n",
    "print(car.get_model())  \n",
    "print(car.get_year())   \n",
    "\n",
    "car.set_make(\"Honda\")\n",
    "car.set_model(\"Accord\")\n",
    "car.set_year(2020)\n",
    "\n",
    "print(car.get_make()) \n",
    "print(car.get_model()) \n",
    "print(car.get_year())   "
   ]
  },
  {
   "cell_type": "markdown",
   "id": "488e8c53-2024-4b96-b73a-45a1f128976d",
   "metadata": {},
   "source": [
    "Ques4. Discuss the difference between public, private, and protected access modifiers in Python."
   ]
  },
  {
   "cell_type": "code",
   "execution_count": 60,
   "id": "7d006528-bd3b-4903-9077-edb164d028dc",
   "metadata": {},
   "outputs": [],
   "source": [
    "# Public Access Modifier\n",
    "class MyClass:\n",
    "    def public_method(self):\n",
    "        print(\"This is a public method.\")"
   ]
  },
  {
   "cell_type": "code",
   "execution_count": 61,
   "id": "3ab04571-abaf-44c3-94f7-ce899a9228de",
   "metadata": {},
   "outputs": [],
   "source": [
    "# Private Access Modifier\n",
    "class MyClass:\n",
    "    def __init__(self):\n",
    "        self.__private_attribute = 10\n",
    "\n",
    "    def __private_method(self):\n",
    "        print(\"This is a private method.\")"
   ]
  },
  {
   "cell_type": "code",
   "execution_count": 62,
   "id": "1045003f-755a-404b-a2f8-66f7af73707d",
   "metadata": {},
   "outputs": [],
   "source": [
    "# Protected Access Modifier\n",
    "class MyClass:\n",
    "    def __init__(self):\n",
    "        self._protected_attribute = 20\n",
    "\n",
    "    def _protected_method(self):\n",
    "        print(\"This is a protected method.\")"
   ]
  },
  {
   "cell_type": "markdown",
   "id": "06415bfe-1588-4fcd-a7fa-3707e9a56db9",
   "metadata": {},
   "source": [
    "Ques5. Create a Python class called `Person` with a private attribute `__name`. Provide methods to get and set the\n",
    "name attribute."
   ]
  },
  {
   "cell_type": "code",
   "execution_count": 63,
   "id": "02c08cb6-7bda-4a5e-b438-ae33f6b5cf6d",
   "metadata": {},
   "outputs": [
    {
     "name": "stdout",
     "output_type": "stream",
     "text": [
      "Gyanvi\n",
      "Abdul\n"
     ]
    }
   ],
   "source": [
    "class Person:\n",
    "    def __init__(self, name):\n",
    "        self.__name = name  # private attribute\n",
    "    \n",
    "    # Public method to get the name\n",
    "    def get_name(self):\n",
    "        return self.__name\n",
    "    \n",
    "    # Public method to set the name\n",
    "    def set_name(self, name):\n",
    "        self.__name = name\n",
    "\n",
    "# Example usage:\n",
    "person = Person(\"Gyanvi\")\n",
    "print(person.get_name())  \n",
    "\n",
    "person.set_name(\"Abdul\")\n",
    "print(person.get_name())  "
   ]
  },
  {
   "cell_type": "markdown",
   "id": "fa631d1f-c072-4ab1-87ea-628d0c2b583e",
   "metadata": {},
   "source": [
    "Ques6. Explain the purpose of getter and setter methods in encapsulation. Provide examples."
   ]
  },
  {
   "cell_type": "code",
   "execution_count": 64,
   "id": "8e474015-9f35-4f46-8fe8-7d7fb063c7c7",
   "metadata": {},
   "outputs": [
    {
     "name": "stdout",
     "output_type": "stream",
     "text": [
      "Gyanvi\n",
      "Zain\n"
     ]
    }
   ],
   "source": [
    "class Person:\n",
    "    def __init__(self, name):\n",
    "        self.__name = name \n",
    "    \n",
    "   \n",
    "    def get_name(self):\n",
    "        return self.__name\n",
    "    \n",
    "    \n",
    "    def set_name(self, name):\n",
    "        if isinstance(name, str):\n",
    "            self.__name = name\n",
    "        else:\n",
    "            raise TypeError(\"Name must be a string\")\n",
    "\n",
    "person = Person(\"Gyanvi\")\n",
    "print(person.get_name())  \n",
    "\n",
    "person.set_name(\"Zain\")\n",
    "print(person.get_name())  "
   ]
  },
  {
   "cell_type": "markdown",
   "id": "5317235c-9122-4430-ba23-e7294570984e",
   "metadata": {},
   "source": [
    "Ques7. What is name mangling in Python, and how does it affect encapsulation?"
   ]
  },
  {
   "cell_type": "code",
   "execution_count": 65,
   "id": "7a851c42-f4aa-41dd-810b-c2569ebef8ef",
   "metadata": {},
   "outputs": [
    {
     "name": "stdout",
     "output_type": "stream",
     "text": [
      "10\n",
      "This is a private method.\n"
     ]
    }
   ],
   "source": [
    "class MyClass:\n",
    "    def __init__(self):\n",
    "        self.__private_attribute = 10  # Private attribute\n",
    "\n",
    "    def __private_method(self):\n",
    "        print(\"This is a private method.\")  # Private method\n",
    "\n",
    "\n",
    "obj = MyClass()\n",
    "\n",
    "print(obj._MyClass__private_attribute)  \n",
    "\n",
    "obj._MyClass__private_method()  "
   ]
  },
  {
   "cell_type": "markdown",
   "id": "89ccf8e7-6e60-400c-908b-e3600b5c6a1c",
   "metadata": {},
   "source": [
    "Ques8. Create a Python class called `BankAccount` with private attributes for the account balance (`__balance`)"
   ]
  },
  {
   "cell_type": "code",
   "execution_count": 66,
   "id": "b0d83a0c-bc01-4ab5-acd4-5307de041b41",
   "metadata": {},
   "outputs": [
    {
     "name": "stdout",
     "output_type": "stream",
     "text": [
      "1000\n"
     ]
    }
   ],
   "source": [
    "class BankAccount:\n",
    "    def __init__(self, initial_balance):\n",
    "        self.__balance = initial_balance  # private attribute\n",
    "    \n",
    "    # Getter method to retrieve the balance\n",
    "    def get_balance(self):\n",
    "        return self.__balance\n",
    "\n",
    "account = BankAccount(1000)\n",
    "print(account.get_balance())  "
   ]
  },
  {
   "cell_type": "markdown",
   "id": "950e3e8a-ae17-4073-b686-a6aca83fab33",
   "metadata": {},
   "source": [
    "Ques9. Discuss the advantages of encapsulation in terms of code maintainability and security."
   ]
  },
  {
   "cell_type": "markdown",
   "id": "4b073812-2751-4c9a-aa30-6b07abed0787",
   "metadata": {},
   "source": [
    "Ans9. Encapsulation offers several advantages in terms of code maintainability and security in software development. Let's discuss these advantages in detail:\n",
    "\n",
    "* Code Maintainability:\n",
    "\n",
    "1) Modularity: Encapsulation promotes modularity by bundling related data and behavior into a single unit, i.e., a class. This modular structure makes the codebase more organized and easier to understand, navigate, and maintain.\n",
    "\n",
    "2) Isolation of Changes: By encapsulating the internal implementation details of a class, encapsulation isolates changes within the class itself. This means that modifications to the implementation do not affect the external interface of the class, minimizing the ripple effects of changes and making the codebase more resilient to modifications.\n",
    "\n",
    "3) Ease of Debugging: Encapsulation reduces the scope of debugging by localizing errors within the class where they occur. This simplifies the debugging process and makes it easier to identify and fix issues, leading to faster development and maintenance cycles.\n",
    "\n",
    "* Security:\n",
    "\n",
    "1) Data Hiding: Encapsulation hides the internal state of an object by making attributes private. This prevents unauthorized access to sensitive data and ensures that data integrity and confidentiality are maintained. By exposing only controlled interfaces (e.g., getter and setter methods), encapsulation reduces the risk of data corruption or misuse.\n",
    "\n",
    "2) Access Control: Encapsulation allows for fine-grained access control by defining different levels of access (e.g., public, private, protected) for attributes and methods. This restricts direct access to critical components of the system and prevents unintended modifications or misuse of class members, enhancing the overall security posture of the application.\n",
    "\n",
    "3) Encapsulation of Invariants: Encapsulation encapsulates class invariants, i.e., constraints or conditions that must always hold true for objects of the class. By encapsulating these invariants within the class implementation, encapsulation ensures that they are consistently enforced and maintained, reducing the risk of logical errors and vulnerabilities in the code."
   ]
  },
  {
   "cell_type": "markdown",
   "id": "81806fdd-fc8c-45a6-86ce-6d8cf02fce3e",
   "metadata": {},
   "source": [
    "Ques10. How can you access private attributes in Python? Provide an example demonstrating the use of name\n",
    "mangling."
   ]
  },
  {
   "cell_type": "code",
   "execution_count": 67,
   "id": "8a14bf4c-496a-4831-80cb-4785fa54bc93",
   "metadata": {},
   "outputs": [
    {
     "name": "stdout",
     "output_type": "stream",
     "text": [
      "1000\n",
      "1500\n",
      "1300\n"
     ]
    }
   ],
   "source": [
    "class BankAccount:\n",
    "    def __init__(self, balance):\n",
    "        self.__balance = balance  # Private attribute\n",
    "\n",
    "    def get_balance(self):\n",
    "        return self.__balance\n",
    "\n",
    "    def deposit(self, amount):\n",
    "        if amount > 0:\n",
    "            self.__balance += amount\n",
    "\n",
    "    def withdraw(self, amount):\n",
    "        if 0 < amount <= self.__balance:\n",
    "            self.__balance -= amount\n",
    "        else:\n",
    "            raise ValueError(\"Insufficient funds or invalid amount\")\n",
    "\n",
    "# Example usage:\n",
    "account = BankAccount(1000)\n",
    "\n",
    "# Accessing the private attribute directly using name mangling\n",
    "print(account._BankAccount__balance)  # Output: 1000\n",
    "\n",
    "# Using public methods to interact with the private attribute\n",
    "account.deposit(500)\n",
    "print(account.get_balance())  \n",
    "\n",
    "account.withdraw(200)\n",
    "print(account.get_balance())  "
   ]
  },
  {
   "cell_type": "markdown",
   "id": "cf56539a-89d2-4e39-886a-6f65d3202648",
   "metadata": {},
   "source": [
    "Qes11. Create a Python class hierarchy for a school system, including classes for students, teachers, and courses,\n",
    "and implement encapsulation principles to protect sensitive information.A"
   ]
  },
  {
   "cell_type": "code",
   "execution_count": 68,
   "id": "a64c1b8c-1454-4414-9cb6-917c3272767d",
   "metadata": {},
   "outputs": [
    {
     "name": "stdout",
     "output_type": "stream",
     "text": [
      "Alice has been enrolled in Mathematics.\n",
      "Bob has been enrolled in Mathematics.\n",
      "A\n",
      "['Alice', 'Bob']\n",
      "60000\n",
      "65000\n"
     ]
    }
   ],
   "source": [
    "class Person:\n",
    "    def __init__(self, name, age):\n",
    "        self._name = name  # Protected attribute\n",
    "        self._age = age    # Protected attribute\n",
    "\n",
    "    def get_name(self):\n",
    "        return self._name\n",
    "\n",
    "    def get_age(self):\n",
    "        return self._age\n",
    "\n",
    "class Student(Person):\n",
    "    def __init__(self, name, age, student_id):\n",
    "        super().__init__(name, age)\n",
    "        self.__student_id = student_id  # Private attribute\n",
    "        self.__grades = {}  # Private attribute to store course grades\n",
    "\n",
    "    def get_student_id(self):\n",
    "        return self.__student_id\n",
    "\n",
    "    def add_grade(self, course, grade):\n",
    "        self.__grades[course] = grade\n",
    "\n",
    "    def get_grade(self, course):\n",
    "        return self.__grades.get(course, \"No grade for this course\")\n",
    "\n",
    "    def get_all_grades(self):\n",
    "        return self.__grades\n",
    "\n",
    "class Teacher(Person):\n",
    "    def __init__(self, name, age, employee_id, salary):\n",
    "        super().__init__(name, age)\n",
    "        self.__employee_id = employee_id  # Private attribute\n",
    "        self.__salary = salary  # Private attribute\n",
    "\n",
    "    def get_employee_id(self):\n",
    "        return self.__employee_id\n",
    "\n",
    "    def get_salary(self):\n",
    "        return self.__salary\n",
    "\n",
    "    def set_salary(self, new_salary):\n",
    "        self.__salary = new_salary\n",
    "\n",
    "class Course:\n",
    "    def __init__(self, course_name, teacher):\n",
    "        self._course_name = course_name  # Protected attribute\n",
    "        self._teacher = teacher  # Protected attribute\n",
    "        self.__students = []  # Private attribute to store enrolled students\n",
    "\n",
    "    def get_course_name(self):\n",
    "        return self._course_name\n",
    "\n",
    "    def get_teacher(self):\n",
    "        return self._teacher\n",
    "\n",
    "    def enroll_student(self, student):\n",
    "        if student not in self.__students:\n",
    "            self.__students.append(student)\n",
    "            return f\"{student.get_name()} has been enrolled in {self._course_name}.\"\n",
    "        return f\"{student.get_name()} is already enrolled in {self._course_name}.\"\n",
    "\n",
    "    def get_students(self):\n",
    "        return [student.get_name() for student in self.__students]\n",
    "\n",
    "# Example usage:\n",
    "teacher = Teacher(\"Mr. Smith\", 40, \"T1001\", 60000)\n",
    "course = Course(\"Mathematics\", teacher)\n",
    "student1 = Student(\"Alice\", 20, \"S1001\")\n",
    "student2 = Student(\"Bob\", 21, \"S1002\")\n",
    "\n",
    "print(course.enroll_student(student1))\n",
    "print(course.enroll_student(student2))\n",
    "\n",
    "student1.add_grade(\"Mathematics\", \"A\")\n",
    "print(student1.get_grade(\"Mathematics\")) \n",
    "\n",
    "print(course.get_students())  \n",
    "print(teacher.get_salary())  \n",
    "teacher.set_salary(65000)\n",
    "print(teacher.get_salary())  "
   ]
  },
  {
   "cell_type": "markdown",
   "id": "c8270379-fc00-4349-a12f-6c57c529450a",
   "metadata": {},
   "source": [
    "Ques12. Explain the concept of property decorators in Python and how they relate to encapsulation."
   ]
  },
  {
   "cell_type": "code",
   "execution_count": 69,
   "id": "030e9557-d8b9-4255-bcdc-7b04a381dfe6",
   "metadata": {},
   "outputs": [
    {
     "name": "stdout",
     "output_type": "stream",
     "text": [
      "1000\n",
      "1500\n"
     ]
    }
   ],
   "source": [
    "class BankAccount:\n",
    "    def __init__(self, initial_balance):\n",
    "        self.__balance = initial_balance  # Private attribute\n",
    "\n",
    "    @property\n",
    "    def balance(self):\n",
    "        \"\"\"Getter method for balance\"\"\"\n",
    "        return self.__balance\n",
    "\n",
    "    @balance.setter\n",
    "    def balance(self, amount):\n",
    "        \"\"\"Setter method for balance with validation\"\"\"\n",
    "        if amount < 0:\n",
    "            raise ValueError(\"Balance cannot be negative\")\n",
    "        self.__balance = amount\n",
    "\n",
    "    @balance.deleter\n",
    "    def balance(self):\n",
    "        \"\"\"Deleter method for balance\"\"\"\n",
    "        del self.__balance\n",
    "\n",
    "account = BankAccount(1000)\n",
    "print(account.balance)  \n",
    "\n",
    "account.balance = 1500  \n",
    "print(account.balance)  \n",
    "del account.balance"
   ]
  },
  {
   "cell_type": "markdown",
   "id": "ab4128f8-85f5-42b8-8d8c-8d8a7e198d2a",
   "metadata": {},
   "source": [
    "Ques13. What is data hiding, and why is it important in encapsulation? Provide examples."
   ]
  },
  {
   "cell_type": "markdown",
   "id": "ba53b8e6-1e5e-4b6e-8eba-045da83869a0",
   "metadata": {},
   "source": [
    "Data hiding is a fundamental principle of encapsulation in object-oriented programming. It involves restricting access to certain components of an object to protect the internal state and behavior from unauthorized access and modification."
   ]
  },
  {
   "cell_type": "code",
   "execution_count": 70,
   "id": "29e6cb09-1307-49fb-9609-a8fbea6455fc",
   "metadata": {},
   "outputs": [
    {
     "name": "stdout",
     "output_type": "stream",
     "text": [
      "1000\n",
      "1500\n",
      "1300\n"
     ]
    }
   ],
   "source": [
    "class BankAccount:\n",
    "    def __init__(self, balance):\n",
    "        self.__balance = balance  # Private attribute\n",
    "\n",
    "    def get_balance(self):\n",
    "        return self.__balance\n",
    "\n",
    "    def deposit(self, amount):\n",
    "        if amount > 0:\n",
    "            self.__balance += amount\n",
    "\n",
    "    def withdraw(self, amount):\n",
    "        if 0 < amount <= self.__balance:\n",
    "            self.__balance -= amount\n",
    "        else:\n",
    "            raise ValueError(\"Insufficient funds or invalid amount\")\n",
    "\n",
    "\n",
    "account = BankAccount(1000)\n",
    "print(account.get_balance())  \n",
    "\n",
    "account.deposit(500)\n",
    "print(account.get_balance())  \n",
    "\n",
    "account.withdraw(200)\n",
    "print(account.get_balance())  "
   ]
  },
  {
   "cell_type": "markdown",
   "id": "686a9860-c0a4-4eaa-8ef8-56a21f232fb0",
   "metadata": {},
   "source": [
    "Ques14. Create a Python class called `Employee` with private attributes for salary (`__salary`) and employee ID"
   ]
  },
  {
   "cell_type": "code",
   "execution_count": 71,
   "id": "556a42ee-3c91-46e0-b37b-61e7e9c72fa1",
   "metadata": {},
   "outputs": [
    {
     "name": "stdout",
     "output_type": "stream",
     "text": [
      "E123\n",
      "50000\n",
      "E124\n",
      "55000\n"
     ]
    }
   ],
   "source": [
    "class Employee:\n",
    "    def __init__(self, employee_id, salary):\n",
    "        self.__employee_id = employee_id  \n",
    "        self.__salary = salary  \n",
    "\n",
    "    @property\n",
    "    def employee_id(self):\n",
    "        \"\"\"Getter method for employee ID\"\"\"\n",
    "        return self.__employee_id\n",
    "\n",
    "    @employee_id.setter\n",
    "    def employee_id(self, new_id):\n",
    "        \"\"\"Setter method for employee ID\"\"\"\n",
    "        self.__employee_id = new_id\n",
    "\n",
    "    @property\n",
    "    def salary(self):\n",
    "        \"\"\"Getter method for salary\"\"\"\n",
    "        return self.__salary\n",
    "\n",
    "    @salary.setter\n",
    "    def salary(self, new_salary):\n",
    "        \"\"\"Setter method for salary with validation\"\"\"\n",
    "        if new_salary < 0:\n",
    "            raise ValueError(\"Salary cannot be negative\")\n",
    "        self.__salary = new_salary\n",
    "\n",
    "\n",
    "employee = Employee(\"E123\", 50000)\n",
    "\n",
    "\n",
    "print(employee.employee_id) \n",
    "print(employee.salary)  \n",
    "\n",
    "employee.employee_id = \"E124\"\n",
    "employee.salary = 55000\n",
    "\n",
    "print(employee.employee_id) \n",
    "print(employee.salary)  "
   ]
  },
  {
   "cell_type": "markdown",
   "id": "4280cd11-fcff-442f-88f4-6bfea022e681",
   "metadata": {},
   "source": [
    "Ques15. Discuss the use of accessors and mutators in encapsulation. How do they help maintain control over\n",
    "attribute access?"
   ]
  },
  {
   "cell_type": "code",
   "execution_count": 72,
   "id": "980554d4-cd1b-4afc-9b9d-0ca0cd148036",
   "metadata": {},
   "outputs": [
    {
     "name": "stdout",
     "output_type": "stream",
     "text": [
      "E123\n",
      "50000\n",
      "E124\n",
      "55000\n"
     ]
    }
   ],
   "source": [
    "class Employee:\n",
    "    def __init__(self, employee_id, salary):\n",
    "        self.__employee_id = employee_id  # Private attribute\n",
    "        self.__salary = salary  # Private attribute\n",
    "\n",
    "    @property\n",
    "    def employee_id(self):\n",
    "        \"\"\"Accessor (getter) for employee ID\"\"\"\n",
    "        return self.__employee_id\n",
    "\n",
    "    @employee_id.setter\n",
    "    def employee_id(self, new_id):\n",
    "        \"\"\"Mutator (setter) for employee ID\"\"\"\n",
    "        if isinstance(new_id, str) and new_id.isalnum():\n",
    "            self.__employee_id = new_id\n",
    "        else:\n",
    "            raise ValueError(\"Employee ID must be a non-empty alphanumeric string\")\n",
    "\n",
    "    @property\n",
    "    def salary(self):\n",
    "        \"\"\"Accessor (getter) for salary\"\"\"\n",
    "        return self.__salary\n",
    "\n",
    "    @salary.setter\n",
    "    def salary(self, new_salary):\n",
    "        \"\"\"Mutator (setter) for salary with validation\"\"\"\n",
    "        if new_salary < 0:\n",
    "            raise ValueError(\"Salary cannot be negative\")\n",
    "        self.__salary = new_salary\n",
    "\n",
    "\n",
    "employee = Employee(\"E123\", 50000)\n",
    "\n",
    "\n",
    "print(employee.employee_id) \n",
    "print(employee.salary)  \n",
    "\n",
    "\n",
    "employee.employee_id = \"E124\"\n",
    "employee.salary = 55000\n",
    "\n",
    "print(employee.employee_id)  \n",
    "print(employee.salary)  "
   ]
  },
  {
   "cell_type": "markdown",
   "id": "69857bd6-8faf-47bc-bd9a-01ae47bbc8e6",
   "metadata": {},
   "source": [
    "Ques16. What are the potential drawbacks or disadvantages of using encapsulation in Python?"
   ]
  },
  {
   "cell_type": "code",
   "execution_count": 73,
   "id": "7199320b-c08f-4ae8-95b5-9c3329371996",
   "metadata": {},
   "outputs": [
    {
     "name": "stdout",
     "output_type": "stream",
     "text": [
      "12\n",
      "20\n"
     ]
    }
   ],
   "source": [
    "class Rectangle:\n",
    "    def __init__(self, width, height):\n",
    "        self.width = width\n",
    "        self.height = height\n",
    "\n",
    "    def area(self):\n",
    "        return self.width * self.height\n",
    "\n",
    "rect = Rectangle(3, 4)\n",
    "print(rect.area())  \n",
    "rect.width = 5\n",
    "print(rect.area())  "
   ]
  },
  {
   "cell_type": "code",
   "execution_count": 74,
   "id": "5de05496-f86d-4845-9387-7d3b3ab961b5",
   "metadata": {},
   "outputs": [
    {
     "name": "stdout",
     "output_type": "stream",
     "text": [
      "12\n",
      "20\n"
     ]
    }
   ],
   "source": [
    "class Rectangle:\n",
    "    def __init__(self, width, height):\n",
    "        self.__width = width  # Private attribute\n",
    "        self.__height = height  # Private attribute\n",
    "\n",
    "    @property\n",
    "    def width(self):\n",
    "        return self.__width\n",
    "\n",
    "    @width.setter\n",
    "    def width(self, value):\n",
    "        if value <= 0:\n",
    "            raise ValueError(\"Width must be positive\")\n",
    "        self.__width = value\n",
    "\n",
    "    @property\n",
    "    def height(self):\n",
    "        return self.__height\n",
    "\n",
    "    @height.setter\n",
    "    def height(self, value):\n",
    "        if value <= 0:\n",
    "            raise ValueError(\"Height must be positive\")\n",
    "        self.__height = value\n",
    "\n",
    "    def area(self):\n",
    "        return self.__width * self.__height\n",
    "\n",
    "# Example usage:\n",
    "rect = Rectangle(3, 4)\n",
    "print(rect.area())  \n",
    "\n",
    "rect.width = 5  \n",
    "print(rect.area()) "
   ]
  },
  {
   "cell_type": "markdown",
   "id": "8e3a1719-d127-4536-af9e-f4ae42604187",
   "metadata": {},
   "source": [
    "Ques17. Create a Python class for a library system that encapsulates book information, including titles, authors,\n",
    "and availability status."
   ]
  },
  {
   "cell_type": "code",
   "execution_count": 75,
   "id": "e246cb0c-3e46-48e7-9191-a8a56db8a05d",
   "metadata": {},
   "outputs": [
    {
     "name": "stdout",
     "output_type": "stream",
     "text": [
      "Title: The Great Gatsby, Author: F. Scott Fitzgerald, Available: True\n",
      "Title: 1984, Author: George Orwell, Available: True\n",
      "Title: The Great Gatsby, Available: False\n",
      "Title: The Great Gatsby, Available: True\n"
     ]
    }
   ],
   "source": [
    "class Book:\n",
    "    def __init__(self, title, author):\n",
    "        self.__title = title  # Private attribute for title\n",
    "        self.__author = author  # Private attribute for author\n",
    "        self.__is_available = True  # Private attribute for availability status\n",
    "\n",
    "    @property\n",
    "    def title(self):\n",
    "        \"\"\"Accessor (getter) for title\"\"\"\n",
    "        return self.__title\n",
    "\n",
    "    @property\n",
    "    def author(self):\n",
    "        \"\"\"Accessor (getter) for author\"\"\"\n",
    "        return self.__author\n",
    "\n",
    "    @property\n",
    "    def is_available(self):\n",
    "        \"\"\"Accessor (getter) for availability status\"\"\"\n",
    "        return self.__is_available\n",
    "\n",
    "    def check_out(self):\n",
    "        \"\"\"Method to check out a book (set availability to False)\"\"\"\n",
    "        if self.__is_available:\n",
    "            self.__is_available = False\n",
    "        else:\n",
    "            raise ValueError(f\"The book '{self.__title}' is already checked out\")\n",
    "\n",
    "    def return_book(self):\n",
    "        \"\"\"Method to return a book (set availability to True)\"\"\"\n",
    "        if not self.__is_available:\n",
    "            self.__is_available = True\n",
    "        else:\n",
    "            raise ValueError(f\"The book '{self.__title}' is already available\")\n",
    "\n",
    "# Example usage\n",
    "book1 = Book(\"The Great Gatsby\", \"F. Scott Fitzgerald\")\n",
    "book2 = Book(\"1984\", \"George Orwell\")\n",
    "\n",
    "# Accessing book information\n",
    "print(f\"Title: {book1.title}, Author: {book1.author}, Available: {book1.is_available}\")\n",
    "print(f\"Title: {book2.title}, Author: {book2.author}, Available: {book2.is_available}\")\n",
    "\n",
    "# Checking out a book\n",
    "book1.check_out()\n",
    "print(f\"Title: {book1.title}, Available: {book1.is_available}\")\n",
    "\n",
    "book1.return_book()\n",
    "print(f\"Title: {book1.title}, Available: {book1.is_available}\")"
   ]
  },
  {
   "cell_type": "markdown",
   "id": "3548e185-e44c-48f5-82d0-7beffab54428",
   "metadata": {},
   "source": [
    "Ques18. Explain how encapsulation enhances code reusability and modularity in Python programs."
   ]
  },
  {
   "cell_type": "code",
   "execution_count": 76,
   "id": "d17e62be-8e39-4532-aa73-58e30bf69e1b",
   "metadata": {},
   "outputs": [
    {
     "name": "stdout",
     "output_type": "stream",
     "text": [
      "user1\n",
      "True\n",
      "Old password is incorrect\n",
      "True\n"
     ]
    }
   ],
   "source": [
    "class UserAccount:\n",
    "    def __init__(self, username, password):\n",
    "        self.__username = username  # Private attribute\n",
    "        self.__password = password  # Private attribute\n",
    "\n",
    "    @property\n",
    "    def username(self):\n",
    "        return self.__username\n",
    "\n",
    "    @username.setter\n",
    "    def username(self, new_username):\n",
    "        self.__username = new_username\n",
    "\n",
    "    def check_password(self, password):\n",
    "        \"\"\"Method to check if the provided password is correct\"\"\"\n",
    "        return self.__password == password\n",
    "\n",
    "    def change_password(self, old_password, new_password):\n",
    "        \"\"\"Method to change the password if the old password is correct\"\"\"\n",
    "        if self.check_password(old_password):\n",
    "            self.__password = new_password\n",
    "        else:\n",
    "            raise ValueError(\"Old password is incorrect\")\n",
    "\n",
    "\n",
    "user1 = UserAccount(\"user1\", \"pass123\")\n",
    "user2 = UserAccount(\"user2\", \"password\")\n",
    "\n",
    "print(user1.username)  \n",
    "print(user2.check_password(\"password\"))  \n",
    "\n",
    "\n",
    "try:\n",
    "    user1.change_password(\"wrongpass\", \"newpass\") \n",
    "except ValueError as e:\n",
    "    print(e)  \n",
    "\n",
    "user1.change_password(\"pass123\", \"newpass\")\n",
    "print(user1.check_password(\"newpass\")) "
   ]
  },
  {
   "cell_type": "markdown",
   "id": "ff91006f-2f3d-420c-a4b4-d44a5229dfc1",
   "metadata": {},
   "source": [
    "Ques19. Describe the concept of information hiding in encapsulation. Why is it essential in software development?"
   ]
  },
  {
   "cell_type": "code",
   "execution_count": 77,
   "id": "dfef0be0-c4c9-4e7e-a1c6-3e2010fa7d35",
   "metadata": {},
   "outputs": [
    {
     "name": "stdout",
     "output_type": "stream",
     "text": [
      "1000\n",
      "1500\n",
      "800\n"
     ]
    }
   ],
   "source": [
    "class BankAccount:\n",
    "    def __init__(self, account_number, balance):\n",
    "        self.__account_number = account_number  # Private attribute\n",
    "        self.__balance = balance  # Private attribute\n",
    "\n",
    "    def deposit(self, amount):\n",
    "        \"\"\"Method to deposit money into the account\"\"\"\n",
    "        self.__balance += amount\n",
    "\n",
    "    def withdraw(self, amount):\n",
    "        \"\"\"Method to withdraw money from the account\"\"\"\n",
    "        if amount <= self.__balance:\n",
    "            self.__balance -= amount\n",
    "        else:\n",
    "            raise ValueError(\"Insufficient funds\")\n",
    "\n",
    "    def get_balance(self):\n",
    "        \"\"\"Method to get the current balance\"\"\"\n",
    "        return self.__balance\n",
    "\n",
    "account = BankAccount(\"123456789\", 1000)\n",
    "print(account.get_balance())  \n",
    "account.deposit(500)\n",
    "print(account.get_balance())  \n",
    "account.withdraw(700)\n",
    "print(account.get_balance())  "
   ]
  },
  {
   "cell_type": "markdown",
   "id": "2ff99991-5993-47cf-9dcf-773feb7a7067",
   "metadata": {},
   "source": [
    "Ques20. Create a Python class called `Customer` with private attributes for customer details like name, address,\n",
    "and contact information. Implement encapsulation to ensure data integrity and security."
   ]
  },
  {
   "cell_type": "code",
   "execution_count": 78,
   "id": "1ce11980-4f41-4c74-afb4-cea477bd6c3e",
   "metadata": {},
   "outputs": [
    {
     "name": "stdout",
     "output_type": "stream",
     "text": [
      "John Doe\n",
      "123 Main St\n",
      "johndoe@example.com\n",
      "456 Elm St\n",
      "newemail@example.com\n"
     ]
    }
   ],
   "source": [
    "class Customer:\n",
    "    def __init__(self, name, address, contact_info):\n",
    "        self.__name = name  # Private attribute for name\n",
    "        self.__address = address  # Private attribute for address\n",
    "        self.__contact_info = contact_info  # Private attribute for contact information\n",
    "\n",
    "    @property\n",
    "    def name(self):\n",
    "        \"\"\"Accessor (getter) for name\"\"\"\n",
    "        return self.__name\n",
    "\n",
    "    @property\n",
    "    def address(self):\n",
    "        \"\"\"Accessor (getter) for address\"\"\"\n",
    "        return self.__address\n",
    "\n",
    "    @property\n",
    "    def contact_info(self):\n",
    "        \"\"\"Accessor (getter) for contact information\"\"\"\n",
    "        return self.__contact_info\n",
    "\n",
    "    def update_address(self, new_address):\n",
    "        \"\"\"Method to update the customer's address\"\"\"\n",
    "        self.__address = new_address\n",
    "\n",
    "    def update_contact_info(self, new_contact_info):\n",
    "        \"\"\"Method to update the customer's contact information\"\"\"\n",
    "        self.__contact_info = new_contact_info\n",
    "\n",
    "\n",
    "customer = Customer(\"John Doe\", \"123 Main St\", \"johndoe@example.com\")\n",
    "\n",
    "print(customer.name)  \n",
    "print(customer.address)  \n",
    "print(customer.contact_info)  \n",
    "\n",
    "# Updating customer information\n",
    "customer.update_address(\"456 Elm St\")\n",
    "customer.update_contact_info(\"newemail@example.com\")\n",
    "\n",
    "print(customer.address) \n",
    "print(customer.contact_info)  "
   ]
  },
  {
   "cell_type": "markdown",
   "id": "0468ca00-cc01-43a1-854e-5ad85582eea9",
   "metadata": {},
   "source": [
    "COMPLETED////////////////////////"
   ]
  },
  {
   "cell_type": "markdown",
   "id": "f65969db-d942-4f67-a1cf-d5be2cd39762",
   "metadata": {},
   "source": [
    "* Polymorphism:-"
   ]
  },
  {
   "cell_type": "markdown",
   "id": "989da039-eac9-4fe4-ad8f-dba7acb6f6a2",
   "metadata": {},
   "source": [
    "Ques1. What is polymorphism in Python? Explain how it is related to object-oriented programming."
   ]
  },
  {
   "cell_type": "markdown",
   "id": "863da506-7caa-4ef1-adda-77d9d8ca3128",
   "metadata": {},
   "source": [
    "Ans1. Polymorphism is a core concept in object-oriented programming (OOP) that refers to the ability of different objects to respond to the same method or operation in a way that is specific to their types. "
   ]
  },
  {
   "cell_type": "code",
   "execution_count": 79,
   "id": "1591a608-57cb-45bc-9caf-8882da5464ae",
   "metadata": {},
   "outputs": [
    {
     "name": "stdout",
     "output_type": "stream",
     "text": [
      "Woof\n",
      "Meow\n"
     ]
    }
   ],
   "source": [
    "class Animal:\n",
    "    def sound(self):\n",
    "        raise NotImplementedError(\"Subclass must implement abstract method\")\n",
    "\n",
    "class Dog(Animal):\n",
    "    def sound(self):\n",
    "        return \"Woof\"\n",
    "\n",
    "class Cat(Animal):\n",
    "    def sound(self):\n",
    "        return \"Meow\"\n",
    "\n",
    "# Demonstrating polymorphism\n",
    "animals = [Dog(), Cat()]\n",
    "for animal in animals:\n",
    "    print(animal.sound())"
   ]
  },
  {
   "cell_type": "markdown",
   "id": "b3342d87-826d-47cd-8d5c-6c18f6847c11",
   "metadata": {},
   "source": [
    "Ques2. Describe the difference between compile-time polymorphism and runtime polymorphism in Python."
   ]
  },
  {
   "cell_type": "code",
   "execution_count": 80,
   "id": "02dfc6e7-1717-4a6e-ab25-89275bad5239",
   "metadata": {},
   "outputs": [
    {
     "name": "stdout",
     "output_type": "stream",
     "text": [
      "Vector(4, 6)\n"
     ]
    }
   ],
   "source": [
    "# Compile-Time Polymorphism\n",
    "class Vector:\n",
    "    def __init__(self, x, y):\n",
    "        self.x = x\n",
    "        self.y = y\n",
    "\n",
    "    def __add__(self, other):\n",
    "        return Vector(self.x + other.x, self.y + other.y)\n",
    "\n",
    "    def __str__(self):\n",
    "        return f\"Vector({self.x}, {self.y})\"\n",
    "\n",
    "v1 = Vector(1, 2)\n",
    "v2 = Vector(3, 4)\n",
    "v3 = v1 + v2\n",
    "print(v3) "
   ]
  },
  {
   "cell_type": "code",
   "execution_count": 81,
   "id": "81e396dd-02f7-432a-8eef-1503e6c979db",
   "metadata": {},
   "outputs": [
    {
     "name": "stdout",
     "output_type": "stream",
     "text": [
      "Woof\n",
      "Meow\n"
     ]
    }
   ],
   "source": [
    "# Runtime Polymorphism\n",
    "class Animal:\n",
    "    def sound(self):\n",
    "        raise NotImplementedError(\"Subclass must implement abstract method\")\n",
    "\n",
    "class Dog(Animal):\n",
    "    def sound(self):\n",
    "        return \"Woof\"\n",
    "\n",
    "class Cat(Animal):\n",
    "    def sound(self):\n",
    "        return \"Meow\"\n",
    "\n",
    "def make_sound(animal):\n",
    "    print(animal.sound())\n",
    "\n",
    "# Demonstrating runtime polymorphism\n",
    "animals = [Dog(), Cat()]\n",
    "for animal in animals:\n",
    "    make_sound(animal)  "
   ]
  },
  {
   "cell_type": "markdown",
   "id": "c0319fa2-515d-4792-b72f-bde64fa84f02",
   "metadata": {},
   "source": [
    "Ques3. Create a Python class hierarchy for shapes (e.g., circle, square, triangle) and demonstrate polymorphism\n",
    "through a common method, such as `calculate_area()`."
   ]
  },
  {
   "cell_type": "code",
   "execution_count": 82,
   "id": "afb68d65-2726-4719-900c-a91c113085b9",
   "metadata": {},
   "outputs": [
    {
     "name": "stdout",
     "output_type": "stream",
     "text": [
      "A Circle with area: 78.53981633974483\n",
      "A Square with area: 16\n",
      "A Triangle with area: 9.0\n"
     ]
    }
   ],
   "source": [
    "import math\n",
    "\n",
    "# Base class\n",
    "class Shape:\n",
    "    def calculate_area(self):\n",
    "        raise NotImplementedError(\"Subclass must implement abstract method\")\n",
    "\n",
    "# Derived class: Circle\n",
    "class Circle(Shape):\n",
    "    def __init__(self, radius):\n",
    "        self.radius = radius\n",
    "\n",
    "    def calculate_area(self):\n",
    "        return math.pi * (self.radius ** 2)\n",
    "\n",
    "# Derived class: Square\n",
    "class Square(Shape):\n",
    "    def __init__(self, side):\n",
    "        self.side = side\n",
    "\n",
    "    def calculate_area(self):\n",
    "        return self.side * self.side\n",
    "\n",
    "# Derived class: Triangle\n",
    "class Triangle(Shape):\n",
    "    def __init__(self, base, height):\n",
    "        self.base = base\n",
    "        self.height = height\n",
    "\n",
    "    def calculate_area(self):\n",
    "        return 0.5 * self.base * self.height\n",
    "\n",
    "# Demonstrating polymorphism\n",
    "shapes = [\n",
    "    Circle(5),\n",
    "    Square(4),\n",
    "    Triangle(3, 6)\n",
    "]\n",
    "\n",
    "for shape in shapes:\n",
    "    print(f\"A {shape.__class__.__name__} with area: {shape.calculate_area()}\")"
   ]
  },
  {
   "cell_type": "markdown",
   "id": "ca7c7f61-254a-45d7-8f50-4b385fc76977",
   "metadata": {},
   "source": [
    "Ques4. Explain the concept of method overriding in polymorphism. Provide an example."
   ]
  },
  {
   "cell_type": "code",
   "execution_count": 83,
   "id": "83febc96-0719-426c-8bd0-9daf25070bab",
   "metadata": {},
   "outputs": [
    {
     "name": "stdout",
     "output_type": "stream",
     "text": [
      "Woof\n",
      "Meow\n"
     ]
    }
   ],
   "source": [
    "# Base class\n",
    "class Animal:\n",
    "    def make_sound(self):\n",
    "        raise NotImplementedError(\"Subclass must implement abstract method\")\n",
    "\n",
    "# Subclass: Dog\n",
    "class Dog(Animal):\n",
    "    def make_sound(self):\n",
    "        return \"Woof\"\n",
    "\n",
    "# Subclass: Cat\n",
    "class Cat(Animal):\n",
    "    def make_sound(self):\n",
    "        return \"Meow\"\n",
    "\n",
    "# Function to demonstrate polymorphism\n",
    "def make_animal_sound(animal):\n",
    "    print(animal.make_sound())\n",
    "\n",
    "animals = [Dog(), Cat()]\n",
    "\n",
    "for animal in animals:\n",
    "    make_animal_sound(animal)"
   ]
  },
  {
   "cell_type": "markdown",
   "id": "58e2c316-047e-456c-a8d6-407d1b8ce452",
   "metadata": {},
   "source": [
    "Ques5. How is polymorphism different from method overloading in Python? Provide examples for both."
   ]
  },
  {
   "cell_type": "code",
   "execution_count": 84,
   "id": "763ff366-7f7d-45b9-8e89-345834194f44",
   "metadata": {},
   "outputs": [
    {
     "name": "stdout",
     "output_type": "stream",
     "text": [
      "Woof\n",
      "Meow\n"
     ]
    }
   ],
   "source": [
    "# Polymorphism\n",
    "# Base class\n",
    "class Animal:\n",
    "    def make_sound(self):\n",
    "        raise NotImplementedError(\"Subclass must implement abstract method\")\n",
    "\n",
    "# Subclass: Dog\n",
    "class Dog(Animal):\n",
    "    def make_sound(self):\n",
    "        return \"Woof\"\n",
    "\n",
    "# Subclass: Cat\n",
    "class Cat(Animal):\n",
    "    def make_sound(self):\n",
    "        return \"Meow\"\n",
    "\n",
    "# Function to demonstrate polymorphism\n",
    "def make_animal_sound(animal):\n",
    "    print(animal.make_sound())\n",
    "\n",
    "# Demonstrating polymorphism\n",
    "animals = [Dog(), Cat()]\n",
    "\n",
    "for animal in animals:\n",
    "    make_animal_sound(animal)"
   ]
  },
  {
   "cell_type": "code",
   "execution_count": 85,
   "id": "c3a8c85b-1b12-4f00-810e-afe36a43e3ba",
   "metadata": {},
   "outputs": [
    {
     "name": "stdout",
     "output_type": "stream",
     "text": [
      "3\n",
      "10\n"
     ]
    }
   ],
   "source": [
    "# Method Overloading\n",
    "class MathOperations:\n",
    "    def add(self, *args):\n",
    "        return sum(args)\n",
    "\n",
    "# Demonstrating method overloading-like behavior\n",
    "math_ops = MathOperations()\n",
    "print(math_ops.add(1, 2))          \n",
    "print(math_ops.add(1, 2, 3, 4))    "
   ]
  },
  {
   "cell_type": "markdown",
   "id": "ebfd257f-e66f-4b1f-b8fd-8ec0199a52d1",
   "metadata": {},
   "source": [
    "Ques6. Create a Python class called `Animal` with a method `speak()`. Then, create child classes like `Dog`, `Cat`, and `Bird`, each with their own `speak()` method. Demonstrate polymorphism by calling the `speak()` method\n",
    "on objects of different subclasses."
   ]
  },
  {
   "cell_type": "code",
   "execution_count": 86,
   "id": "28f87aed-ac87-454d-b660-2df1c7ca2fa1",
   "metadata": {},
   "outputs": [
    {
     "name": "stdout",
     "output_type": "stream",
     "text": [
      "Woof\n",
      "Meow\n",
      "Chirp\n"
     ]
    }
   ],
   "source": [
    "# Base class\n",
    "class Animal:\n",
    "    def speak(self):\n",
    "        raise NotImplementedError(\"Subclass must implement abstract method\")\n",
    "\n",
    "# Subclass: Dog\n",
    "class Dog(Animal):\n",
    "    def speak(self):\n",
    "        return \"Woof\"\n",
    "\n",
    "# Subclass: Cat\n",
    "class Cat(Animal):\n",
    "    def speak(self):\n",
    "        return \"Meow\"\n",
    "\n",
    "# Subclass: Bird\n",
    "class Bird(Animal):\n",
    "    def speak(self):\n",
    "        return \"Chirp\"\n",
    "\n",
    "# Function to demonstrate polymorphism\n",
    "def animal_speak(animal):\n",
    "    print(animal.speak())\n",
    "\n",
    "# Creating instances of each subclass\n",
    "dog = Dog()\n",
    "cat = Cat()\n",
    "bird = Bird()\n",
    "\n",
    "# Demonstrating polymorphism\n",
    "animals = [dog, cat, bird]\n",
    "\n",
    "for animal in animals:\n",
    "    animal_speak(animal)"
   ]
  },
  {
   "cell_type": "markdown",
   "id": "d5331bb9-5dff-4450-a84b-adf8ff331f98",
   "metadata": {},
   "source": [
    "Ques7. Discuss the use of abstract methods and classes in achieving polymorphism in Python. Provide an example\n",
    "using the `abc` module."
   ]
  },
  {
   "cell_type": "code",
   "execution_count": 87,
   "id": "39d91b88-bba5-4389-a262-e2259d12f169",
   "metadata": {},
   "outputs": [
    {
     "name": "stdout",
     "output_type": "stream",
     "text": [
      "The area is: 78.53981633974483\n",
      "The area is: 16\n",
      "The area is: 9.0\n"
     ]
    }
   ],
   "source": [
    "from abc import ABC, abstractmethod\n",
    "import math\n",
    "\n",
    "# Abstract base class\n",
    "class Shape(ABC):\n",
    "    @abstractmethod\n",
    "    def calculate_area(self):\n",
    "        pass\n",
    "\n",
    "# Subclass: Circle\n",
    "class Circle(Shape):\n",
    "    def __init__(self, radius):\n",
    "        self.radius = radius\n",
    "\n",
    "    def calculate_area(self):\n",
    "        return math.pi * (self.radius ** 2)\n",
    "\n",
    "# Subclass: Square\n",
    "class Square(Shape):\n",
    "    def __init__(self, side):\n",
    "        self.side = side\n",
    "\n",
    "    def calculate_area(self):\n",
    "        return self.side * self.side\n",
    "\n",
    "# Subclass: Triangle\n",
    "class Triangle(Shape):\n",
    "    def __init__(self, base, height):\n",
    "        self.base = base\n",
    "        self.height = height\n",
    "\n",
    "    def calculate_area(self):\n",
    "        return 0.5 * self.base * self.height\n",
    "\n",
    "# Function to demonstrate polymorphism\n",
    "def print_area(shape):\n",
    "    print(f\"The area is: {shape.calculate_area()}\")\n",
    "\n",
    "# Creating instances of each subclass\n",
    "circle = Circle(5)\n",
    "square = Square(4)\n",
    "triangle = Triangle(3, 6)\n",
    "\n",
    "# Demonstrating polymorphism\n",
    "shapes = [circle, square, triangle]\n",
    "\n",
    "for shape in shapes:\n",
    "    print_area(shape)"
   ]
  },
  {
   "cell_type": "markdown",
   "id": "60d6f878-92ad-4814-a753-3946666e4ce0",
   "metadata": {},
   "source": [
    "Ques8. Create a Python class hierarchy for a vehicle system (e.g., car, bicycle, boat) and implement a polymorphic `start()` method that prints a message specific to each vehicle type."
   ]
  },
  {
   "cell_type": "code",
   "execution_count": 88,
   "id": "1b4fc7a8-e4d3-4769-9bb2-63972086c08f",
   "metadata": {},
   "outputs": [
    {
     "name": "stdout",
     "output_type": "stream",
     "text": [
      "The car's engine is starting with a roar.\n",
      "The bicycle is starting with a pedal push.\n",
      "The boat's motor is starting with a splash.\n"
     ]
    }
   ],
   "source": [
    "# Base class\n",
    "class Vehicle:\n",
    "    def start(self):\n",
    "        raise NotImplementedError(\"Subclass must implement abstract method\")\n",
    "\n",
    "# Subclass: Car\n",
    "class Car(Vehicle):\n",
    "    def start(self):\n",
    "        print(\"The car's engine is starting with a roar.\")\n",
    "\n",
    "# Subclass: Bicycle\n",
    "class Bicycle(Vehicle):\n",
    "    def start(self):\n",
    "        print(\"The bicycle is starting with a pedal push.\")\n",
    "\n",
    "# Subclass: Boat\n",
    "class Boat(Vehicle):\n",
    "    def start(self):\n",
    "        print(\"The boat's motor is starting with a splash.\")\n",
    "\n",
    "# Function to demonstrate polymorphism\n",
    "def start_vehicle(vehicle):\n",
    "    vehicle.start()\n",
    "\n",
    "# Creating instances of each subclass\n",
    "car = Car()\n",
    "bicycle = Bicycle()\n",
    "boat = Boat()\n",
    "\n",
    "# Demonstrating polymorphism\n",
    "vehicles = [car, bicycle, boat]\n",
    "\n",
    "for vehicle in vehicles:\n",
    "    start_vehicle(vehicle)"
   ]
  },
  {
   "cell_type": "markdown",
   "id": "8c902c68-fe73-4f42-a472-476a0e25386c",
   "metadata": {},
   "source": [
    "Ques9. Explain the significance of the `isinstance()` and `issubclass()` functions in Python polymorphism."
   ]
  },
  {
   "cell_type": "code",
   "execution_count": 89,
   "id": "b9495d2e-488c-47eb-8a7b-2736e5d00443",
   "metadata": {},
   "outputs": [
    {
     "name": "stdout",
     "output_type": "stream",
     "text": [
      "Woof\n",
      "Meow\n",
      "Not an Animal\n"
     ]
    }
   ],
   "source": [
    "class Animal:\n",
    "    def speak(self):\n",
    "        pass\n",
    "\n",
    "class Dog(Animal):\n",
    "    def speak(self):\n",
    "        return \"Woof\"\n",
    "\n",
    "class Cat(Animal):\n",
    "    def speak(self):\n",
    "        return \"Meow\"\n",
    "\n",
    "def make_animal_speak(animal):\n",
    "    if isinstance(animal, Animal):\n",
    "        print(animal.speak())\n",
    "    else:\n",
    "        print(\"Not an Animal\")\n",
    "\n",
    "dog = Dog()\n",
    "cat = Cat()\n",
    "\n",
    "make_animal_speak(dog)  \n",
    "make_animal_speak(cat)\n",
    "make_animal_speak(\"not an animal\") "
   ]
  },
  {
   "cell_type": "code",
   "execution_count": 90,
   "id": "d3c6cb27-0bc0-49fd-8710-c48e2e7b34ef",
   "metadata": {},
   "outputs": [
    {
     "name": "stdout",
     "output_type": "stream",
     "text": [
      "True\n",
      "True\n",
      "False\n"
     ]
    }
   ],
   "source": [
    "class Vehicle:\n",
    "    pass\n",
    "\n",
    "class Car(Vehicle):\n",
    "    pass\n",
    "\n",
    "class Bicycle(Vehicle):\n",
    "    pass\n",
    "\n",
    "print(issubclass(Car, Vehicle))  \n",
    "print(issubclass(Bicycle, Vehicle))  \n",
    "print(issubclass(Bicycle, Car))  "
   ]
  },
  {
   "cell_type": "markdown",
   "id": "a17ea0a4-53e1-45b6-902a-900b3606431a",
   "metadata": {},
   "source": [
    "Ques10. What is the role of the `@abstractmethod` decorator in achieving polymorphism in Python? Provide an\n",
    "example."
   ]
  },
  {
   "cell_type": "code",
   "execution_count": 91,
   "id": "d44248c3-751e-4fe9-a031-173d3146991d",
   "metadata": {},
   "outputs": [
    {
     "name": "stdout",
     "output_type": "stream",
     "text": [
      "The area is: 78.53981633974483\n",
      "The area is: 16\n"
     ]
    }
   ],
   "source": [
    "from abc import ABC, abstractmethod\n",
    "import math\n",
    "\n",
    "# Abstract base class\n",
    "class Shape(ABC):\n",
    "    @abstractmethod\n",
    "    def calculate_area(self):\n",
    "        pass\n",
    "\n",
    "# Subclass: Circle\n",
    "class Circle(Shape):\n",
    "    def __init__(self, radius):\n",
    "        self.radius = radius\n",
    "\n",
    "    def calculate_area(self):\n",
    "        return math.pi * (self.radius ** 2)\n",
    "\n",
    "# Subclass: Square\n",
    "class Square(Shape):\n",
    "    def __init__(self, side):\n",
    "        self.side = side\n",
    "\n",
    "    def calculate_area(self):\n",
    "        return self.side * self.side\n",
    "\n",
    "# Demonstrating polymorphism\n",
    "def print_area(shape):\n",
    "    print(f\"The area is: {shape.calculate_area()}\")\n",
    "\n",
    "# Creating instances of each subclass\n",
    "circle = Circle(5)\n",
    "square = Square(4)\n",
    "\n",
    "shapes = [circle, square]\n",
    "\n",
    "for shape in shapes:\n",
    "    print_area(shape)"
   ]
  },
  {
   "cell_type": "markdown",
   "id": "af76ed74-96fe-4c06-b6c9-cc6d3c966936",
   "metadata": {},
   "source": [
    "Ques11. Create a Python class called `Shape` with a polymorphic method `area()` that calculates the area of different shapes (e.g., circle, rectangle, triangle)."
   ]
  },
  {
   "cell_type": "code",
   "execution_count": 92,
   "id": "630519eb-bb5f-49c3-82f8-2ce6f8cf5f97",
   "metadata": {},
   "outputs": [
    {
     "name": "stdout",
     "output_type": "stream",
     "text": [
      "The area of the Circle is 78.53981633974483\n",
      "The area of the Rectangle is 24\n",
      "The area of the Triangle is 10.5\n"
     ]
    }
   ],
   "source": [
    "import math\n",
    "\n",
    "# Base class\n",
    "class Shape:\n",
    "    def area(self):\n",
    "        raise NotImplementedError(\"This method should be overridden by subclasses\")\n",
    "\n",
    "# Derived class for Circle\n",
    "class Circle(Shape):\n",
    "    def __init__(self, radius):\n",
    "        self.radius = radius\n",
    "    \n",
    "    def area(self):\n",
    "        return math.pi * self.radius ** 2\n",
    "\n",
    "# Derived class for Rectangle\n",
    "class Rectangle(Shape):\n",
    "    def __init__(self, width, height):\n",
    "        self.width = width\n",
    "        self.height = height\n",
    "    \n",
    "    def area(self):\n",
    "        return self.width * self.height\n",
    "\n",
    "class Triangle(Shape):\n",
    "    def __init__(self, base, height):\n",
    "        self.base = base\n",
    "        self.height = height\n",
    "    \n",
    "    def area(self):\n",
    "        return 0.5 * self.base * self.height\n",
    "\n",
    "# Example usage\n",
    "shapes = [\n",
    "    Circle(5),\n",
    "    Rectangle(4, 6),\n",
    "    Triangle(3, 7)\n",
    "]\n",
    "\n",
    "for shape in shapes:\n",
    "    print(f'The area of the {shape.__class__.__name__} is {shape.area()}')"
   ]
  },
  {
   "cell_type": "markdown",
   "id": "7fd138d3-3750-4a59-8ed7-476ecc5bed41",
   "metadata": {},
   "source": [
    "Ques12. Discuss the benefits of polymorphism in terms of code reusability and flexibility in Python programs."
   ]
  },
  {
   "cell_type": "code",
   "execution_count": 93,
   "id": "f0bead6d-2cb2-4f8d-a20d-39b5b965e06e",
   "metadata": {},
   "outputs": [
    {
     "name": "stdout",
     "output_type": "stream",
     "text": [
      "Total area: 113.03981633974483\n"
     ]
    }
   ],
   "source": [
    "class Shape:\n",
    "    def area(self):\n",
    "        raise NotImplementedError\n",
    "\n",
    "class Circle(Shape):\n",
    "    def __init__(self, radius):\n",
    "        self.radius = radius\n",
    "    \n",
    "    def area(self):\n",
    "        return math.pi * self.radius ** 2\n",
    "\n",
    "class Rectangle(Shape):\n",
    "    def __init__(self, width, height):\n",
    "        self.width = width\n",
    "        self.height = height\n",
    "    \n",
    "    def area(self):\n",
    "        return self.width * self.height\n",
    "\n",
    "class Triangle(Shape):\n",
    "    def __init__(self, base, height):\n",
    "        self.base = base\n",
    "        self.height = height\n",
    "    \n",
    "    def area(self):\n",
    "        return 0.5 * self.base * self.height\n",
    "\n",
    "def total_area(shapes):\n",
    "    return sum(shape.area() for shape in shapes)\n",
    "\n",
    "shapes = [Circle(5), Rectangle(4, 6), Triangle(3, 7)]\n",
    "print(f'Total area: {total_area(shapes)}')"
   ]
  },
  {
   "cell_type": "markdown",
   "id": "46765e4d-ac3d-43bc-8ddc-db41bf46a19f",
   "metadata": {},
   "source": [
    "Ques13. Explain the use of the `super()` function in Python polymorphism. How does it help call methods of parent\n",
    "classes?"
   ]
  },
  {
   "cell_type": "code",
   "execution_count": 94,
   "id": "c3513618-ea23-40fe-8252-681228580de8",
   "metadata": {},
   "outputs": [],
   "source": [
    "class Shape:\n",
    "    def __init__(self, color):\n",
    "        self.color = color\n",
    "        print(f\"Shape initialized with color {self.color}\")\n",
    "\n",
    "    def area(self):\n",
    "        raise NotImplementedError(\"Subclasses should implement this!\")\n",
    "\n",
    "class Rectangle(Shape):\n",
    "    def __init__(self, color, width, height):\n",
    "        super().__init__(color)\n",
    "        self.width = width\n",
    "        self.height = height\n",
    "        print(f\"Rectangle initialized with width {self.width} and height {self.height}\")\n",
    "\n",
    "    def area(self):\n",
    "        return self.width * self.height\n",
    "\n",
    "class Square(Rectangle):\n",
    "    def __init__(self, color, side_length):\n",
    "        super().__init__(color, side_length, side_length)\n",
    "        print(f\"Square initialized with side length {self.width}\")"
   ]
  },
  {
   "cell_type": "markdown",
   "id": "ef399f7e-56ac-4159-a3f4-9407f7a01023",
   "metadata": {},
   "source": [
    "Ques14. Create a Python class hierarchy for a banking system with various account types (e.g., savings, checking,"
   ]
  },
  {
   "cell_type": "code",
   "execution_count": 95,
   "id": "26340f1a-c36d-41a1-976e-f001d517969f",
   "metadata": {},
   "outputs": [
    {
     "name": "stdout",
     "output_type": "stream",
     "text": [
      "Account(12345, Abdul, Balance: 1000.0)\n",
      "Deposited 200. New balance is 1200.0.\n",
      "Deposited 24.0. New balance is 1224.0.\n",
      "Applied interest of 24.0. New balance is 1224.0.\n",
      "Invalid withdrawal amount.\n",
      "Account(12345, Abdul, Balance: 1224.0)\n",
      "Account(67890, Gyanvi, Balance: 500.0)\n",
      "Deposited 300. New balance is 800.0.\n",
      "Withdrew 1000. New balance is -200.0.\n",
      "Invalid withdrawal amount or exceeds overdraft limit.\n",
      "Account(67890, Gyanvi, Balance: -200.0)\n"
     ]
    }
   ],
   "source": [
    "class BankAccount:\n",
    "    def __init__(self, account_number, account_holder, balance=0.0):\n",
    "        self.account_number = account_number\n",
    "        self.account_holder = account_holder\n",
    "        self.balance = balance\n",
    "    \n",
    "    def deposit(self, amount):\n",
    "        if amount > 0:\n",
    "            self.balance += amount\n",
    "            print(f\"Deposited {amount}. New balance is {self.balance}.\")\n",
    "        else:\n",
    "            print(\"Deposit amount must be positive.\")\n",
    "\n",
    "    def withdraw(self, amount):\n",
    "        if amount > 0 and amount <= self.balance:\n",
    "            self.balance -= amount\n",
    "            print(f\"Withdrew {amount}. New balance is {self.balance}.\")\n",
    "        else:\n",
    "            print(\"Invalid withdrawal amount.\")\n",
    "    \n",
    "    def get_balance(self):\n",
    "        return self.balance\n",
    "\n",
    "    def __str__(self):\n",
    "        return f\"Account({self.account_number}, {self.account_holder}, Balance: {self.balance})\"\n",
    "\n",
    "class SavingsAccount(BankAccount):\n",
    "    def __init__(self, account_number, account_holder, balance=0.0, interest_rate=0.02):\n",
    "        super().__init__(account_number, account_holder, balance)\n",
    "        self.interest_rate = interest_rate\n",
    "    \n",
    "    def apply_interest(self):\n",
    "        interest = self.balance * self.interest_rate\n",
    "        self.deposit(interest)\n",
    "        print(f\"Applied interest of {interest}. New balance is {self.balance}.\")\n",
    "\n",
    "class CheckingAccount(BankAccount):\n",
    "    def __init__(self, account_number, account_holder, balance=0.0, overdraft_limit=500.0):\n",
    "        super().__init__(account_number, account_holder, balance)\n",
    "        self.overdraft_limit = overdraft_limit\n",
    "    \n",
    "    def withdraw(self, amount):\n",
    "        if amount > 0 and amount <= self.balance + self.overdraft_limit:\n",
    "            self.balance -= amount\n",
    "            print(f\"Withdrew {amount}. New balance is {self.balance}.\")\n",
    "        else:\n",
    "            print(\"Invalid withdrawal amount or exceeds overdraft limit.\")\n",
    "\n",
    "savings = SavingsAccount(\"12345\", \"Abdul\", 1000.0)\n",
    "checking = CheckingAccount(\"67890\", \"Gyanvi\", 500.0)\n",
    "\n",
    "print(savings)\n",
    "savings.deposit(200)\n",
    "savings.apply_interest()\n",
    "savings.withdraw(1500)\n",
    "print(savings)\n",
    "\n",
    "print(checking)\n",
    "checking.deposit(300)\n",
    "checking.withdraw(1000)\n",
    "checking.withdraw(800)\n",
    "print(checking)"
   ]
  },
  {
   "cell_type": "markdown",
   "id": "04bb6712-bfb8-4e12-b105-9f71757bfe5b",
   "metadata": {},
   "source": [
    "Ques15. Describe the concept of operator overloading in Python and how it relates to polymorphism. Provide\n",
    "examples using operators like `+` and `*`."
   ]
  },
  {
   "cell_type": "code",
   "execution_count": 96,
   "id": "4688d875-a7a1-403d-a2eb-025ac8fde07f",
   "metadata": {},
   "outputs": [
    {
     "name": "stdout",
     "output_type": "stream",
     "text": [
      "Vector(6, 8)\n",
      "Vector(6, 9)\n",
      "Vector(6, 9)\n"
     ]
    }
   ],
   "source": [
    "class Vector:\n",
    "    def __init__(self, x, y):\n",
    "        self.x = x\n",
    "        self.y = y\n",
    "\n",
    "    def __add__(self, other):\n",
    "        if isinstance(other, Vector):\n",
    "            return Vector(self.x + other.x, self.y + other.y)\n",
    "        else:\n",
    "            raise TypeError(\"Operand must be of type Vector\")\n",
    "\n",
    "    def __mul__(self, scalar):\n",
    "        if isinstance(scalar, (int, float)):\n",
    "            return Vector(self.x * scalar, self.y * scalar)\n",
    "        else:\n",
    "            raise TypeError(\"Operand must be a numeric type\")\n",
    "\n",
    "    def __rmul__(self, scalar):\n",
    "        return self.__mul__(scalar)\n",
    "\n",
    "    def __str__(self):\n",
    "        return f\"Vector({self.x}, {self.y})\"\n",
    "\n",
    "v1 = Vector(2, 3)\n",
    "v2 = Vector(4, 5)\n",
    "\n",
    "v3 = v1 + v2\n",
    "print(v3)  \n",
    "\n",
    "v4 = v1 * 3\n",
    "print(v4)  \n",
    "\n",
    "v5 = 3 * v1\n",
    "print(v5)  "
   ]
  },
  {
   "cell_type": "markdown",
   "id": "5fbee49a-daa2-4a5a-aea6-52be010404bf",
   "metadata": {},
   "source": [
    "Ques16. What is dynamic polymorphism, and how is it achieved in Python?"
   ]
  },
  {
   "cell_type": "code",
   "execution_count": 97,
   "id": "ce982f22-f5ab-4e7b-903b-8adefe20c744",
   "metadata": {},
   "outputs": [
    {
     "name": "stdout",
     "output_type": "stream",
     "text": [
      "Woof!\n",
      "Meow!\n"
     ]
    }
   ],
   "source": [
    "class Animal:\n",
    "    def make_sound(self):\n",
    "        raise NotImplementedError(\"Subclasses should implement this!\")\n",
    "\n",
    "class Dog(Animal):\n",
    "    def make_sound(self):\n",
    "        return \"Woof!\"\n",
    "\n",
    "class Cat(Animal):\n",
    "    def make_sound(self):\n",
    "        return \"Meow!\"\n",
    "\n",
    "\n",
    "def animal_sound(animal):\n",
    "    print(animal.make_sound())\n",
    "    \n",
    "dog = Dog()\n",
    "cat = Cat()\n",
    "\n",
    "animal_sound(dog)  \n",
    "animal_sound(cat)  "
   ]
  },
  {
   "cell_type": "markdown",
   "id": "e530dbc3-4b7f-4210-b0da-5c5dfe2f2952",
   "metadata": {},
   "source": [
    "Ques17. Create a Python class hierarchy for employees in a company (e.g., manager, developer, designer) and implement polymorphism through a common `calculate_salary()` method."
   ]
  },
  {
   "cell_type": "code",
   "execution_count": 98,
   "id": "d51e749e-8c7b-4aba-a765-06b895bcbf43",
   "metadata": {},
   "outputs": [
    {
     "name": "stdout",
     "output_type": "stream",
     "text": [
      "Manager(Gyanvi): Salary = 60000\n",
      "Developer(Abdul): Salary = 45000\n",
      "Designer(Zain): Salary = 52000\n"
     ]
    }
   ],
   "source": [
    "class Employee:\n",
    "    def __init__(self, name, base_salary):\n",
    "        self.name = name\n",
    "        self.base_salary = base_salary\n",
    "\n",
    "    def calculate_salary(self):\n",
    "        raise NotImplementedError(\"Subclasses should implement this method\")\n",
    "\n",
    "    def __str__(self):\n",
    "        return f\"{self.__class__.__name__}({self.name})\"\n",
    "\n",
    "class Manager(Employee):\n",
    "    def __init__(self, name, base_salary, bonus):\n",
    "        super().__init__(name, base_salary)\n",
    "        self.bonus = bonus\n",
    "\n",
    "    def calculate_salary(self):\n",
    "        return self.base_salary + self.bonus\n",
    "\n",
    "class Developer(Employee):\n",
    "    def __init__(self, name, base_salary, overtime_pay):\n",
    "        super().__init__(name, base_salary)\n",
    "        self.overtime_pay = overtime_pay\n",
    "\n",
    "    def calculate_salary(self):\n",
    "        return self.base_salary + self.overtime_pay\n",
    "\n",
    "class Designer(Employee):\n",
    "    def __init__(self, name, base_salary, project_bonus):\n",
    "        super().__init__(name, base_salary)\n",
    "        self.project_bonus = project_bonus\n",
    "\n",
    "    def calculate_salary(self):\n",
    "        return self.base_salary + self.project_bonus\n",
    "\n",
    "# Example usage\n",
    "employees = [\n",
    "    Manager(\"Gyanvi\", 50000, 10000),\n",
    "    Developer(\"Abdul\", 40000, 5000),\n",
    "    Designer(\"Zain\", 45000, 7000)\n",
    "]\n",
    "\n",
    "for employee in employees:\n",
    "    print(f\"{employee}: Salary = {employee.calculate_salary()}\")"
   ]
  },
  {
   "cell_type": "markdown",
   "id": "6339cc10-815b-483c-834a-10f2c2940fbc",
   "metadata": {},
   "source": [
    "Ques18. Discuss the concept of function pointers and how they can be used to achieve polymorphism in Python."
   ]
  },
  {
   "cell_type": "code",
   "execution_count": 99,
   "id": "b407de22-65ee-42e3-ac49-7954cdba993c",
   "metadata": {},
   "outputs": [
    {
     "name": "stdout",
     "output_type": "stream",
     "text": [
      "5\n",
      "6\n"
     ]
    }
   ],
   "source": [
    "def add(a, b):\n",
    "    return a + b\n",
    "\n",
    "def multiply(a, b):\n",
    "    return a * b\n",
    "\n",
    "def operate(func, a, b):\n",
    "    return func(a, b)\n",
    "\n",
    "# Using the operate function\n",
    "print(operate(add, 2, 3))       \n",
    "print(operate(multiply, 2, 3))  "
   ]
  },
  {
   "cell_type": "code",
   "execution_count": 100,
   "id": "024f7e23-e04f-4549-b704-2af99b800c64",
   "metadata": {},
   "outputs": [
    {
     "name": "stdout",
     "output_type": "stream",
     "text": [
      "Hello, Gyanvi!\n",
      "Hola, Gyanvi!\n"
     ]
    }
   ],
   "source": [
    "# Function Assigned to Variables\n",
    "def greet_in_english(name):\n",
    "    return f\"Hello, {name}!\"\n",
    "\n",
    "def greet_in_spanish(name):\n",
    "    return f\"Hola, {name}!\"\n",
    "\n",
    "# Assigning functions to a variable\n",
    "greet = greet_in_english\n",
    "print(greet(\"Gyanvi\"))  \n",
    "\n",
    "greet = greet_in_spanish\n",
    "print(greet(\"Gyanvi\"))  "
   ]
  },
  {
   "cell_type": "code",
   "execution_count": 101,
   "id": "53bcd528-ac6c-48ba-a8a3-94153cec64fd",
   "metadata": {},
   "outputs": [
    {
     "name": "stdout",
     "output_type": "stream",
     "text": [
      "8\n",
      "2\n",
      "15\n"
     ]
    }
   ],
   "source": [
    "# Achieving Polymorphism in a Class Context\n",
    "class Calculator:\n",
    "    def __init__(self, operation):\n",
    "        self.operation = operation\n",
    "\n",
    "    def calculate(self, a, b):\n",
    "        return self.operation(a, b)\n",
    "\n",
    "# Define some operations\n",
    "def add(a, b):\n",
    "    return a + b\n",
    "\n",
    "def subtract(a, b):\n",
    "    return a - b\n",
    "\n",
    "def multiply(a, b):\n",
    "    return a * b\n",
    "\n",
    "# Example usage\n",
    "calc_add = Calculator(add)\n",
    "calc_subtract = Calculator(subtract)\n",
    "calc_multiply = Calculator(multiply)\n",
    "\n",
    "print(calc_add.calculate(5, 3))       \n",
    "print(calc_subtract.calculate(5, 3))  \n",
    "print(calc_multiply.calculate(5, 3))  "
   ]
  },
  {
   "cell_type": "markdown",
   "id": "3544b283-a484-4026-a1fa-9ac541a6abd7",
   "metadata": {},
   "source": [
    "Ques19. Explain the role of interfaces and abstract classes in polymorphism, drawing comparisons between them."
   ]
  },
  {
   "cell_type": "code",
   "execution_count": 102,
   "id": "5954362f-e4be-4647-b49a-9dda3e141daf",
   "metadata": {},
   "outputs": [
    {
     "name": "stdout",
     "output_type": "stream",
     "text": [
      "Woof!\n",
      "This animal is eating.\n",
      "Meow!\n",
      "This animal is eating.\n"
     ]
    }
   ],
   "source": [
    "# Abstract Classes\n",
    "from abc import ABC, abstractmethod\n",
    "\n",
    "class Animal(ABC):\n",
    "    @abstractmethod\n",
    "    def make_sound(self):\n",
    "        pass\n",
    "\n",
    "    def eat(self):\n",
    "        print(\"This animal is eating.\")\n",
    "\n",
    "class Dog(Animal):\n",
    "    def make_sound(self):\n",
    "        return \"Woof!\"\n",
    "\n",
    "class Cat(Animal):\n",
    "    def make_sound(self):\n",
    "        return \"Meow!\"\n",
    "\n",
    "animals = [Dog(), Cat()]\n",
    "\n",
    "for animal in animals:\n",
    "    print(animal.make_sound())  \n",
    "    animal.eat()  "
   ]
  },
  {
   "cell_type": "code",
   "execution_count": 103,
   "id": "8abeeb45-0866-4cd5-b32d-2cc435914c0b",
   "metadata": {},
   "outputs": [
    {
     "name": "stdout",
     "output_type": "stream",
     "text": [
      "Woof!\n",
      "This animal is eating.\n",
      "Meow!\n",
      "This animal is eating.\n"
     ]
    }
   ],
   "source": [
    "# Interfaces\n",
    "from abc import ABC, abstractmethod\n",
    "\n",
    "class Animal(ABC):\n",
    "    @abstractmethod\n",
    "    def make_sound(self):\n",
    "        pass\n",
    "\n",
    "    def eat(self):\n",
    "        print(\"This animal is eating.\")\n",
    "\n",
    "class Dog(Animal):\n",
    "    def make_sound(self):\n",
    "        return \"Woof!\"\n",
    "\n",
    "class Cat(Animal):\n",
    "    def make_sound(self):\n",
    "        return \"Meow!\"\n",
    "\n",
    "animals = [Dog(), Cat()]\n",
    "\n",
    "for animal in animals:\n",
    "    print(animal.make_sound())  \n",
    "    animal.eat()  "
   ]
  },
  {
   "cell_type": "markdown",
   "id": "ee9c9d4b-33da-40d2-873f-4d1ca74eb32b",
   "metadata": {},
   "source": [
    "Ques20. Create a Python class for a zoo simulation, demonstrating polymorphism with different animal types (e.g., mammals, birds, reptiles) and their behavior (e.g., eating, sleeping, making sounds)."
   ]
  },
  {
   "cell_type": "code",
   "execution_count": 104,
   "id": "ad48926c-5b0b-484e-a410-5a1d170a695b",
   "metadata": {},
   "outputs": [
    {
     "name": "stdout",
     "output_type": "stream",
     "text": [
      "Mammal is eating.\n",
      "Mammal is sleeping.\n",
      "Mammal makes a sound: Woof!\n",
      "Bird is eating.\n",
      "Bird is sleeping.\n",
      "Bird makes a sound: Tweet!\n",
      "Reptile is eating.\n",
      "Reptile is sleeping.\n",
      "Reptile makes a sound: Hiss!\n"
     ]
    }
   ],
   "source": [
    "from abc import ABC, abstractmethod\n",
    "\n",
    "# Base class for animals\n",
    "class Animal(ABC):\n",
    "    @abstractmethod\n",
    "    def eat(self):\n",
    "        pass\n",
    "\n",
    "    @abstractmethod\n",
    "    def sleep(self):\n",
    "        pass\n",
    "\n",
    "    @abstractmethod\n",
    "    def make_sound(self):\n",
    "        pass\n",
    "\n",
    "# Mammal class\n",
    "class Mammal(Animal):\n",
    "    def eat(self):\n",
    "        print(\"Mammal is eating.\")\n",
    "\n",
    "    def sleep(self):\n",
    "        print(\"Mammal is sleeping.\")\n",
    "\n",
    "    def make_sound(self):\n",
    "        print(\"Mammal makes a sound: Woof!\")\n",
    "\n",
    "# Bird class\n",
    "class Bird(Animal):\n",
    "    def eat(self):\n",
    "        print(\"Bird is eating.\")\n",
    "\n",
    "    def sleep(self):\n",
    "        print(\"Bird is sleeping.\")\n",
    "\n",
    "    def make_sound(self):\n",
    "        print(\"Bird makes a sound: Tweet!\")\n",
    "\n",
    "# Reptile class\n",
    "class Reptile(Animal):\n",
    "    def eat(self):\n",
    "        print(\"Reptile is eating.\")\n",
    "\n",
    "    def sleep(self):\n",
    "        print(\"Reptile is sleeping.\")\n",
    "\n",
    "    def make_sound(self):\n",
    "        print(\"Reptile makes a sound: Hiss!\")\n",
    "\n",
    "# Zoo class to manage animals\n",
    "class Zoo:\n",
    "    def __init__(self):\n",
    "        self.animals = []\n",
    "\n",
    "    def add_animal(self, animal):\n",
    "        if not isinstance(animal, Animal):\n",
    "            raise ValueError(\"Only animals can be added to the zoo.\")\n",
    "        self.animals.append(animal)\n",
    "\n",
    "    def show_activities(self):\n",
    "        for animal in self.animals:\n",
    "            animal.eat()\n",
    "            animal.sleep()\n",
    "            animal.make_sound()\n",
    "\n",
    "\n",
    "zoo = Zoo()\n",
    "\n",
    "\n",
    "zoo.add_animal(Mammal())\n",
    "zoo.add_animal(Bird())\n",
    "zoo.add_animal(Reptile())\n",
    "\n",
    "zoo.show_activities()\n"
   ]
  },
  {
   "cell_type": "markdown",
   "id": "e8312e47-2595-4d93-a484-c8e05ad1db21",
   "metadata": {},
   "source": [
    "COMPLETED///////////////////////"
   ]
  },
  {
   "cell_type": "markdown",
   "id": "c57b973a-e36f-4be0-bca0-6165300862e3",
   "metadata": {},
   "source": [
    "Ques1. What is abstraction in Python, and how does it relate to object-oriented programming?"
   ]
  },
  {
   "cell_type": "code",
   "execution_count": 105,
   "id": "7cca7b7e-a05b-4a0b-ac63-906a274dbf42",
   "metadata": {},
   "outputs": [
    {
     "name": "stdout",
     "output_type": "stream",
     "text": [
      "Rectangle Area: 20\n",
      "Rectangle Perimeter: 18\n",
      "Circle Area: 28.26\n",
      "Circle Perimeter: 18.84\n"
     ]
    }
   ],
   "source": [
    "from abc import ABC, abstractmethod\n",
    "\n",
    "class Shape(ABC):  # Abstract Base Class\n",
    "    @abstractmethod\n",
    "    def area(self):\n",
    "        pass\n",
    "\n",
    "    @abstractmethod\n",
    "    def perimeter(self):\n",
    "        pass\n",
    "\n",
    "class Rectangle(Shape):\n",
    "    def __init__(self, length, width):\n",
    "        self.length = length\n",
    "        self.width = width\n",
    "\n",
    "    def area(self):\n",
    "        return self.length * self.width\n",
    "\n",
    "    def perimeter(self):\n",
    "        return 2 * (self.length + self.width)\n",
    "\n",
    "class Circle(Shape):\n",
    "    def __init__(self, radius):\n",
    "        self.radius = radius\n",
    "\n",
    "    def area(self):\n",
    "        return 3.14 * self.radius ** 2\n",
    "\n",
    "    def perimeter(self):\n",
    "        return 2 * 3.14 * self.radius\n",
    "\n",
    "rectangle = Rectangle(5, 4)\n",
    "print(\"Rectangle Area:\", rectangle.area())\n",
    "print(\"Rectangle Perimeter:\", rectangle.perimeter())\n",
    "\n",
    "circle = Circle(3)\n",
    "print(\"Circle Area:\", circle.area())\n",
    "print(\"Circle Perimeter:\", circle.perimeter())"
   ]
  },
  {
   "cell_type": "markdown",
   "id": "fc69263b-85b4-49f9-93e1-80b19f137d96",
   "metadata": {},
   "source": [
    "Ques2. Describe the benefits of abstraction in terms of code organization and complexity reduction."
   ]
  },
  {
   "cell_type": "markdown",
   "id": "f9cb4748-b824-4770-969e-89c308fd6378",
   "metadata": {},
   "source": [
    "Ans2. Abstraction offers several benefits in terms of code organization and complexity reduction:\n",
    "\n",
    "1. Modularization of Code:\n",
    "Abstraction allows you to break down complex notebooks into smaller, more manageable modules or functions. Each module or function can focus on a specific task or functionality, improving organization and readability.\n",
    "2. Encapsulation of Implementation Details:\n",
    "Abstraction hides the internal implementation details of a module or function, exposing only the essential interfaces or functionalities to the user. This reduces complexity and cognitive load for users who interact with the code.\n",
    "3. Separation of Concerns:\n",
    "By defining clear interfaces and hiding implementation details, abstraction promotes the separation of concerns within a notebook. Each cell or section can focus on a specific aspect of the analysis or workflow without being burdened by irrelevant details.\n",
    "4. Reusability:\n",
    "Abstracting common functionalities into reusable functions or modules promotes code reuse within a notebook and across different notebooks. This minimizes redundancy and improves productivity by avoiding the need to rewrite the same code multiple times.\n",
    "5. Ease of Maintenance:\n",
    "Abstraction simplifies maintenance by isolating changes to specific functions or modules. Modifications to the internal implementation of a function or module can be made without affecting other parts of the notebook, provided that the interface remains unchanged.\n",
    "6. Reduced Complexity:\n",
    "By providing a higher-level, simplified view of the notebook's functionality, abstraction reduces complexity and enhances readability. This makes it easier for users to understand, navigate, and modify the notebook as needed.\n",
    "7. Facilitates Collaboration:\n",
    "Abstraction promotes collaboration among users by providing clear interfaces and well-defined boundaries between different parts of the notebook. Users can work on different sections of the notebook independently, reducing conflicts and integration issues.\n",
    "8. Promotes Scalability:\n",
    "Abstracting complex analyses or workflows into modular components makes it easier to scale the notebook as requirements evolve. New functionalities or analyses can be added by extending existing abstractions or introducing new ones, without disrupting the overall structure of the notebook.\n",
    "9. Enhances Documentation and Explanation:\n",
    "Abstraction allows you to provide concise documentation and explanations for each function or module, making it easier for users to understand the purpose and usage of different components within the notebook."
   ]
  },
  {
   "cell_type": "markdown",
   "id": "a9ccd768-04e6-458a-a7fe-d7d1120f85c1",
   "metadata": {},
   "source": [
    "Ques3. Create a Python class called `Shape` with an abstract method `calculate_area()`. Then, create child classes (e.g., `Circle`, `Rectangle`) that implement the `calculate_area()` method. Provide an example of\n",
    "using these classes.\n"
   ]
  },
  {
   "cell_type": "code",
   "execution_count": 106,
   "id": "65b77f5c-3c1a-478d-ba31-47aa59c4c1cd",
   "metadata": {},
   "outputs": [
    {
     "name": "stdout",
     "output_type": "stream",
     "text": [
      "Area of the circle: 78.53981633974483\n",
      "Area of the rectangle: 24\n"
     ]
    }
   ],
   "source": [
    "from abc import ABC, abstractmethod\n",
    "import math\n",
    "\n",
    "class Shape(ABC):\n",
    "    @abstractmethod\n",
    "    def calculate_area(self):\n",
    "        pass\n",
    "\n",
    "class Circle(Shape):\n",
    "    def __init__(self, radius):\n",
    "        self.radius = radius\n",
    "\n",
    "    def calculate_area(self):\n",
    "        return math.pi * self.radius ** 2\n",
    "\n",
    "class Rectangle(Shape):\n",
    "    def __init__(self, width, height):\n",
    "        self.width = width\n",
    "        self.height = height\n",
    "\n",
    "    def calculate_area(self):\n",
    "        return self.width * self.height\n",
    "\n",
    "# Example usage\n",
    "circle = Circle(5)\n",
    "print(\"Area of the circle:\", circle.calculate_area())\n",
    "\n",
    "rectangle = Rectangle(4, 6)\n",
    "print(\"Area of the rectangle:\", rectangle.calculate_area())"
   ]
  },
  {
   "cell_type": "markdown",
   "id": "190dd322-93d5-4ca6-8d77-13dbf6ff3627",
   "metadata": {},
   "source": [
    "Ques4. Explain the concept of abstract classes in Python and how they are defined using the `abc` module. Provide\n",
    "an example."
   ]
  },
  {
   "cell_type": "code",
   "execution_count": 107,
   "id": "a7f775d1-2604-47aa-a409-154a9308f100",
   "metadata": {},
   "outputs": [
    {
     "name": "stdout",
     "output_type": "stream",
     "text": [
      "Dog says: Woof!\n",
      "Cat says: Meow!\n"
     ]
    }
   ],
   "source": [
    "from abc import ABC, abstractmethod\n",
    "\n",
    "class Animal(ABC):\n",
    "    @abstractmethod\n",
    "    def make_sound(self):\n",
    "        pass\n",
    "\n",
    "class Dog(Animal):\n",
    "    def make_sound(self):\n",
    "        return \"Woof!\"\n",
    "\n",
    "class Cat(Animal):\n",
    "    def make_sound(self):\n",
    "        return \"Meow!\"\n",
    "\n",
    "# Instantiate Dog and Cat objects\n",
    "dog = Dog()\n",
    "cat = Cat()\n",
    "\n",
    "# Call make_sound method on Dog and Cat objects\n",
    "print(\"Dog says:\", dog.make_sound())\n",
    "print(\"Cat says:\", cat.make_sound())"
   ]
  },
  {
   "cell_type": "markdown",
   "id": "7f46ef12-06d4-478c-bff5-c6cd3015e0d0",
   "metadata": {},
   "source": [
    "Ques5. How do abstract classes differ from regular classes in Python? Discuss their use cases."
   ]
  },
  {
   "cell_type": "markdown",
   "id": "72b28a66-6377-42c5-b6b2-a44071914f72",
   "metadata": {},
   "source": [
    "Ans5. Abstract classes and regular classes in Python serve different purposes and have distinct characteristics:\n",
    "\n",
    "Abstract Classes:\n",
    "Purpose:\n",
    "\n",
    "Abstract classes are meant to serve as blueprints for other classes. They define a common interface that subclasses must implement.\n",
    "They often contain one or more abstract methods, which are declared without implementation and must be overridden by subclasses.\n",
    "Instantiation:\n",
    "\n",
    "Abstract classes cannot be instantiated directly. Attempting to create an instance of an abstract class will result in an error.\n",
    "They are designed to be subclassed, providing a framework for defining related classes.\n",
    "Use Cases:\n",
    "\n",
    "Defining Common Interface: Abstract classes are used to define a common interface for a group of related classes. They ensure that all subclasses implement certain methods, enforcing consistency across the hierarchy.\n",
    "Polymorphism: Abstract classes facilitate polymorphic behavior by allowing objects of different subclasses to be treated uniformly based on the common interface.\n",
    "Example:\n",
    "\n",
    "Shape class in a geometry application, with abstract methods like calculate_area() and calculate_perimeter(). Subclasses like Circle, Rectangle, and Triangle implement these methods with specific formulas.\n",
    "Regular Classes:\n",
    "Purpose:\n",
    "\n",
    "Regular classes are used to create objects with specific attributes and behaviors. They represent concrete instances of a class.\n",
    "They can have both data attributes and methods with implementations.\n",
    "Instantiation:\n",
    "\n",
    "Regular classes can be instantiated directly using the class name followed by parentheses. This creates a new instance of the class, which can be used to access its attributes and methods.\n",
    "Use Cases:\n",
    "\n",
    "Modeling Real-world Entities: Regular classes are used to model real-world entities, such as people, cars, or products, with specific attributes and behaviors.\n",
    "Encapsulation and Data Abstraction: Regular classes encapsulate data and behaviors into a single unit, providing a clean interface for interacting with objects.\n",
    "Example:\n",
    "\n",
    "Car class representing vehicles, with attributes like make, model, and year, and methods like start_engine() and drive().\n",
    "Summary:\n",
    "Abstract classes provide a framework for defining common interfaces and enforcing consistency across related classes. They cannot be instantiated directly and are meant to be subclassed.\n",
    "Regular classes are used to create concrete objects with specific attributes and behaviors. They can be instantiated directly and represent instances of a class.\n",
    "Use Cases:\n",
    "\n",
    "Use abstract classes when you want to define a common interface for a group of related classes or enforce the implementation of certain methods.\n",
    "Use regular classes when you want to create concrete objects with specific attributes and behaviors, without the need for inheritance or polymorphism."
   ]
  },
  {
   "cell_type": "markdown",
   "id": "813b0e0f-27c0-491b-abf0-a4fc45557150",
   "metadata": {},
   "source": [
    "Ques6. Create a Python class for a bank account and demonstrate abstraction by hiding the account balance and\n",
    "providing methods to deposit and withdraw funds."
   ]
  },
  {
   "cell_type": "code",
   "execution_count": 108,
   "id": "0f0d06db-f7a4-4440-8b28-08910e630de5",
   "metadata": {},
   "outputs": [
    {
     "name": "stdout",
     "output_type": "stream",
     "text": [
      "Initial balance: 0\n",
      "Deposited $1000. New balance: $1000\n",
      "Withdrew $500. New balance: $500\n",
      "Insufficient funds or invalid withdrawal amount.\n",
      "Invalid deposit amount. Amount must be positive.\n"
     ]
    }
   ],
   "source": [
    "class BankAccount:\n",
    "    def __init__(self, account_number, account_holder):\n",
    "        self._account_number = account_number\n",
    "        self._account_holder = account_holder\n",
    "        self._balance = 0  # Default balance is 0\n",
    "\n",
    "    def deposit(self, amount):\n",
    "        if amount > 0:\n",
    "            self._balance += amount\n",
    "            print(f\"Deposited ${amount}. New balance: ${self._balance}\")\n",
    "        else:\n",
    "            print(\"Invalid deposit amount. Amount must be positive.\")\n",
    "\n",
    "    def withdraw(self, amount):\n",
    "        if 0 < amount <= self._balance:\n",
    "            self._balance -= amount\n",
    "            print(f\"Withdrew ${amount}. New balance: ${self._balance}\")\n",
    "        else:\n",
    "            print(\"Insufficient funds or invalid withdrawal amount.\")\n",
    "\n",
    "    def get_balance(self):\n",
    "        return self._balance\n",
    "\n",
    "# Example usage\n",
    "account = BankAccount(\"123456789\", \"John Doe\")\n",
    "print(\"Initial balance:\", account.get_balance())\n",
    "\n",
    "account.deposit(1000)\n",
    "account.withdraw(500)\n",
    "account.withdraw(700)\n",
    "account.deposit(-200)  "
   ]
  },
  {
   "cell_type": "code",
   "execution_count": 109,
   "id": "e537e8ad-6c04-40f5-a2a1-204881f385b5",
   "metadata": {},
   "outputs": [],
   "source": [
    "from abc import ABC, abstractmethod\n",
    "\n",
    "class Shape(ABC):\n",
    "    @abstractmethod\n",
    "    def calculate_area(self):\n",
    "        pass\n",
    "\n",
    "class Rectangle(Shape):\n",
    "    def __init__(self, width, height):\n",
    "        self.width = width\n",
    "        self.height = height\n",
    "\n",
    "    def calculate_area(self):\n",
    "        return self.width * self.height\n",
    "\n",
    "class Circle(Shape):\n",
    "    def __init__(self, radius):\n",
    "        self.radius = radius\n",
    "\n",
    "    def calculate_area(self):\n",
    "        return 3.14 * self.radius ** 2"
   ]
  },
  {
   "cell_type": "markdown",
   "id": "6f859f92-2abe-4635-baed-193d03a7d071",
   "metadata": {},
   "source": [
    "Ques7. Discuss the concept of interface classes in Python and their role in achieving abstraction."
   ]
  },
  {
   "cell_type": "code",
   "execution_count": 110,
   "id": "9f188ca0-9bef-4064-b311-533d625159c6",
   "metadata": {},
   "outputs": [],
   "source": [
    "from abc import ABC, abstractmethod\n",
    "\n",
    "class Shape(ABC):\n",
    "    @abstractmethod\n",
    "    def calculate_area(self):\n",
    "        pass\n",
    "\n",
    "class Rectangle(Shape):\n",
    "    def __init__(self, width, height):\n",
    "        self.width = width\n",
    "        self.height = height\n",
    "\n",
    "    def calculate_area(self):\n",
    "        return self.width * self.height\n",
    "\n",
    "class Circle(Shape):\n",
    "    def __init__(self, radius):\n",
    "        self.radius = radius\n",
    "\n",
    "    def calculate_area(self):\n",
    "        return 3.14 * self.radius ** 2"
   ]
  },
  {
   "cell_type": "markdown",
   "id": "62a507c7-f77d-46f6-9b96-77526d3cceb0",
   "metadata": {},
   "source": [
    "Ques8. Create a Python class hierarchy for animals and implement abstraction by defining common methods"
   ]
  },
  {
   "cell_type": "code",
   "execution_count": 111,
   "id": "74ede44d-e291-4a92-9ab7-39df2403d735",
   "metadata": {},
   "outputs": [
    {
     "ename": "TypeError",
     "evalue": "Can't instantiate abstract class Mammal with abstract method make_sound",
     "output_type": "error",
     "traceback": [
      "\u001b[0;31m---------------------------------------------------------------------------\u001b[0m",
      "\u001b[0;31mTypeError\u001b[0m                                 Traceback (most recent call last)",
      "Cell \u001b[0;32mIn[111], line 38\u001b[0m\n\u001b[1;32m     35\u001b[0m         \u001b[38;5;28;01mreturn\u001b[39;00m \u001b[38;5;124m\"\u001b[39m\u001b[38;5;124mSwimming\u001b[39m\u001b[38;5;124m\"\u001b[39m\n\u001b[1;32m     37\u001b[0m \u001b[38;5;66;03m# Example usage\u001b[39;00m\n\u001b[0;32m---> 38\u001b[0m dog \u001b[38;5;241m=\u001b[39m \u001b[43mMammal\u001b[49m\u001b[43m(\u001b[49m\u001b[38;5;124;43m\"\u001b[39;49m\u001b[38;5;124;43mBuddy\u001b[39;49m\u001b[38;5;124;43m\"\u001b[39;49m\u001b[43m,\u001b[49m\u001b[43m \u001b[49m\u001b[38;5;124;43m\"\u001b[39;49m\u001b[38;5;124;43mDog\u001b[39;49m\u001b[38;5;124;43m\"\u001b[39;49m\u001b[43m)\u001b[49m\n\u001b[1;32m     39\u001b[0m \u001b[38;5;28mprint\u001b[39m(dog\u001b[38;5;241m.\u001b[39mname, \u001b[38;5;124m\"\u001b[39m\u001b[38;5;124mthe\u001b[39m\u001b[38;5;124m\"\u001b[39m, dog\u001b[38;5;241m.\u001b[39mspecies, \u001b[38;5;124m\"\u001b[39m\u001b[38;5;124mis\u001b[39m\u001b[38;5;124m\"\u001b[39m, dog\u001b[38;5;241m.\u001b[39mmove())\n\u001b[1;32m     41\u001b[0m sparrow \u001b[38;5;241m=\u001b[39m Bird(\u001b[38;5;124m\"\u001b[39m\u001b[38;5;124mChirpy\u001b[39m\u001b[38;5;124m\"\u001b[39m, \u001b[38;5;124m\"\u001b[39m\u001b[38;5;124mSparrow\u001b[39m\u001b[38;5;124m\"\u001b[39m)\n",
      "\u001b[0;31mTypeError\u001b[0m: Can't instantiate abstract class Mammal with abstract method make_sound"
     ]
    }
   ],
   "source": [
    "from abc import ABC, abstractmethod\n",
    "\n",
    "class Animal(ABC):\n",
    "    def __init__(self, name, species):\n",
    "        self.name = name\n",
    "        self.species = species\n",
    "\n",
    "    @abstractmethod\n",
    "    def make_sound(self):\n",
    "        pass\n",
    "\n",
    "    @abstractmethod\n",
    "    def move(self):\n",
    "        pass\n",
    "\n",
    "class Mammal(Animal):\n",
    "    def __init__(self, name, species):\n",
    "        super().__init__(name, species)\n",
    "\n",
    "    def move(self):\n",
    "        return \"Walking\"\n",
    "\n",
    "class Bird(Animal):\n",
    "    def __init__(self, name, species):\n",
    "        super().__init__(name, species)\n",
    "\n",
    "    def move(self):\n",
    "        return \"Flying\"\n",
    "\n",
    "class Fish(Animal):\n",
    "    def __init__(self, name, species):\n",
    "        super().__init__(name, species)\n",
    "\n",
    "    def move(self):\n",
    "        return \"Swimming\"\n",
    "\n",
    "# Example usage\n",
    "dog = Mammal(\"Buddy\", \"Dog\")\n",
    "print(dog.name, \"the\", dog.species, \"is\", dog.move())\n",
    "\n",
    "sparrow = Bird(\"Chirpy\", \"Sparrow\")\n",
    "print(sparrow.name, \"the\", sparrow.species, \"is\", sparrow.move())\n",
    "\n",
    "goldfish = Fish(\"Goldie\", \"Goldfish\")\n",
    "print(goldfish.name, \"the\", goldfish.species, \"is\", goldfish.move())\n"
   ]
  },
  {
   "cell_type": "markdown",
   "id": "36258d76-5176-49d2-8dde-5122016cf927",
   "metadata": {},
   "source": [
    "Ques9. Explain the significance of encapsulation in achieving abstraction. Provide examples."
   ]
  },
  {
   "cell_type": "code",
   "execution_count": null,
   "id": "93fe801d-40d4-4b6a-9af0-eb292bd627d2",
   "metadata": {},
   "outputs": [],
   "source": [
    "class BankAccount:\n",
    "    def __init__(self, account_number, account_holder):\n",
    "        self._account_number = account_number  # Encapsulated data\n",
    "        self._account_holder = account_holder  # Encapsulated data\n",
    "        self._balance = 0  # Encapsulated data\n",
    "\n",
    "    def deposit(self, amount):\n",
    "        if amount > 0:\n",
    "            self._balance += amount\n",
    "            print(f\"Deposited ${amount}. New balance: ${self._balance}\")\n",
    "        else:\n",
    "            print(\"Invalid deposit amount. Amount must be positive.\")\n",
    "\n",
    "    def withdraw(self, amount):\n",
    "        if 0 < amount <= self._balance:\n",
    "            self._balance -= amount\n",
    "            print(f\"Withdrew ${amount}. New balance: ${self._balance}\")\n",
    "        else:\n",
    "            print(\"Insufficient funds or invalid withdrawal amount.\")\n",
    "\n",
    "    def get_balance(self):\n",
    "        return self._balance  # Encapsulated data accessed through method\n",
    "\n",
    "# Example usage\n",
    "account = BankAccount(\"123456789\", \"John Doe\")\n",
    "balance = account.get_balance()  \n",
    "print(\"Initial balance:\", balance)"
   ]
  },
  {
   "cell_type": "markdown",
   "id": "7f033424-bf14-47d4-a591-2842c524244b",
   "metadata": {},
   "source": [
    "Ques10. What is the purpose of abstract methods, and how do they enforce abstraction in Python classes?"
   ]
  },
  {
   "cell_type": "code",
   "execution_count": null,
   "id": "336a06cc-ce7f-4087-8ce1-ee83a1682e5d",
   "metadata": {},
   "outputs": [],
   "source": [
    "from abc import ABC, abstractmethod\n",
    "\n",
    "class Shape(ABC):\n",
    "    @abstractmethod\n",
    "    def calculate_area(self):\n",
    "        pass\n",
    "\n",
    "class Rectangle(Shape):\n",
    "    def __init__(self, width, height):\n",
    "        self.width = width\n",
    "        self.height = height\n",
    "\n",
    "    def calculate_area(self):\n",
    "        return self.width * self.height\n",
    "\n",
    "class Circle(Shape):\n",
    "    def __init__(self, radius):\n",
    "        self.radius = radius\n",
    "\n",
    "    def calculate_area(self):\n",
    "        return 3.14 * self.radius ** 2"
   ]
  },
  {
   "cell_type": "markdown",
   "id": "5267ab10-b998-4854-9a0b-852dd6e646df",
   "metadata": {},
   "source": [
    "Ques11. Create a Python class for a vehicle system and demonstrate abstraction by defining common methods"
   ]
  },
  {
   "cell_type": "code",
   "execution_count": null,
   "id": "2368166a-93f7-4ef0-80ca-de715a2d6d55",
   "metadata": {},
   "outputs": [],
   "source": [
    "from abc import ABC, abstractmethod\n",
    "\n",
    "class Vehicle(ABC):\n",
    "    def __init__(self, make, model, year):\n",
    "        self.make = make\n",
    "        self.model = model\n",
    "        self.year = year\n",
    "\n",
    "    @abstractmethod\n",
    "    def start(self):\n",
    "        pass\n",
    "\n",
    "    @abstractmethod\n",
    "    def stop(self):\n",
    "        pass\n",
    "\n",
    "class Car(Vehicle):\n",
    "    def start(self):\n",
    "        return f\"{self.year} {self.make} {self.model} starts the engine.\"\n",
    "\n",
    "    def stop(self):\n",
    "        return f\"{self.year} {self.make} {self.model} stops the engine.\"\n",
    "\n",
    "class Motorcycle(Vehicle):\n",
    "    def start(self):\n",
    "        return f\"{self.year} {self.make} {self.model} revs up.\"\n",
    "\n",
    "    def stop(self):\n",
    "        return f\"{self.year} {self.make} {self.model} shuts down.\"\n",
    "\n",
    "# Example usage\n",
    "car = Car(\"Toyota\", \"Fortuner\", 2021)\n",
    "print(car.start())\n",
    "print(car.stop())\n",
    "\n",
    "motorcycle = Motorcycle(\"Honda\", \"CBR600RR\", 2020)\n",
    "print(motorcycle.start())\n",
    "print(motorcycle.stop())"
   ]
  },
  {
   "cell_type": "markdown",
   "id": "9e34fc26-62a9-4132-8262-de4943325e5c",
   "metadata": {},
   "source": [
    "Ques12. Describe the use of abstract properties in Python and how they can be employed in abstract classes."
   ]
  },
  {
   "cell_type": "code",
   "execution_count": null,
   "id": "d789a352-b371-4247-8f7b-623ecfdeec41",
   "metadata": {},
   "outputs": [],
   "source": [
    "from abc import ABC, abstractmethod\n",
    "\n",
    "class Vehicle(ABC):\n",
    "    @property\n",
    "    @abstractmethod\n",
    "    def make(self):\n",
    "        pass\n",
    "\n",
    "    @property\n",
    "    @abstractmethod\n",
    "    def model(self):\n",
    "        pass\n",
    "\n",
    "    @property\n",
    "    @abstractmethod\n",
    "    def year(self):\n",
    "        pass\n",
    "\n",
    "class Car(Vehicle):\n",
    "    def __init__(self, make, model, year):\n",
    "        self._make = make\n",
    "        self._model = model\n",
    "        self._year = year\n",
    "\n",
    "    @property\n",
    "    def make(self):\n",
    "        return self._make\n",
    "\n",
    "    @property\n",
    "    def model(self):\n",
    "        return self._model\n",
    "\n",
    "    @property\n",
    "    def year(self):\n",
    "        return self._year\n",
    "\n",
    "car = Car(\"Toyota\", \"Supra\", 2021)\n",
    "print(car.make)\n",
    "print(car.model)\n",
    "print(car.year)"
   ]
  },
  {
   "cell_type": "markdown",
   "id": "ebb08107-b49c-4e22-95b2-003f17474228",
   "metadata": {},
   "source": [
    "Ques13. Create a Python class hierarchy for employees in a company (e.g., manager, developer, designer) and"
   ]
  },
  {
   "cell_type": "code",
   "execution_count": 112,
   "id": "3bf3371a-8ff3-4388-a4fe-95f992fea825",
   "metadata": {},
   "outputs": [
    {
     "name": "stdout",
     "output_type": "stream",
     "text": [
      "Gyanvi (ID: M001) has a salary of $100000\n",
      "Abdul (ID: D001) has a salary of $8000\n",
      "Anshika (ID: DS001) has a salary of $85000\n"
     ]
    }
   ],
   "source": [
    "from abc import ABC, abstractmethod\n",
    "\n",
    "class Employee(ABC):\n",
    "    def __init__(self, name, employee_id):\n",
    "        self.name = name\n",
    "        self.employee_id = employee_id\n",
    "\n",
    "    @abstractmethod\n",
    "    def calculate_salary(self):\n",
    "        pass\n",
    "\n",
    "class Manager(Employee):\n",
    "    def __init__(self, name, employee_id, salary):\n",
    "        super().__init__(name, employee_id)\n",
    "        self.salary = salary\n",
    "\n",
    "    def calculate_salary(self):\n",
    "        return self.salary\n",
    "\n",
    "class Developer(Employee):\n",
    "    def __init__(self, name, employee_id, hourly_rate, hours_worked):\n",
    "        super().__init__(name, employee_id)\n",
    "        self.hourly_rate = hourly_rate\n",
    "        self.hours_worked = hours_worked\n",
    "\n",
    "    def calculate_salary(self):\n",
    "        return self.hourly_rate * self.hours_worked\n",
    "\n",
    "class Designer(Employee):\n",
    "    def __init__(self, name, employee_id, base_salary, bonus):\n",
    "        super().__init__(name, employee_id)\n",
    "        self.base_salary = base_salary\n",
    "        self.bonus = bonus\n",
    "\n",
    "    def calculate_salary(self):\n",
    "        return self.base_salary + self.bonus\n",
    "\n",
    "# Example usage\n",
    "manager = Manager(\"Gyanvi\", \"M001\", 100000)\n",
    "print(f\"{manager.name} (ID: {manager.employee_id}) has a salary of ${manager.calculate_salary()}\")\n",
    "\n",
    "developer = Developer(\"Abdul\", \"D001\", 50, 160)\n",
    "print(f\"{developer.name} (ID: {developer.employee_id}) has a salary of ${developer.calculate_salary()}\")\n",
    "\n",
    "designer = Designer(\"Anshika\", \"DS001\", 80000, 5000)\n",
    "print(f\"{designer.name} (ID: {designer.employee_id}) has a salary of ${designer.calculate_salary()}\")"
   ]
  },
  {
   "cell_type": "markdown",
   "id": "70c7b1a1-fa77-48da-9b56-59964293d9b5",
   "metadata": {},
   "source": [
    "Ques14. Discuss the differences between abstract classes and concrete classes in Python, including their\n",
    "instantiation."
   ]
  },
  {
   "cell_type": "markdown",
   "id": "9f6de85c-183e-4047-95fb-fe63dd248769",
   "metadata": {},
   "source": [
    "Ans14. Abstract classes and concrete classes in Python serve different purposes and have distinct characteristics:\n",
    "Abstract Classes:\n",
    "\n",
    "Purpose:\n",
    "\n",
    "Abstract classes are meant to serve as blueprints for other classes. They define a common interface that subclasses must implement.\n",
    "They often contain one or more abstract methods, which are declared without implementation and must be overridden by subclasses.\n",
    "\n",
    "Instantiation:\n",
    "Abstract classes cannot be instantiated directly. Attempting to create an instance of an abstract class will result in an error.\n",
    "They are designed to be subclassed, providing a framework for defining related classes.\n",
    "\n",
    "Use Cases:\n",
    "Defining Common Interface: Abstract classes are used to define a common interface for a group of related classes. They ensure that all subclasses implement certain methods, enforcing consistency across the hierarchy.\n",
    "Polymorphism: Abstract classes facilitate polymorphic behavior by allowing objects of different subclasses to be treated uniformly based on the common interface.\n",
    "Concrete Classes:\n",
    "Purpose:\n",
    "Concrete classes are used to create objects with specific attributes and behaviors. They represent concrete instances of a class.\n",
    "They can have both data attributes and methods with implementations.\n",
    "Instantiation:\n",
    "Concrete classes can be instantiated directly using the class name followed by parentheses. This creates a new instance of the class, which can be used to access its attributes and methods.\n",
    "Use Cases:\n",
    "Modeling Real-world Entities: Concrete classes are used to model real-world entities, such as people, cars, or products, with specific attributes and behaviors.\n",
    "Encapsulation and Data Abstraction: Concrete classes encapsulate data and behaviors into a single unit, providing a clean interface for interacting with objects.\n",
    "Differences in Instantiation:\n",
    "Abstract Classes: Cannot be instantiated directly and are meant to be subclassed. They provide a framework for defining related classes and enforcing a common interface.\n",
    "Concrete Classes: Can be instantiated directly, creating concrete instances of a class with specific attributes and behaviors. They represent actual objects in the system.\n",
    "Summary:\n",
    "Abstract classes define a common interface for a group of related classes and cannot be instantiated directly.\n",
    "Concrete classes represent concrete instances of a class with specific attributes and behaviors and can be instantiated directly."
   ]
  },
  {
   "cell_type": "markdown",
   "id": "bfa0c93e-c6c9-4a86-a34a-f3ccdbcad248",
   "metadata": {},
   "source": [
    "Ques15. Explain the concept of abstract data types (ADTs) and their role in achieving abstraction in Python."
   ]
  },
  {
   "cell_type": "markdown",
   "id": "71aea30f-5e98-4a1b-915f-d648ced85258",
   "metadata": {},
   "source": [
    "Abstract Data Types (ADTs) are a theoretical concept in computer science that define a set of operations on a data structure, without specifying how these operations are implemented. ADTs focus on the behavior and properties of the data structure rather than its implementation details. They provide a high-level view of data structures and their operations, allowing programmers to reason about data structures in a more abstract and modular way.\n",
    "\n",
    "Role of Abstract Data Types in Achieving Abstraction:\n",
    "Encapsulation of Data and Operations:\n",
    "\n",
    "ADTs encapsulate both the data and the operations that can be performed on that data into a single unit. This hides the internal implementation details, promoting abstraction and reducing complexity.\n",
    "Defining Common Interfaces:\n",
    "\n",
    "ADTs define a common interface for interacting with data structures, specifying the set of operations that can be performed. This allows users to work with data structures in a uniform manner, regardless of their specific implementations.\n",
    "Separation of Concerns:\n",
    "\n",
    "By separating the interface from the implementation, ADTs enable a clear separation of concerns. Users of an ADT only need to know how to use the provided operations, without worrying about how those operations are implemented internally.\n",
    "Promoting Modularity and Reusability:\n",
    "\n",
    "ADTs promote modularity and reusability by providing a standardized interface for interacting with data structures. This allows data structures to be easily reused in different contexts and shared across multiple parts of a program.\n",
    "Facilitating Algorithm Design:\n",
    "\n",
    "ADTs provide a high-level abstraction of data structures, which facilitates algorithm design and analysis. Algorithms can be designed and analyzed based on the abstract properties and behaviors of data structures, rather than their specific implementations.\n",
    "Example:\n",
    "Consider the abstract data type \"Stack\":\n",
    "\n",
    "The stack ADT defines operations such as push, pop, and peek.\n",
    "Users of the stack ADT only need to know how to use these operations to manipulate the stack, without worrying about how the stack is implemented internally (e.g., using arrays or linked lists).\n",
    "In Python, ADTs can be implemented using classes and defining methods that represent the operations of the ADT. For example, a stack ADT can be implemented using a class with methods like push, pop, and peek. The internal representation of the stack (e.g., using a list or a linked list) is hidden from the users of the ADT, promoting abstraction and encapsulation."
   ]
  },
  {
   "cell_type": "markdown",
   "id": "b716e24f-1266-4e5d-a787-d42f3b8e613b",
   "metadata": {},
   "source": [
    "Ques16. Create a Python class for a computer system, demonstrating abstraction by defining common methods"
   ]
  },
  {
   "cell_type": "code",
   "execution_count": 113,
   "id": "9ede35ba-dfe9-440c-ac4e-4724957c88ca",
   "metadata": {},
   "outputs": [
    {
     "name": "stdout",
     "output_type": "stream",
     "text": [
      "Dell Inspiron desktop is booting up.\n",
      "Word is running on Dell Inspiron desktop.\n",
      "Dell Inspiron desktop is shutting down.\n",
      "HP Pavilion laptop is booting up.\n",
      "Excel is running on HP Pavilion laptop.\n",
      "HP Pavilion laptop is shutting down.\n"
     ]
    }
   ],
   "source": [
    "from abc import ABC, abstractmethod\n",
    "\n",
    "class Computer(ABC):\n",
    "    def __init__(self, brand, model):\n",
    "        self.brand = brand\n",
    "        self.model = model\n",
    "\n",
    "    @abstractmethod\n",
    "    def boot(self):\n",
    "        pass\n",
    "\n",
    "    @abstractmethod\n",
    "    def shutdown(self):\n",
    "        pass\n",
    "\n",
    "    @abstractmethod\n",
    "    def run_program(self, program_name):\n",
    "        pass\n",
    "\n",
    "class Desktop(Computer):\n",
    "    def boot(self):\n",
    "        return f\"{self.brand} {self.model} desktop is booting up.\"\n",
    "\n",
    "    def shutdown(self):\n",
    "        return f\"{self.brand} {self.model} desktop is shutting down.\"\n",
    "\n",
    "    def run_program(self, program_name):\n",
    "        return f\"{program_name} is running on {self.brand} {self.model} desktop.\"\n",
    "\n",
    "class Laptop(Computer):\n",
    "    def boot(self):\n",
    "        return f\"{self.brand} {self.model} laptop is booting up.\"\n",
    "\n",
    "    def shutdown(self):\n",
    "        return f\"{self.brand} {self.model} laptop is shutting down.\"\n",
    "\n",
    "    def run_program(self, program_name):\n",
    "        return f\"{program_name} is running on {self.brand} {self.model} laptop.\"\n",
    "\n",
    "# Example usage\n",
    "desktop = Desktop(\"Dell\", \"Inspiron\")\n",
    "print(desktop.boot())\n",
    "print(desktop.run_program(\"Word\"))\n",
    "print(desktop.shutdown())\n",
    "\n",
    "laptop = Laptop(\"HP\", \"Pavilion\")\n",
    "print(laptop.boot())\n",
    "print(laptop.run_program(\"Excel\"))\n",
    "print(laptop.shutdown())\n"
   ]
  },
  {
   "cell_type": "markdown",
   "id": "a738850d-d686-48c3-992d-314fbaf276b9",
   "metadata": {},
   "source": [
    "Ques17. Discuss the benefits of using abstraction in large-scale software development projects."
   ]
  },
  {
   "cell_type": "markdown",
   "id": "aea5f3a5-c40a-44ec-8e20-c597bb76ccf9",
   "metadata": {},
   "source": [
    "Ans17. Using abstraction in large-scale software development projects offers several benefits that contribute to the efficiency, maintainability, and scalability of the codebase:\n",
    "\n",
    "Modularity and Encapsulation:\n",
    "\n",
    "Abstraction promotes modularity by breaking down complex systems into smaller, more manageable components. Each component encapsulates its functionality, hiding implementation details and reducing dependencies between modules. This modular approach simplifies code maintenance, debugging, and testing.\n",
    "Reduced Complexity:\n",
    "\n",
    "Abstraction abstracts away unnecessary details, focusing on essential concepts and hiding complexity. By providing a high-level view of the system's architecture, abstraction makes the codebase easier to understand, navigate, and reason about, even as it grows in size and complexity.\n",
    "Code Reusability:\n",
    "\n",
    "Abstraction encourages the creation of reusable components and libraries. Well-defined abstractions allow developers to reuse code across different parts of the project or even in entirely different projects, leading to increased productivity and consistency.\n",
    "Flexibility and Adaptability:\n",
    "\n",
    "Abstraction enables developers to design systems in a flexible and adaptable manner. By decoupling components through abstraction layers, changes to one part of the system have minimal impact on other parts. This flexibility facilitates iterative development, allowing teams to respond quickly to changing requirements and business needs.\n",
    "Promotion of Best Practices:\n",
    "\n",
    "Abstraction encourages the adoption of best practices and design patterns. By defining clear interfaces and separation of concerns, abstraction promotes clean, maintainable code that adheres to established software engineering principles. This leads to higher code quality, fewer bugs, and easier collaboration among team members.\n",
    "Scalability and Extensibility:\n",
    "\n",
    "Abstraction lays the foundation for scalable and extensible systems. By designing systems with abstraction layers, developers can easily add new features, modules, or integrations without significant modifications to existing code. This scalability ensures that the software can grow and evolve over time to meet evolving business requirements.\n",
    "Improved Collaboration:\n",
    "\n",
    "Abstraction fosters collaboration among team members by providing a common language and understanding of the system's architecture. By abstracting away implementation details, developers can focus on higher-level design decisions and communicate more effectively with colleagues, stakeholders, and other teams.\n",
    "Maintenance and Debugging:\n",
    "\n",
    "Abstraction simplifies maintenance and debugging efforts by isolating changes and errors to specific components or modules. When issues arise, developers can quickly pinpoint the problem area and make targeted fixes without disrupting the entire system. This reduces downtime and improves overall system reliability.\n",
    "In summary, abstraction plays a critical role in large-scale software development projects by promoting modularity, reducing complexity, enabling code reusability, and fostering flexibility and scalability. By embracing abstraction, teams can build robust, maintainable, and adaptable software solutions that meet the demands of modern software development."
   ]
  },
  {
   "cell_type": "markdown",
   "id": "d8c6596e-791f-4758-8e8b-68b3de078acf",
   "metadata": {},
   "source": [
    "Ques18. Explain how abstraction enhances code reusability and modularity in Python programs."
   ]
  },
  {
   "cell_type": "markdown",
   "id": "34274cd3-7cae-4119-a640-afe2dc61ba7c",
   "metadata": {},
   "source": [
    "Ans18. Abstraction enhances code reusability and modularity in Python programs by promoting a clear separation of concerns, hiding implementation details, and defining standardized interfaces. Here's how abstraction achieves these goals:\n",
    "\n",
    "Clear Separation of Concerns:\n",
    "\n",
    "Abstraction encourages developers to break down complex systems into smaller, more manageable components, each responsible for a specific task or functionality. This clear separation of concerns ensures that each component focuses on a single aspect of the system, making it easier to understand, maintain, and extend.\n",
    "Hiding Implementation Details:\n",
    "\n",
    "Abstraction hides the internal implementation details of a component, exposing only the essential interface to the outside world. By abstracting away unnecessary details, developers can focus on the high-level functionality of the component, rather than the low-level implementation specifics. This not only simplifies code comprehension but also reduces coupling between different parts of the system, making it easier to modify and maintain.\n",
    "Standardized Interfaces:\n",
    "\n",
    "Abstraction defines standardized interfaces for interacting with components, specifying the set of operations or methods that can be performed. By adhering to these interfaces, developers can ensure consistency across different components and modules. This standardized approach promotes code reusability, as components with compatible interfaces can be easily reused in different parts of the codebase or even in entirely different projects.\n",
    "Encapsulation of Complexity:\n",
    "\n",
    "Abstraction encapsulates complexity within individual components, shielding the rest of the system from the intricacies of their implementation. This encapsulation reduces the cognitive burden on developers, allowing them to focus on understanding and working with higher-level abstractions rather than getting bogged down in implementation details. As a result, developers can build upon existing abstractions without needing to understand the inner workings of each component, thereby improving code reusability and modularity.\n",
    "Promotion of Design Patterns:\n",
    "\n",
    "Abstraction encourages the use of design patterns and architectural principles that promote code reusability and modularity, such as the Model-View-Controller (MVC) pattern, the Factory pattern, or the Dependency Injection pattern. These patterns provide standardized solutions to common design problems, helping developers build more modular, maintainable, and extensible software systems.\n",
    "In Python, abstraction can be achieved through various mechanisms, including abstract base classes (ABCs), interfaces, and high-level design patterns. By leveraging these abstraction mechanisms, developers can build flexible, modular, and reusable codebases that are easier to maintain and extend over time.\n",
    "\n",
    "\n",
    "\n",
    "\n",
    "\n",
    "\n"
   ]
  },
  {
   "cell_type": "markdown",
   "id": "87892a99-588e-4066-9cdc-7f40667d9c3a",
   "metadata": {},
   "source": [
    "Ques19. Create a Python class for a library system, implementing abstraction by defining common methods (e.g., `add_book()`, `borrow_book()`) in an abstract base class."
   ]
  },
  {
   "cell_type": "code",
   "execution_count": 114,
   "id": "3ea74283-4193-4f9d-a3c5-c23967e1347b",
   "metadata": {},
   "outputs": [
    {
     "name": "stdout",
     "output_type": "stream",
     "text": [
      "Added 'Python Programming' by Guido van Rossum to the library.\n",
      "Added 'Data Structures and Algorithms' by Michael T. Goodrich to the library.\n",
      "Borrowed 'Python Programming' from the library.\n",
      "'JavaScript Essentials' is not available in the library.\n",
      "Returned 'Python Programming' to the library.\n"
     ]
    }
   ],
   "source": [
    "from abc import ABC, abstractmethod\n",
    "\n",
    "class LibrarySystem(ABC):\n",
    "    def __init__(self):\n",
    "        self.books = {}\n",
    "\n",
    "    @abstractmethod\n",
    "    def add_book(self, book_title, author):\n",
    "        pass\n",
    "\n",
    "    @abstractmethod\n",
    "    def borrow_book(self, book_title):\n",
    "        pass\n",
    "\n",
    "    @abstractmethod\n",
    "    def return_book(self, book_title):\n",
    "        pass\n",
    "\n",
    "class Library(LibrarySystem):\n",
    "    def add_book(self, book_title, author):\n",
    "        if book_title not in self.books:\n",
    "            self.books[book_title] = author\n",
    "            print(f\"Added '{book_title}' by {author} to the library.\")\n",
    "        else:\n",
    "            print(f\"'{book_title}' already exists in the library.\")\n",
    "\n",
    "    def borrow_book(self, book_title):\n",
    "        if book_title in self.books:\n",
    "            del self.books[book_title]\n",
    "            print(f\"Borrowed '{book_title}' from the library.\")\n",
    "        else:\n",
    "            print(f\"'{book_title}' is not available in the library.\")\n",
    "\n",
    "    def return_book(self, book_title):\n",
    "        self.books[book_title] = True\n",
    "        print(f\"Returned '{book_title}' to the library.\")\n",
    "\n",
    "# Example usage\n",
    "library = Library()\n",
    "library.add_book(\"Python Programming\", \"Guido van Rossum\")\n",
    "library.add_book(\"Data Structures and Algorithms\", \"Michael T. Goodrich\")\n",
    "library.borrow_book(\"Python Programming\")\n",
    "library.borrow_book(\"JavaScript Essentials\")\n",
    "library.return_book(\"Python Programming\")"
   ]
  },
  {
   "cell_type": "markdown",
   "id": "c52c1bcc-da30-4808-b23a-07226598c712",
   "metadata": {},
   "source": [
    "Ques20. Describe the concept of method abstraction in Python and how it relates to polymorphism."
   ]
  },
  {
   "cell_type": "markdown",
   "id": "738263a3-21c5-4bce-878a-c8e07a4395be",
   "metadata": {},
   "source": [
    "Ans20. Method abstraction in Python involves defining methods in abstract base classes (ABCs) without providing their implementation details. These abstract methods serve as placeholders that must be overridden by concrete subclasses, ensuring that the subclasses provide their own implementations. Method abstraction allows for the specification of a common interface that subclasses must adhere to, promoting code reusability and consistency.\n",
    "\n",
    "Key Aspects of Method Abstraction:\n",
    "Abstract Base Classes (ABCs):\n",
    "\n",
    "Abstract base classes in Python are classes that cannot be instantiated directly and typically contain one or more abstract methods.\n",
    "Abstract methods are declared using the @abstractmethod decorator from the abc module, indicating that they must be implemented by concrete subclasses.\n",
    "Common Interface:\n",
    "\n",
    "Method abstraction defines a common interface that all subclasses must adhere to. This common interface specifies the methods that subclasses must implement, but it does not provide their implementations.\n",
    "By defining a common interface through method abstraction, developers can ensure consistency and interoperability across different subclasses.\n",
    "Enforcement of Contracts:\n",
    "\n",
    "Method abstraction enforces a contract between the abstract base class and its subclasses. The contract specifies that any subclass of the abstract base class must provide concrete implementations for all abstract methods defined in the base class.\n",
    "Subclasses that fail to fulfill this contract by not implementing all abstract methods will result in a TypeError at runtime.\n",
    "Relation to Polymorphism:\n",
    "Polymorphism is the ability of objects of different classes to be treated uniformly based on a common interface. It allows for flexibility and extensibility in object-oriented programming.\n",
    "Method abstraction in Python facilitates polymorphism by defining a common interface through abstract methods in abstract base classes.\n",
    "Concrete subclasses can provide their own implementations of abstract methods, allowing objects of different subclasses to be used interchangeably wherever the common interface is expected.\n",
    "Polymorphism allows for code that is more flexible and reusable, as it enables the substitution of objects at runtime without changing the code that uses them.\n",
    "Method abstraction and polymorphism work together to promote code flexibility, extensibility, and maintainability in object-oriented Python programs. They allow developers to write code that is more modular, interoperable, and adaptable to changing requirements."
   ]
  },
  {
   "cell_type": "markdown",
   "id": "2b7d8ecf-dec6-47df-a320-44332cb2190d",
   "metadata": {},
   "source": [
    "COMPLETED///////////////////////////////////"
   ]
  },
  {
   "cell_type": "markdown",
   "id": "e15f1de1-5fc0-4471-b4ca-06e7a107d63c",
   "metadata": {},
   "source": [
    "* Composition:"
   ]
  },
  {
   "cell_type": "markdown",
   "id": "51d27d4b-eac0-4a6f-a3dc-707262fd0a22",
   "metadata": {},
   "source": [
    "Ques1. Explain the concept of composition in Python and how it is used to build complex objects from simpler ones."
   ]
  },
  {
   "cell_type": "code",
   "execution_count": 115,
   "id": "f7e47081-e49e-4731-b6d8-f6288b9c8155",
   "metadata": {},
   "outputs": [
    {
     "name": "stdout",
     "output_type": "stream",
     "text": [
      "Car started.\n",
      "Engine started.\n",
      "Car stopped.\n",
      "Engine stopped.\n"
     ]
    }
   ],
   "source": [
    "class Engine:\n",
    "    def start(self):\n",
    "        print(\"Engine started.\")\n",
    "\n",
    "    def stop(self):\n",
    "        print(\"Engine stopped.\")\n",
    "\n",
    "class Car:\n",
    "    def __init__(self):\n",
    "        self.engine = Engine()  # Composition: Car has-an Engine\n",
    "\n",
    "    def start(self):\n",
    "        print(\"Car started.\")\n",
    "        self.engine.start()\n",
    "\n",
    "    def stop(self):\n",
    "        print(\"Car stopped.\")\n",
    "        self.engine.stop()\n",
    "\n",
    "# Usage\n",
    "my_car = Car()\n",
    "my_car.start()\n",
    "my_car.stop()"
   ]
  },
  {
   "cell_type": "markdown",
   "id": "64737b23-5b9a-4c60-91e1-dcb93682507a",
   "metadata": {},
   "source": [
    "Ques2. Describe the difference between composition and inheritance in object-oriented programming."
   ]
  },
  {
   "cell_type": "markdown",
   "id": "d858560b-56c5-47b8-b714-2082ce645ab8",
   "metadata": {},
   "source": [
    "Ans2. Composition and inheritance are two fundamental concepts in object-oriented programming (OOP), each serving distinct purposes and offering different design approaches. Here's a breakdown of the key differences between composition and inheritance:\n",
    "\n",
    "Composition:\n",
    "Has-a Relationship:\n",
    "\n",
    "Composition represents a \"has-a\" relationship between objects, where one object contains another as a part of its internal state.\n",
    "It involves creating complex objects by combining simpler objects or components.\n",
    "Example: A car \"has-a\" engine.\n",
    "Encapsulation:\n",
    "\n",
    "Composition promotes encapsulation by allowing objects to hide their internal details and expose only necessary interfaces to the outside world.\n",
    "Each component or object is responsible for its own functionality, and the composition process ensures that the complexity of the individual components is hidden from the client code.\n",
    "Flexibility and Reusability:\n",
    "\n",
    "Composition allows for greater flexibility and reusability compared to inheritance. Instead of inheriting behavior from a superclass, objects can be composed of different components, making it easier to change or extend their functionality.\n",
    "Components can be reused in different contexts or combined in various ways to create different objects with unique behaviors.\n",
    "Loose Coupling:\n",
    "\n",
    "Composition promotes loose coupling between objects, as components are typically independent of each other and can be replaced or modified without affecting the rest of the system.\n",
    "This loose coupling enhances code maintainability and makes it easier to test and debug individual components in isolation.\n",
    "Inheritance:\n",
    "Is-a Relationship:\n",
    "\n",
    "Inheritance represents an \"is-a\" relationship between objects, where one class (subclass) derives properties and behaviors from another class (superclass).\n",
    "It involves creating new classes based on existing ones, with the subclass inheriting attributes and methods from the superclass.\n",
    "Example: A dog \"is-a\" mammal.\n",
    "Code Reuse:\n",
    "\n",
    "Inheritance facilitates code reuse by allowing subclasses to inherit and extend the functionality of their superclass. Subclasses can reuse the attributes and methods of the superclass without needing to redefine them.\n",
    "Hierarchy and Polymorphism:\n",
    "\n",
    "Inheritance establishes a hierarchy of classes, with subclasses inheriting properties and behaviors from their superclasses.\n",
    "It enables polymorphism, where objects of different subclasses can be treated uniformly based on a common superclass, leading to code that is more flexible and extensible.\n",
    "Tight Coupling:\n",
    "\n",
    "Inheritance can lead to tight coupling between classes, especially in deep inheritance hierarchies. Changes to the superclass can have cascading effects on all subclasses, potentially introducing unintended consequences and making the codebase more fragile.\n",
    "Summary:\n",
    "Composition and inheritance are two complementary design approaches in OOP, each offering its own benefits and trade-offs.\n",
    "Composition promotes code flexibility, modularity, and loose coupling by combining objects to create complex structures.\n",
    "Inheritance facilitates code reuse, hierarchy, and polymorphism by allowing subclasses to inherit properties and behaviors from superclasses.\n",
    "The choice between composition and inheritance depends on the specific requirements of the application, with both approaches being valuable tools in the design and implementation of software systems."
   ]
  },
  {
   "cell_type": "markdown",
   "id": "dda4f2d7-3325-4e8c-855d-53cab2bb1783",
   "metadata": {},
   "source": [
    "Ques3. Create a Python class called `Author` with attributes for name and birthdate. Then, create a `Book` class\n",
    "that contains an instance of `Author` as a composition. Provide an example of creating a `Book` object."
   ]
  },
  {
   "cell_type": "code",
   "execution_count": 116,
   "id": "9c5933d7-ce3c-43a4-afcd-a81bc17a3937",
   "metadata": {},
   "outputs": [
    {
     "name": "stdout",
     "output_type": "stream",
     "text": [
      "Book Title: Harry Potter and the Philosopher's Stone\n",
      "Author Name: J.K. Rowling\n",
      "Author Birthdate: July 31, 1965\n"
     ]
    }
   ],
   "source": [
    "class Author:\n",
    "    def __init__(self, name, birthdate):\n",
    "        self.name = name\n",
    "        self.birthdate = birthdate\n",
    "\n",
    "class Book:\n",
    "    def __init__(self, title, author_name, author_birthdate):\n",
    "        self.title = title\n",
    "        self.author = Author(author_name, author_birthdate)\n",
    "\n",
    "# Example usage\n",
    "author = Author(\"J.K. Rowling\", \"July 31, 1965\")\n",
    "book = Book(\"Harry Potter and the Philosopher's Stone\", author.name, author.birthdate)\n",
    "\n",
    "print(\"Book Title:\", book.title)\n",
    "print(\"Author Name:\", book.author.name)\n",
    "print(\"Author Birthdate:\", book.author.birthdate)"
   ]
  },
  {
   "cell_type": "markdown",
   "id": "2bc8fe66-32a1-42a3-9bd9-9b92755ba078",
   "metadata": {},
   "source": [
    "Ques4. Discuss the benefits of using composition over inheritance in Python, especially in terms of code flexibility\n",
    "and reusability."
   ]
  },
  {
   "cell_type": "markdown",
   "id": "6b0a30f8-577d-4ad3-9120-f90b3100aabb",
   "metadata": {},
   "source": [
    "Ans4. Using composition over inheritance in Python offers several advantages, particularly in terms of code flexibility and reusability:\n",
    "\n",
    "Flexibility in Object Composition:\n",
    "\n",
    "Composition allows for greater flexibility in building complex objects by combining simpler components. Objects can be composed of different components dynamically, adapting to changing requirements more easily.\n",
    "Unlike inheritance, where subclasses inherit behavior from a superclass in a fixed hierarchy, composition enables objects to be composed dynamically, facilitating more flexible and adaptable designs.\n",
    "Reduced Coupling:\n",
    "\n",
    "Composition promotes loose coupling between objects by allowing them to interact through well-defined interfaces rather than rigid class hierarchies.\n",
    "Objects communicate with each other through interfaces, reducing dependencies and making the codebase more modular and maintainable. Changes to one component do not affect other components as long as the interface remains unchanged.\n",
    "Code Reusability:\n",
    "\n",
    "Composition facilitates code reusability by promoting the reuse of components across different objects or systems.\n",
    "Components can be designed to be highly reusable and independent of the objects they are composed into, making them suitable for a wide range of applications.\n",
    "Reusing components through composition leads to more modular and maintainable code, as changes made to a component are localized and do not affect other parts of the system.\n",
    "Encapsulation of Behavior:\n",
    "\n",
    "Composition promotes encapsulation by allowing objects to hide their internal details and expose only necessary interfaces to the outside world.\n",
    "Each component or object is responsible for its own functionality, and the composition process ensures that the complexity of the individual components is hidden from the client code.\n",
    "Encapsulation through composition leads to more maintainable and reusable code, as the implementation details of the components are abstracted away.\n",
    "Promotion of Design Patterns:\n",
    "\n",
    "Composition encourages the use of design patterns that promote code flexibility and reusability, such as the Strategy pattern, Decorator pattern, and Dependency Injection pattern.\n",
    "These design patterns leverage composition to assemble objects dynamically, allowing for greater flexibility and extensibility compared to inheritance-based approaches.\n",
    "Enhanced Testing and Debugging:\n",
    "\n",
    "Composition simplifies testing and debugging efforts by isolating changes and errors to specific components or modules.\n",
    "Each component can be tested independently, leading to more comprehensive test coverage and easier debugging of individual components.\n",
    "This modular approach improves code quality and reduces the likelihood of introducing bugs when making changes to the system.\n",
    "In summary, using composition over inheritance in Python promotes code flexibility, reusability, and maintainability by allowing objects to be composed dynamically, reducing coupling between components, and promoting encapsulation of behavior. By leveraging composition, developers can build modular, extensible, and scalable software systems that can adapt to changing requirements more easily."
   ]
  },
  {
   "cell_type": "markdown",
   "id": "1ccb2485-8fda-4e0d-96c4-f239e4741601",
   "metadata": {},
   "source": [
    "Ques5. How can you implement composition in Python classes? Provide examples of using composition to create complex object"
   ]
  },
  {
   "cell_type": "code",
   "execution_count": 117,
   "id": "c2fc06b1-5638-4199-805e-82f582c11667",
   "metadata": {},
   "outputs": [
    {
     "name": "stdout",
     "output_type": "stream",
     "text": [
      "Ford Endeavour 2020 is starting.\n",
      "Engine started.\n",
      "Ford Endeavour 2020 is stopping.\n",
      "Engine stopped.\n"
     ]
    }
   ],
   "source": [
    "class Engine:\n",
    "    def __init__(self, horsepower):\n",
    "        self.horsepower = horsepower\n",
    "\n",
    "    def start(self):\n",
    "        print(\"Engine started.\")\n",
    "\n",
    "    def stop(self):\n",
    "        print(\"Engine stopped.\")\n",
    "\n",
    "class Car:\n",
    "    def __init__(self, make, model, year, engine):\n",
    "        self.make = make\n",
    "        self.model = model\n",
    "        self.year = year\n",
    "        self.engine = engine  # Composition: Car has-an Engine\n",
    "\n",
    "    def start(self):\n",
    "        print(f\"{self.make} {self.model} {self.year} is starting.\")\n",
    "        self.engine.start()\n",
    "\n",
    "    def stop(self):\n",
    "        print(f\"{self.make} {self.model} {self.year} is stopping.\")\n",
    "        self.engine.stop()\n",
    "\n",
    "# Creating an Engine instance\n",
    "my_engine = Engine(horsepower=200)\n",
    "\n",
    "# Creating a Car instance with composition\n",
    "my_car = Car(\"Ford\", \"Endeavour\", 2020, my_engine)\n",
    "\n",
    "# Using Car methods\n",
    "my_car.start()\n",
    "my_car.stop()\n"
   ]
  },
  {
   "cell_type": "markdown",
   "id": "d21e321d-7cde-4b4c-bec1-effe9c0af5f0",
   "metadata": {},
   "source": [
    "Ques6. Create a Python class hierarchy for a music player system, using composition to represent playlists and\n",
    "songs."
   ]
  },
  {
   "cell_type": "code",
   "execution_count": 118,
   "id": "60500b82-bf0d-48e7-b9a8-ca51f9437886",
   "metadata": {},
   "outputs": [
    {
     "name": "stdout",
     "output_type": "stream",
     "text": [
      "Playing playlist: Classic Rock\n",
      "Playing: Bohemian Rhapsody - Queen (367 seconds)\n",
      "Playing: Hotel California - Eagles (391 seconds)\n",
      "Playing: Stairway to Heaven - Led Zeppelin (482 seconds)\n"
     ]
    }
   ],
   "source": [
    "class Song:\n",
    "    def __init__(self, title, artist, duration):\n",
    "        self.title = title\n",
    "        self.artist = artist\n",
    "        self.duration = duration\n",
    "\n",
    "    def play(self):\n",
    "        print(f\"Playing: {self.title} - {self.artist} ({self.duration} seconds)\")\n",
    "\n",
    "\n",
    "class Playlist:\n",
    "    def __init__(self, name):\n",
    "        self.name = name\n",
    "        self.songs = []\n",
    "\n",
    "    def add_song(self, song):\n",
    "        self.songs.append(song)\n",
    "\n",
    "    def remove_song(self, song):\n",
    "        if song in self.songs:\n",
    "            self.songs.remove(song)\n",
    "\n",
    "    def play_all(self):\n",
    "        print(f\"Playing playlist: {self.name}\")\n",
    "        for song in self.songs:\n",
    "            song.play()\n",
    "\n",
    "\n",
    "# Example usage:\n",
    "song1 = Song(\"Bohemian Rhapsody\", \"Queen\", 367)\n",
    "song2 = Song(\"Hotel California\", \"Eagles\", 391)\n",
    "song3 = Song(\"Stairway to Heaven\", \"Led Zeppelin\", 482)\n",
    "\n",
    "playlist = Playlist(\"Classic Rock\")\n",
    "playlist.add_song(song1)\n",
    "playlist.add_song(song2)\n",
    "playlist.add_song(song3)\n",
    "\n",
    "playlist.play_all()"
   ]
  },
  {
   "cell_type": "markdown",
   "id": "a2d390c5-16af-44d8-9f90-cde1b0e53788",
   "metadata": {},
   "source": [
    "Ques7. Explain the concept of \"has-a\" relationships in composition and how it helps design software systems."
   ]
  },
  {
   "cell_type": "markdown",
   "id": "478a8d88-3a99-4a19-8b41-73795c4df774",
   "metadata": {},
   "source": [
    "Ans7. The concept of \"has-a\" relationships in composition refers to the relationship between objects where one object contains another object as part of its internal structure. In other words, an object \"has-a\" relationship with another object if it contains that object as one of its components or attributes.\n",
    "\n",
    "How \"Has-a\" Relationships Help Design Software Systems:\n",
    "Modularity and Encapsulation:\n",
    "\"Has-a\" relationships promote modularity by breaking down complex systems into smaller, more manageable components. Each component encapsulates a specific functionality or set of behaviors, making the system easier to understand, maintain, and extend.\n",
    "\n",
    "* Code Reusability:\n",
    "By composing objects from simpler components, \"has-a\" relationships enable code reusability. Components can be reused across different objects or systems, leading to more efficient development and reduced  duplication of code.\n",
    "\n",
    "* Flexibility and Adaptability:\n",
    "\"Has-a\" relationships provide flexibility and adaptability in software design. Objects can be composed dynamically, allowing for different combinations of components to create new objects with unique behaviors. This flexibility makes it easier to accommodate changes and evolving requirements.\n",
    "\n",
    "* Loose Coupling:\n",
    "Composition promotes loose coupling between objects, as components are typically independent of each other and interact through well-defined interfaces. Changes made to one component do not affect other components, leading to a more modular and maintainable codebase.\n",
    "\n",
    "* Encapsulation of Complexity:\n",
    "By encapsulating functionality within individual components, \"has-a\" relationships help manage complexity. Each component is responsible for its own functionality, hiding its implementation details from the outside world. This abstraction of complexity improves code maintainability and reduces the likelihood of errors.\n",
    "\n",
    "* Promotion of Design Patterns:\n",
    "\"Has-a\" relationships are fundamental to many design patterns, such as the Strategy pattern, Decorator pattern, and Dependency Injection pattern. These patterns leverage composition to assemble objects dynamically, promoting code flexibility and reusability.\n",
    "In summary, \"has-a\" relationships in composition play a crucial role in designing software systems that are modular, flexible, and maintainable. By composing objects from simpler components, developers can build complex systems that are easier to understand, adapt, and extend, leading to higher-quality software products."
   ]
  },
  {
   "cell_type": "markdown",
   "id": "d839a21e-f6e7-4ab9-8c35-1dfa443ab2bd",
   "metadata": {},
   "source": [
    "Ques8. Create a Python class for a computer system, using composition to represent components like CPU, RAM,\n",
    "and storage devices."
   ]
  },
  {
   "cell_type": "code",
   "execution_count": 119,
   "id": "7ca2fbda-c615-40eb-a7ad-c76a12d5f0ca",
   "metadata": {},
   "outputs": [
    {
     "name": "stdout",
     "output_type": "stream",
     "text": [
      "Computer Specifications:\n",
      "CPU: Intel Core i7 (8 cores)\n",
      "RAM: 16 GB (3200 MHz)\n",
      "Storage: 512 GB SSD\n"
     ]
    }
   ],
   "source": [
    "class CPU:\n",
    "    def __init__(self, brand, model, cores):\n",
    "        self.brand = brand\n",
    "        self.model = model\n",
    "        self.cores = cores\n",
    "\n",
    "    def info(self):\n",
    "        return f\"CPU: {self.brand} {self.model} ({self.cores} cores)\"\n",
    "\n",
    "\n",
    "class RAM:\n",
    "    def __init__(self, capacity_GB, speed_MHz):\n",
    "        self.capacity_GB = capacity_GB\n",
    "        self.speed_MHz = speed_MHz\n",
    "\n",
    "    def info(self):\n",
    "        return f\"RAM: {self.capacity_GB} GB ({self.speed_MHz} MHz)\"\n",
    "\n",
    "\n",
    "class Storage:\n",
    "    def __init__(self, capacity_GB, type):\n",
    "        self.capacity_GB = capacity_GB\n",
    "        self.type = type\n",
    "\n",
    "    def info(self):\n",
    "        return f\"Storage: {self.capacity_GB} GB {self.type}\"\n",
    "\n",
    "\n",
    "class Computer:\n",
    "    def __init__(self, cpu, ram, storage):\n",
    "        self.cpu = cpu\n",
    "        self.ram = ram\n",
    "        self.storage = storage\n",
    "\n",
    "    def info(self):\n",
    "        return f\"Computer Specifications:\\n{self.cpu.info()}\\n{self.ram.info()}\\n{self.storage.info()}\"\n",
    "\n",
    "\n",
    "# Example usage:\n",
    "cpu = CPU(\"Intel\", \"Core i7\", 8)\n",
    "ram = RAM(16, 3200)\n",
    "storage = Storage(512, \"SSD\")\n",
    "\n",
    "my_computer = Computer(cpu, ram, storage)\n",
    "print(my_computer.info())"
   ]
  },
  {
   "cell_type": "markdown",
   "id": "430775d6-81d2-42e8-95d8-7e81e1b8d347",
   "metadata": {},
   "source": [
    "Ques9. Describe the concept of \"delegation\" in composition and how it simplifies the design of complex systems."
   ]
  },
  {
   "cell_type": "code",
   "execution_count": 120,
   "id": "a4f962eb-4c6b-4143-9df9-6367ec00988c",
   "metadata": {},
   "outputs": [
    {
     "name": "stdout",
     "output_type": "stream",
     "text": [
      "Printing: Hello, World!\n"
     ]
    }
   ],
   "source": [
    "class PrintingEngine:\n",
    "    def print_document(self, document):\n",
    "        print(\"Printing:\", document)\n",
    "\n",
    "class Printer:\n",
    "    def __init__(self):\n",
    "        self.printing_engine = PrintingEngine()\n",
    "\n",
    "    def print_document(self, document):\n",
    "        self.printing_engine.print_document(document)\n",
    "\n",
    "# Example usage:\n",
    "printer = Printer()\n",
    "printer.print_document(\"Hello, World!\")"
   ]
  },
  {
   "cell_type": "markdown",
   "id": "58bd540c-0eda-4337-a6d7-35e2a0dae397",
   "metadata": {},
   "source": [
    "Ques10. Create a Python class for a car, using composition to represent components like the engine, wheels, and\n",
    "transmission."
   ]
  },
  {
   "cell_type": "code",
   "execution_count": 121,
   "id": "14780d5f-23dc-4596-af94-9f407f908ffe",
   "metadata": {},
   "outputs": [
    {
     "name": "stdout",
     "output_type": "stream",
     "text": [
      "Toyota Camry starting...\n",
      "Engine started.\n",
      "Wheel rotating.\n",
      "Wheel rotating.\n",
      "Wheel rotating.\n",
      "Wheel rotating.\n",
      "Toyota Camry stopping...\n",
      "Engine stopped.\n"
     ]
    }
   ],
   "source": [
    "class Engine:\n",
    "    def __init__(self, horsepower):\n",
    "        self.horsepower = horsepower\n",
    "\n",
    "    def start(self):\n",
    "        print(\"Engine started.\")\n",
    "\n",
    "    def stop(self):\n",
    "        print(\"Engine stopped.\")\n",
    "\n",
    "class Wheel:\n",
    "    def __init__(self, size):\n",
    "        self.size = size\n",
    "\n",
    "    def rotate(self):\n",
    "        print(\"Wheel rotating.\")\n",
    "\n",
    "class Transmission:\n",
    "    def __init__(self, type):\n",
    "        self.type = type\n",
    "\n",
    "    def shift_gear(self, gear):\n",
    "        print(f\"Shifted to gear {gear}.\")\n",
    "\n",
    "class Car:\n",
    "    def __init__(self, make, model, engine_horsepower, wheel_size, transmission_type):\n",
    "        self.make = make\n",
    "        self.model = model\n",
    "        self.engine = Engine(engine_horsepower)\n",
    "        self.wheels = [Wheel(wheel_size) for _ in range(4)]\n",
    "        self.transmission = Transmission(transmission_type)\n",
    "\n",
    "    def start(self):\n",
    "        print(f\"{self.make} {self.model} starting...\")\n",
    "        self.engine.start()\n",
    "        for wheel in self.wheels:\n",
    "            wheel.rotate()\n",
    "\n",
    "    def stop(self):\n",
    "        print(f\"{self.make} {self.model} stopping...\")\n",
    "        self.engine.stop()\n",
    "\n",
    "# Example usage:\n",
    "my_car = Car(\"Toyota\", \"Camry\", 200, 17, \"Automatic\")\n",
    "\n",
    "my_car.start()\n",
    "my_car.stop()"
   ]
  },
  {
   "cell_type": "markdown",
   "id": "ddeaa681-949c-4d5e-86d7-6237d3186727",
   "metadata": {},
   "source": [
    "Ques11. How can you encapsulate and hide the details of composed objects in Python classes to maintain\n",
    "abstraction?"
   ]
  },
  {
   "cell_type": "code",
   "execution_count": 122,
   "id": "f5df900d-c4a5-4d40-a851-6e24e879a832",
   "metadata": {},
   "outputs": [
    {
     "name": "stdout",
     "output_type": "stream",
     "text": [
      "Starting Toyota Camry...\n",
      "Engine started.\n",
      "Stopping Toyota Camry...\n",
      "Engine stopped.\n"
     ]
    }
   ],
   "source": [
    "class Engine:\n",
    "    def __init__(self, horsepower):\n",
    "        self.__horsepower = horsepower\n",
    "\n",
    "    def start(self):\n",
    "        print(\"Engine started.\")\n",
    "\n",
    "    def stop(self):\n",
    "        print(\"Engine stopped.\")\n",
    "\n",
    "class Car:\n",
    "    def __init__(self, make, model, engine_horsepower):\n",
    "        self.__make = make\n",
    "        self.__model = model\n",
    "        self.__engine = Engine(engine_horsepower)\n",
    "\n",
    "    def start(self):\n",
    "        print(f\"Starting {self.__make} {self.__model}...\")\n",
    "        self.__engine.start()\n",
    "\n",
    "    def stop(self):\n",
    "        print(f\"Stopping {self.__make} {self.__model}...\")\n",
    "        self.__engine.stop()\n",
    "\n",
    "# Example usage:\n",
    "my_car = Car(\"Toyota\", \"Camry\", 200)\n",
    "\n",
    "my_car.start()\n",
    "my_car.stop()"
   ]
  },
  {
   "cell_type": "markdown",
   "id": "93ee33ba-c174-4883-b941-19fad941bca0",
   "metadata": {},
   "source": [
    "Ques12. Create a Python class for a university course, using composition to represent students, instructors, and\n",
    "course materials."
   ]
  },
  {
   "cell_type": "code",
   "execution_count": 123,
   "id": "b00ab66e-9680-43dd-a5f8-5d6e317edc05",
   "metadata": {},
   "outputs": [
    {
     "name": "stdout",
     "output_type": "stream",
     "text": [
      "Course Code: CS101\n",
      "Course Name: Introduction to Python Programming\n",
      "Instructor: Instructor: Dr. Sarah Johnson (ID: 201)\n",
      "Students:\n",
      "- Student: John Doe (ID: 101)\n",
      "- Student: Jane Smith (ID: 102)\n",
      "Course Materials:\n",
      "- Course Material: Lecture Notes\n",
      "- Course Material: Assignments\n"
     ]
    }
   ],
   "source": [
    "class Student:\n",
    "    def __init__(self, student_id, name):\n",
    "        self.student_id = student_id\n",
    "        self.name = name\n",
    "\n",
    "    def __str__(self):\n",
    "        return f\"Student: {self.name} (ID: {self.student_id})\"\n",
    "\n",
    "\n",
    "class Instructor:\n",
    "    def __init__(self, instructor_id, name):\n",
    "        self.instructor_id = instructor_id\n",
    "        self.name = name\n",
    "\n",
    "    def __str__(self):\n",
    "        return f\"Instructor: {self.name} (ID: {self.instructor_id})\"\n",
    "\n",
    "\n",
    "class CourseMaterial:\n",
    "    def __init__(self, title, content):\n",
    "        self.title = title\n",
    "        self.content = content\n",
    "\n",
    "    def __str__(self):\n",
    "        return f\"Course Material: {self.title}\"\n",
    "\n",
    "\n",
    "class UniversityCourse:\n",
    "    def __init__(self, course_code, course_name, instructor, students, course_materials):\n",
    "        self.course_code = course_code\n",
    "        self.course_name = course_name\n",
    "        self.instructor = instructor\n",
    "        self.students = students\n",
    "        self.course_materials = course_materials\n",
    "\n",
    "    def display_course_info(self):\n",
    "        print(f\"Course Code: {self.course_code}\")\n",
    "        print(f\"Course Name: {self.course_name}\")\n",
    "        print(f\"Instructor: {self.instructor}\")\n",
    "        print(\"Students:\")\n",
    "        for student in self.students:\n",
    "            print(f\"- {student}\")\n",
    "        print(\"Course Materials:\")\n",
    "        for material in self.course_materials:\n",
    "            print(f\"- {material}\")\n",
    "\n",
    "\n",
    "# Example usage:\n",
    "student1 = Student(101, \"John Doe\")\n",
    "student2 = Student(102, \"Jane Smith\")\n",
    "\n",
    "instructor = Instructor(201, \"Dr. Sarah Johnson\")\n",
    "\n",
    "material1 = CourseMaterial(\"Lecture Notes\", \"Introduction to Python programming.\")\n",
    "material2 = CourseMaterial(\"Assignments\", \"Weekly programming assignments.\")\n",
    "\n",
    "students = [student1, student2]\n",
    "course_materials = [material1, material2]\n",
    "\n",
    "course = UniversityCourse(\"CS101\", \"Introduction to Python Programming\", instructor, students, course_materials)\n",
    "course.display_course_info()"
   ]
  },
  {
   "cell_type": "markdown",
   "id": "7dd25dda-42d4-4c92-b8df-858fac352b1f",
   "metadata": {},
   "source": [
    "Ques13. Discuss the challenges and drawbacks of composition, such as increased complexity and potential for\n",
    "tight coupling between objects."
   ]
  },
  {
   "cell_type": "markdown",
   "id": "6a7b99a1-8437-4425-bec0-30e007c3fb9c",
   "metadata": {},
   "source": [
    "While composition offers many advantages, such as improved code modularity and flexibility, it also comes with its own set of challenges and drawbacks:\n",
    "\n",
    "Increased Complexity:\n",
    "\n",
    "Composition can lead to increased complexity in the design and implementation of software systems, especially when dealing with a large number of composed objects and their interactions.\n",
    "Managing the relationships between objects and ensuring proper coordination and communication among them can become challenging, resulting in code that is harder to understand and maintain.\n",
    "Potential for Tight Coupling:\n",
    "\n",
    "Composition can result in tight coupling between objects, especially when objects depend heavily on each other's internal details.\n",
    "If the interface between composed objects is not well-defined or if there are direct dependencies between them, making changes to one object may require modifications to multiple other objects, leading to a tightly coupled system.\n",
    "Difficulty in Testing and Debugging:\n",
    "\n",
    "Testing and debugging composed systems can be challenging due to the interconnected nature of the composed objects.\n",
    "Identifying the root cause of issues or failures may require tracing through multiple layers of composed objects, making it harder to isolate and fix problems.\n",
    "Increased Memory Usage:\n",
    "\n",
    "Composing objects may result in increased memory usage, especially if multiple instances of the same composed object are created and maintained.\n",
    "Each composed object may have its own overhead, leading to higher memory consumption compared to a more streamlined design.\n",
    "Potential for Overhead:\n",
    "\n",
    "Composition can introduce additional overhead, such as the need to manage object relationships, handle communication between objects, and maintain consistency across the composed system.\n",
    "This overhead may impact performance and resource utilization, especially in systems with high computational or memory requirements.\n",
    "Complexity in Dependency Management:\n",
    "\n",
    "Managing dependencies between composed objects, especially in large and complex systems, can be challenging.\n",
    "Changes to one object may have cascading effects on other objects, requiring careful coordination and dependency management to avoid unintended consequences.\n",
    "Difficulty in Designing Interfaces:\n",
    "\n",
    "Designing clear and well-defined interfaces between composed objects is crucial for maintaining abstraction and encapsulation.\n",
    "However, defining interfaces that strike the right balance between flexibility and encapsulation can be challenging, especially in systems with evolving requirements.\n",
    "Overall, while composition is a powerful design technique that promotes code modularity and reusability, it is essential to be aware of its challenges and drawbacks and to carefully consider its implications when designing and implementing software systems. Striking the right balance between composition and other design principles, such as abstraction, encapsulation, and loose coupling, is key to building maintainable, scalable, and robust software systems."
   ]
  },
  {
   "cell_type": "markdown",
   "id": "9d869912-d540-4b2b-85b4-147f02b1bfdd",
   "metadata": {},
   "source": [
    "Ques14. Create a Python class hierarchy for a restaurant system, using composition to represent menus, dishes,\n",
    "and ingredients."
   ]
  },
  {
   "cell_type": "code",
   "execution_count": 124,
   "id": "ced509b7-6e84-4c24-b2c8-2f9b2cfb74b2",
   "metadata": {},
   "outputs": [
    {
     "name": "stdout",
     "output_type": "stream",
     "text": [
      "Menu: Italian Menu\n",
      "------------------------------\n",
      "Dish: Margherita Pizza\n",
      "Ingredients: Tomato: 2 pcs, Cheese: 100 g, Flour: 200 g\n",
      "Dish: Carbonara Pasta\n",
      "Ingredients: Tomato: 2 pcs, Cheese: 100 g\n"
     ]
    }
   ],
   "source": [
    "class Ingredient:\n",
    "    def __init__(self, name, quantity, unit):\n",
    "        self.name = name\n",
    "        self.quantity = quantity\n",
    "        self.unit = unit\n",
    "\n",
    "    def __str__(self):\n",
    "        return f\"{self.name}: {self.quantity} {self.unit}\"\n",
    "\n",
    "\n",
    "class Dish:\n",
    "    def __init__(self, name, ingredients):\n",
    "        self.name = name\n",
    "        self.ingredients = ingredients\n",
    "\n",
    "    def __str__(self):\n",
    "        return f\"Dish: {self.name}\\nIngredients: {', '.join(str(ingredient) for ingredient in self.ingredients)}\"\n",
    "\n",
    "\n",
    "class Menu:\n",
    "    def __init__(self, name, dishes):\n",
    "        self.name = name\n",
    "        self.dishes = dishes\n",
    "\n",
    "    def __str__(self):\n",
    "        return f\"Menu: {self.name}\\n{'-' * 30}\\n\" + '\\n'.join(str(dish) for dish in self.dishes)\n",
    "\n",
    "\n",
    "# Example usage:\n",
    "ingredient1 = Ingredient(\"Tomato\", 2, \"pcs\")\n",
    "ingredient2 = Ingredient(\"Cheese\", 100, \"g\")\n",
    "ingredient3 = Ingredient(\"Flour\", 200, \"g\")\n",
    "\n",
    "dish1 = Dish(\"Margherita Pizza\", [ingredient1, ingredient2, ingredient3])\n",
    "dish2 = Dish(\"Carbonara Pasta\", [ingredient1, ingredient2])\n",
    "\n",
    "menu = Menu(\"Italian Menu\", [dish1, dish2])\n",
    "print(menu)"
   ]
  },
  {
   "cell_type": "markdown",
   "id": "08977411-9b39-4079-a611-13d970ef3f5e",
   "metadata": {},
   "source": [
    "Ques15. Explain how composition enhances code maintainability and modularity in Python programs."
   ]
  },
  {
   "cell_type": "markdown",
   "id": "189ac728-a412-47cb-ab0a-bd29be65cd48",
   "metadata": {},
   "source": [
    "Composition enhances code maintainability and modularity in Python programs in several ways:\n",
    "\n",
    "Separation of Concerns:\n",
    "\n",
    "Composition allows for the separation of concerns by breaking down complex systems into smaller, more manageable components. Each component is responsible for a specific aspect of functionality, making it easier to understand, maintain, and extend the codebase.\n",
    "Code Reusability:\n",
    "\n",
    "Composition promotes code reusability by encapsulating common functionality within separate components. These components can be reused across different parts of the codebase or in different projects, reducing duplication of code and promoting consistency.\n",
    "Encapsulation:\n",
    "\n",
    "Composition promotes encapsulation by hiding the internal details of components and exposing only necessary interfaces to the outside world. This protects the integrity of the components and prevents external code from directly accessing or modifying their internal state.\n",
    "Flexibility and Extensibility:\n",
    "\n",
    "Composition enhances flexibility and extensibility by allowing components to be composed dynamically. New components can be added or existing components can be replaced or modified without affecting other parts of the system, making it easier to adapt to changing requirements.\n",
    "Loose Coupling:\n",
    "\n",
    "Composition promotes loose coupling between components by allowing them to interact through well-defined interfaces. This reduces dependencies between components, making the codebase more modular and easier to maintain.\n",
    "Simplified Testing and Debugging:\n",
    "\n",
    "Composition simplifies testing and debugging efforts by isolating components and their interactions. Each component can be tested independently, leading to more comprehensive test coverage and easier debugging of individual components.\n",
    "Promotion of Design Patterns:\n",
    "\n",
    "Composition encourages the use of design patterns that promote code maintainability and modularity, such as the Strategy pattern, Decorator pattern, and Dependency Injection pattern. These patterns leverage composition to assemble objects dynamically, allowing for greater flexibility and extensibility compared to inheritance-based approaches.\n",
    "Overall, composition enhances code maintainability and modularity by promoting separation of concerns, code reusability, encapsulation, flexibility, loose coupling, simplified testing and debugging, and the promotion of design patterns. By composing complex systems from simpler components, developers can build more maintainable, extensible, and scalable software solutions."
   ]
  },
  {
   "cell_type": "markdown",
   "id": "56437fa9-5d3d-4e97-8943-f0bcbcd10b73",
   "metadata": {},
   "source": [
    "Ques16. Create a Python class for a computer game character, using composition to represent attributes like\n",
    "weapons, armor, and inventory."
   ]
  },
  {
   "cell_type": "code",
   "execution_count": 125,
   "id": "08f7573f-1337-4f80-9c39-6f818162325c",
   "metadata": {},
   "outputs": [
    {
     "name": "stdout",
     "output_type": "stream",
     "text": [
      "Character: Hero\n",
      "Weapon: Sword (Damage: 20)\n",
      "Armor: Chainmail (Defense: 10)\n",
      "Inventory for Hero:\n",
      "Item: Health Potion (Quantity: 3)\n",
      "Item: Mana Potion (Quantity: 2)\n"
     ]
    }
   ],
   "source": [
    "class Weapon:\n",
    "    def __init__(self, name, damage):\n",
    "        self.name = name\n",
    "        self.damage = damage\n",
    "\n",
    "    def __str__(self):\n",
    "        return f\"Weapon: {self.name} (Damage: {self.damage})\"\n",
    "\n",
    "\n",
    "class Armor:\n",
    "    def __init__(self, name, defense):\n",
    "        self.name = name\n",
    "        self.defense = defense\n",
    "\n",
    "    def __str__(self):\n",
    "        return f\"Armor: {self.name} (Defense: {self.defense})\"\n",
    "\n",
    "\n",
    "class InventoryItem:\n",
    "    def __init__(self, name, quantity):\n",
    "        self.name = name\n",
    "        self.quantity = quantity\n",
    "\n",
    "    def __str__(self):\n",
    "        return f\"Item: {self.name} (Quantity: {self.quantity})\"\n",
    "\n",
    "\n",
    "class Character:\n",
    "    def __init__(self, name):\n",
    "        self.name = name\n",
    "        self.weapon = None\n",
    "        self.armor = None\n",
    "        self.inventory = []\n",
    "\n",
    "    def equip_weapon(self, weapon):\n",
    "        self.weapon = weapon\n",
    "\n",
    "    def equip_armor(self, armor):\n",
    "        self.armor = armor\n",
    "\n",
    "    def add_inventory_item(self, item):\n",
    "        self.inventory.append(item)\n",
    "\n",
    "    def display_inventory(self):\n",
    "        print(f\"Inventory for {self.name}:\")\n",
    "        for item in self.inventory:\n",
    "            print(item)\n",
    "\n",
    "    def __str__(self):\n",
    "        return f\"Character: {self.name}\\n{self.weapon}\\n{self.armor}\"\n",
    "\n",
    "\n",
    "# Example usage:\n",
    "weapon = Weapon(\"Sword\", 20)\n",
    "armor = Armor(\"Chainmail\", 10)\n",
    "item1 = InventoryItem(\"Health Potion\", 3)\n",
    "item2 = InventoryItem(\"Mana Potion\", 2)\n",
    "\n",
    "character = Character(\"Hero\")\n",
    "character.equip_weapon(weapon)\n",
    "character.equip_armor(armor)\n",
    "character.add_inventory_item(item1)\n",
    "character.add_inventory_item(item2)\n",
    "\n",
    "print(character)\n",
    "character.display_inventory()"
   ]
  },
  {
   "cell_type": "markdown",
   "id": "55e79f76-aa68-4e22-ab34-4a295575995d",
   "metadata": {},
   "source": [
    "Ques17. Describe the concept of \"aggregation\" in composition and how it differs from simple composition."
   ]
  },
  {
   "cell_type": "code",
   "execution_count": 126,
   "id": "5ac7db87-750e-4e9d-a561-407d7d6efe24",
   "metadata": {},
   "outputs": [],
   "source": [
    "class Course:\n",
    "    def __init__(self, course_code, course_name):\n",
    "        self.course_code = course_code\n",
    "        self.course_name = course_name\n",
    "\n",
    "class Department:\n",
    "    def __init__(self, dept_name):\n",
    "        self.dept_name = dept_name\n",
    "        self.courses = []\n",
    "\n",
    "    def add_course(self, course):\n",
    "        self.courses.append(course)\n",
    "\n",
    "# Example usage:\n",
    "math_course = Course(\"MATH101\", \"Introduction to Mathematics\")\n",
    "physics_course = Course(\"PHYS101\", \"Physics Fundamentals\")\n",
    "\n",
    "math_dept = Department(\"Mathematics Department\")\n",
    "math_dept.add_course(math_course)\n",
    "math_dept.add_course(physics_course)"
   ]
  },
  {
   "cell_type": "markdown",
   "id": "aa22b1aa-1911-41af-a97f-d0a80389fa96",
   "metadata": {},
   "source": [
    "Ques18. Create a Python class for a house, using composition to represent rooms, furniture, and appliances."
   ]
  },
  {
   "cell_type": "code",
   "execution_count": 127,
   "id": "4fdd9bd5-0a61-4a10-b06a-eb2978961f6c",
   "metadata": {},
   "outputs": [
    {
     "name": "stdout",
     "output_type": "stream",
     "text": [
      "House: My House\n",
      "Rooms:\n",
      "Room: Living Room\n",
      "Furniture:\n",
      "Furniture: Sofa\n",
      "Furniture: Coffee Table\n",
      "Appliances:\n",
      "Appliance: Television\n",
      "Room: Kitchen\n",
      "Furniture:\n",
      "Furniture: Dining Table\n",
      "Appliances:\n",
      "Appliance: Refrigerator\n",
      "Appliance: Microwave\n"
     ]
    }
   ],
   "source": [
    "class Furniture:\n",
    "    def __init__(self, name):\n",
    "        self.name = name\n",
    "\n",
    "    def __str__(self):\n",
    "        return f\"Furniture: {self.name}\"\n",
    "\n",
    "\n",
    "class Appliance:\n",
    "    def __init__(self, name):\n",
    "        self.name = name\n",
    "\n",
    "    def __str__(self):\n",
    "        return f\"Appliance: {self.name}\"\n",
    "\n",
    "\n",
    "class Room:\n",
    "    def __init__(self, name):\n",
    "        self.name = name\n",
    "        self.furniture = []\n",
    "        self.appliances = []\n",
    "\n",
    "    def add_furniture(self, furniture):\n",
    "        self.furniture.append(furniture)\n",
    "\n",
    "    def add_appliance(self, appliance):\n",
    "        self.appliances.append(appliance)\n",
    "\n",
    "    def __str__(self):\n",
    "        furniture_str = \"\\n\".join(str(item) for item in self.furniture)\n",
    "        appliance_str = \"\\n\".join(str(item) for item in self.appliances)\n",
    "        return f\"Room: {self.name}\\nFurniture:\\n{furniture_str}\\nAppliances:\\n{appliance_str}\"\n",
    "\n",
    "\n",
    "class House:\n",
    "    def __init__(self, name):\n",
    "        self.name = name\n",
    "        self.rooms = []\n",
    "\n",
    "    def add_room(self, room):\n",
    "        self.rooms.append(room)\n",
    "\n",
    "    def __str__(self):\n",
    "        room_str = \"\\n\".join(str(room) for room in self.rooms)\n",
    "        return f\"House: {self.name}\\nRooms:\\n{room_str}\"\n",
    "\n",
    "\n",
    "# Example usage:\n",
    "living_room = Room(\"Living Room\")\n",
    "living_room.add_furniture(Furniture(\"Sofa\"))\n",
    "living_room.add_furniture(Furniture(\"Coffee Table\"))\n",
    "living_room.add_appliance(Appliance(\"Television\"))\n",
    "\n",
    "kitchen = Room(\"Kitchen\")\n",
    "kitchen.add_furniture(Furniture(\"Dining Table\"))\n",
    "kitchen.add_appliance(Appliance(\"Refrigerator\"))\n",
    "kitchen.add_appliance(Appliance(\"Microwave\"))\n",
    "\n",
    "my_house = House(\"My House\")\n",
    "my_house.add_room(living_room)\n",
    "my_house.add_room(kitchen)\n",
    "\n",
    "print(my_house)\n"
   ]
  },
  {
   "cell_type": "markdown",
   "id": "0228e227-1410-43c7-9d7c-da08110b5798",
   "metadata": {},
   "source": [
    "Ques19. How can you achieve flexibility in composed objects by allowing them to be replaced or modified\n",
    "dynamically at runtime?"
   ]
  },
  {
   "cell_type": "markdown",
   "id": "b2e3c403-f67a-4d45-9e1d-13d6fe56f563",
   "metadata": {},
   "source": [
    "Ans19. Achieving flexibility in composed objects by allowing them to be replaced or modified dynamically at runtime can be accomplished through several techniques:\n",
    "\n",
    "Dependency Injection:\n",
    "\n",
    "Implement dependency injection, where the dependencies of an object (such as composed objects) are provided externally rather than created within the object itself. This allows different implementations of dependencies to be injected at runtime, making the object more flexible.\n",
    "For example, rather than instantiating a specific weapon directly within a character class, pass the weapon object as a parameter to the character constructor.\n",
    "Factory Method Pattern:\n",
    "\n",
    "Use the factory method pattern to encapsulate the creation of composed objects. Define an interface or base class for creating objects, and provide concrete implementations or subclasses that instantiate different composed objects.\n",
    "At runtime, choose the appropriate factory method or subclass to create the desired composed objects, allowing for dynamic replacement or modification.\n",
    "Strategy Pattern:\n",
    "\n",
    "Apply the strategy pattern, where different algorithms or behaviors (represented by composed objects) are encapsulated in separate classes. The context class (e.g., the character) holds a reference to a strategy interface and can switch between different strategies dynamically.\n",
    "This allows for flexible behavior modification at runtime without directly changing the context class.\n",
    "Dynamic Composition:\n",
    "\n",
    "Implement dynamic composition, where composed objects are created, replaced, or modified dynamically during runtime based on certain conditions or user input.\n",
    "This approach involves managing the lifecycle of composed objects and updating the composition hierarchy as needed to achieve flexibility.\n",
    "Configuration or External Data Sources:\n",
    "\n",
    "Load configuration data or dependencies from external sources such as configuration files, databases, or APIs. This allows for runtime modification of composed objects by updating the configuration without modifying the code.\n",
    "For example, load different weapon configurations or inventory items from a JSON file and use them to dynamically create composed objects.\n",
    "Dependency Inversion Principle (DIP):\n",
    "\n",
    "Follow the dependency inversion principle, where higher-level modules (e.g., the character class) depend on abstractions (e.g., interfaces) rather than concrete implementations. This allows for swapping out implementations of composed objects without affecting the higher-level modules.\n",
    "Use interfaces or abstract base classes to define the contract for composed objects, and provide different implementations that adhere to the same interface.\n",
    "By employing these techniques, you can achieve flexibility in composed objects, allowing them to be replaced or modified dynamically at runtime based on changing requirements or conditions. This enhances the adaptability and extensibility of the system without requiring extensive code modifications."
   ]
  },
  {
   "cell_type": "markdown",
   "id": "7286814c-820c-4306-aa54-b49d21c9b0a8",
   "metadata": {},
   "source": [
    "Ques20. Create a Python class for a social media application, using composition to represent users, posts, and\n",
    "comments."
   ]
  },
  {
   "cell_type": "code",
   "execution_count": 128,
   "id": "fa0d67d3-4d65-4212-a6d3-37607584f5a9",
   "metadata": {},
   "outputs": [
    {
     "name": "stdout",
     "output_type": "stream",
     "text": [
      "Post by Alice:\n",
      "Hello, world!\n",
      "Comments:\n",
      "Bob: Nice post!\n",
      "Alice: Thanks!\n",
      "\n",
      "Post by Bob:\n",
      "Good morning!\n",
      "Comments:\n",
      "Alice: Have a great day!\n"
     ]
    }
   ],
   "source": [
    "class Comment:\n",
    "    def __init__(self, user, content):\n",
    "        self.user = user\n",
    "        self.content = content\n",
    "\n",
    "    def __str__(self):\n",
    "        return f\"{self.user}: {self.content}\"\n",
    "\n",
    "\n",
    "class Post:\n",
    "    def __init__(self, user, content):\n",
    "        self.user = user\n",
    "        self.content = content\n",
    "        self.comments = []\n",
    "\n",
    "    def add_comment(self, comment):\n",
    "        self.comments.append(comment)\n",
    "\n",
    "    def display_comments(self):\n",
    "        for comment in self.comments:\n",
    "            print(comment)\n",
    "\n",
    "    def __str__(self):\n",
    "        return f\"Post by {self.user}:\\n{self.content}\\nComments:\"\n",
    "        \n",
    "\n",
    "class User:\n",
    "    def __init__(self, username):\n",
    "        self.username = username\n",
    "        self.posts = []\n",
    "\n",
    "    def create_post(self, content):\n",
    "        post = Post(self.username, content)\n",
    "        self.posts.append(post)\n",
    "        return post\n",
    "\n",
    "    def __str__(self):\n",
    "        return f\"User: {self.username}\"\n",
    "\n",
    "\n",
    "# Example usage:\n",
    "user1 = User(\"Alice\")\n",
    "user2 = User(\"Bob\")\n",
    "\n",
    "post1 = user1.create_post(\"Hello, world!\")\n",
    "post1.add_comment(Comment(user2.username, \"Nice post!\"))\n",
    "post1.add_comment(Comment(user1.username, \"Thanks!\"))\n",
    "\n",
    "post2 = user2.create_post(\"Good morning!\")\n",
    "post2.add_comment(Comment(user1.username, \"Have a great day!\"))\n",
    "\n",
    "print(post1)\n",
    "post1.display_comments()\n",
    "print()\n",
    "print(post2)\n",
    "post2.display_comments()"
   ]
  },
  {
   "cell_type": "code",
   "execution_count": null,
   "id": "d5c9d9c6-8e00-45fc-88df-cabfba3aaba4",
   "metadata": {},
   "outputs": [],
   "source": []
  },
  {
   "cell_type": "code",
   "execution_count": null,
   "id": "fb143006-14d4-41f4-ba93-fa3b33a1d27c",
   "metadata": {},
   "outputs": [],
   "source": []
  },
  {
   "cell_type": "code",
   "execution_count": null,
   "id": "95417fb6-6d30-416b-ac21-6b521f1a41ac",
   "metadata": {},
   "outputs": [],
   "source": []
  },
  {
   "cell_type": "code",
   "execution_count": null,
   "id": "f27237e8-002f-4c62-8912-fe54b41702ed",
   "metadata": {},
   "outputs": [],
   "source": []
  },
  {
   "cell_type": "code",
   "execution_count": null,
   "id": "b344be1d-8fca-41ee-8cb7-2d922429f3c4",
   "metadata": {},
   "outputs": [],
   "source": []
  },
  {
   "cell_type": "code",
   "execution_count": null,
   "id": "052eea0e-0f51-4406-88fb-3249411e4646",
   "metadata": {},
   "outputs": [],
   "source": []
  },
  {
   "cell_type": "code",
   "execution_count": null,
   "id": "5df6c6dc-df8b-4c23-bc81-580843366fc0",
   "metadata": {},
   "outputs": [],
   "source": []
  },
  {
   "cell_type": "code",
   "execution_count": null,
   "id": "f95c42ac-044c-4897-bb65-942728d57ed4",
   "metadata": {},
   "outputs": [],
   "source": []
  },
  {
   "cell_type": "code",
   "execution_count": null,
   "id": "d2f6470c-8edb-47d4-bf3b-5f52e26cbec6",
   "metadata": {},
   "outputs": [],
   "source": []
  },
  {
   "cell_type": "code",
   "execution_count": null,
   "id": "5b968a9e-330f-40de-8ae7-b0c9bbf4555b",
   "metadata": {},
   "outputs": [],
   "source": []
  },
  {
   "cell_type": "code",
   "execution_count": null,
   "id": "dc4dd69d-9eee-4fc5-ad09-07f7a51e7eef",
   "metadata": {},
   "outputs": [],
   "source": []
  },
  {
   "cell_type": "code",
   "execution_count": null,
   "id": "997ea57f-492b-4549-bcb8-a7446ddcb704",
   "metadata": {},
   "outputs": [],
   "source": []
  },
  {
   "cell_type": "code",
   "execution_count": null,
   "id": "4f2be0cc-e916-4606-b5fe-14d3cefbc8b3",
   "metadata": {},
   "outputs": [],
   "source": []
  },
  {
   "cell_type": "code",
   "execution_count": null,
   "id": "e6be37de-e540-4a4d-b420-497ebc648e3f",
   "metadata": {},
   "outputs": [],
   "source": []
  },
  {
   "cell_type": "code",
   "execution_count": null,
   "id": "77851332-f245-4a86-8461-e51552e411db",
   "metadata": {},
   "outputs": [],
   "source": []
  },
  {
   "cell_type": "code",
   "execution_count": null,
   "id": "6ba3f45f-18db-4268-90f0-3b76daabf51f",
   "metadata": {},
   "outputs": [],
   "source": []
  },
  {
   "cell_type": "code",
   "execution_count": null,
   "id": "8893086e-a690-4f3a-968f-47bb115e2040",
   "metadata": {},
   "outputs": [],
   "source": []
  },
  {
   "cell_type": "code",
   "execution_count": null,
   "id": "362dd9e7-99a1-4166-b714-795d74c5a8fe",
   "metadata": {},
   "outputs": [],
   "source": []
  },
  {
   "cell_type": "code",
   "execution_count": null,
   "id": "1265bca1-bc3c-4e36-b657-b797064e28af",
   "metadata": {},
   "outputs": [],
   "source": []
  },
  {
   "cell_type": "code",
   "execution_count": null,
   "id": "7de1f457-69b2-4faf-b55a-a0dd6d1edc9d",
   "metadata": {},
   "outputs": [],
   "source": []
  },
  {
   "cell_type": "code",
   "execution_count": null,
   "id": "fe908e03-c1b7-4e53-8a95-82da70188673",
   "metadata": {},
   "outputs": [],
   "source": []
  },
  {
   "cell_type": "code",
   "execution_count": null,
   "id": "e29fab24-4522-4c47-b849-38b0ff5e0806",
   "metadata": {},
   "outputs": [],
   "source": []
  },
  {
   "cell_type": "code",
   "execution_count": null,
   "id": "3052348c-5ffc-4ad6-8989-7b59f1c17277",
   "metadata": {},
   "outputs": [],
   "source": []
  },
  {
   "cell_type": "code",
   "execution_count": null,
   "id": "67d277dd-695d-4515-89bc-51864ee56320",
   "metadata": {},
   "outputs": [],
   "source": []
  },
  {
   "cell_type": "code",
   "execution_count": null,
   "id": "accf8ec6-c296-48e2-a87d-c26bd1f3e468",
   "metadata": {},
   "outputs": [],
   "source": []
  },
  {
   "cell_type": "code",
   "execution_count": null,
   "id": "486758d2-7f29-470e-b6ce-0547c049e071",
   "metadata": {},
   "outputs": [],
   "source": []
  },
  {
   "cell_type": "code",
   "execution_count": null,
   "id": "ad5f340a-00b7-4ee9-8c52-e2829d23d1bb",
   "metadata": {},
   "outputs": [],
   "source": []
  },
  {
   "cell_type": "code",
   "execution_count": null,
   "id": "f05b35e9-2240-4aaa-9185-73d7a4867b1f",
   "metadata": {},
   "outputs": [],
   "source": []
  },
  {
   "cell_type": "code",
   "execution_count": null,
   "id": "90b66cdb-ddc2-4615-a147-5ef86d72e7c3",
   "metadata": {},
   "outputs": [],
   "source": []
  },
  {
   "cell_type": "code",
   "execution_count": null,
   "id": "450b7ae3-365a-44ca-b34e-c13162f9dffd",
   "metadata": {},
   "outputs": [],
   "source": []
  },
  {
   "cell_type": "code",
   "execution_count": null,
   "id": "70971293-56f3-4427-9950-b80c9cbf0373",
   "metadata": {},
   "outputs": [],
   "source": []
  },
  {
   "cell_type": "code",
   "execution_count": null,
   "id": "12fff0a1-7dd6-4e60-a71d-80371e2339bc",
   "metadata": {},
   "outputs": [],
   "source": []
  },
  {
   "cell_type": "code",
   "execution_count": null,
   "id": "4c73d81b-2c03-4ddc-af98-d386f62610c3",
   "metadata": {},
   "outputs": [],
   "source": []
  },
  {
   "cell_type": "code",
   "execution_count": null,
   "id": "e252942c-651a-42e7-889e-9fca263378a8",
   "metadata": {},
   "outputs": [],
   "source": []
  },
  {
   "cell_type": "code",
   "execution_count": null,
   "id": "b474b025-74f4-4438-831a-0b2ec0c50101",
   "metadata": {},
   "outputs": [],
   "source": []
  },
  {
   "cell_type": "code",
   "execution_count": null,
   "id": "7b08ff4e-a8a7-4816-b9fb-9b40014f4743",
   "metadata": {},
   "outputs": [],
   "source": []
  },
  {
   "cell_type": "code",
   "execution_count": null,
   "id": "1ce776ce-bce3-4d4d-8d7a-255d4c8b2cbf",
   "metadata": {},
   "outputs": [],
   "source": []
  },
  {
   "cell_type": "code",
   "execution_count": null,
   "id": "685b887d-9f18-4bd1-b756-e277857305ad",
   "metadata": {},
   "outputs": [],
   "source": []
  },
  {
   "cell_type": "code",
   "execution_count": null,
   "id": "46aece4d-c1ff-482a-b1ff-e11832fd1cbb",
   "metadata": {},
   "outputs": [],
   "source": []
  },
  {
   "cell_type": "code",
   "execution_count": null,
   "id": "16d2c40f-fc53-4bee-aba7-1dfb14ca02c5",
   "metadata": {},
   "outputs": [],
   "source": []
  },
  {
   "cell_type": "code",
   "execution_count": null,
   "id": "4861deaf-7551-4179-ac35-bbe2518c83dd",
   "metadata": {},
   "outputs": [],
   "source": []
  },
  {
   "cell_type": "code",
   "execution_count": null,
   "id": "17b08018-109f-4021-8f6a-896c914f5594",
   "metadata": {},
   "outputs": [],
   "source": []
  },
  {
   "cell_type": "code",
   "execution_count": null,
   "id": "cabdd59a-cd40-4dd9-9a0c-9d3a8dfc6013",
   "metadata": {},
   "outputs": [],
   "source": []
  },
  {
   "cell_type": "code",
   "execution_count": null,
   "id": "58ec6423-b389-4dd3-810f-1c1f4a3b796c",
   "metadata": {},
   "outputs": [],
   "source": []
  },
  {
   "cell_type": "code",
   "execution_count": null,
   "id": "ca0cd0b6-18ee-425b-a76c-f55dbfdb7b33",
   "metadata": {},
   "outputs": [],
   "source": []
  },
  {
   "cell_type": "code",
   "execution_count": null,
   "id": "7eaa98b9-21cb-40e1-b351-e103136ec7ec",
   "metadata": {},
   "outputs": [],
   "source": []
  },
  {
   "cell_type": "code",
   "execution_count": null,
   "id": "a25ac432-09e9-43e2-83c8-ddd84ab37497",
   "metadata": {},
   "outputs": [],
   "source": []
  },
  {
   "cell_type": "code",
   "execution_count": null,
   "id": "928e1335-5ebb-4bb3-9547-331f50617aa1",
   "metadata": {},
   "outputs": [],
   "source": []
  }
 ],
 "metadata": {
  "kernelspec": {
   "display_name": "Python 3 (ipykernel)",
   "language": "python",
   "name": "python3"
  },
  "language_info": {
   "codemirror_mode": {
    "name": "ipython",
    "version": 3
   },
   "file_extension": ".py",
   "mimetype": "text/x-python",
   "name": "python",
   "nbconvert_exporter": "python",
   "pygments_lexer": "ipython3",
   "version": "3.10.8"
  }
 },
 "nbformat": 4,
 "nbformat_minor": 5
}
